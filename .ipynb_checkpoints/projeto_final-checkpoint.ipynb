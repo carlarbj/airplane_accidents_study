{
 "cells": [
  {
   "cell_type": "code",
   "execution_count": 2,
   "id": "2e5d817c",
   "metadata": {
    "ExecuteTime": {
     "end_time": "2021-12-11T17:06:12.012049Z",
     "start_time": "2021-12-11T17:06:11.981780Z"
    }
   },
   "outputs": [],
   "source": [
    "import tqdm\n",
    "import pandas as pd\n",
    "import numpy as np\n",
    "import requests\n",
    "from bs4 import BeautifulSoup"
   ]
  },
  {
   "cell_type": "markdown",
   "id": "854a272b",
   "metadata": {},
   "source": [
    "# The url"
   ]
  },
  {
   "cell_type": "code",
   "execution_count": 15,
   "id": "4ef74f8b",
   "metadata": {
    "ExecuteTime": {
     "end_time": "2021-12-11T13:32:57.344187Z",
     "start_time": "2021-12-11T13:32:57.331221Z"
    }
   },
   "outputs": [],
   "source": [
    "url='https://aviation-safety.net/database/record.php?id=20181231-0'"
   ]
  },
  {
   "cell_type": "code",
   "execution_count": 18,
   "id": "d1a2c61b",
   "metadata": {
    "ExecuteTime": {
     "end_time": "2021-12-11T13:33:11.244279Z",
     "start_time": "2021-12-11T13:33:10.442122Z"
    }
   },
   "outputs": [
    {
     "data": {
      "text/plain": [
       "<Response [200]>"
      ]
     },
     "execution_count": 18,
     "metadata": {},
     "output_type": "execute_result"
    }
   ],
   "source": [
    "response = requests.get('https://aviation-safety.net/database/record.php?id=20181231-0')\n",
    "response"
   ]
  },
  {
   "cell_type": "code",
   "execution_count": 19,
   "id": "34cf2ebd",
   "metadata": {
    "ExecuteTime": {
     "end_time": "2021-12-11T13:33:13.012831Z",
     "start_time": "2021-12-11T13:33:12.999862Z"
    }
   },
   "outputs": [
    {
     "data": {
      "text/plain": [
       "'Sorry, something went wrong. You can contact us via info@aviation-safety.net, should the problem persist.'"
      ]
     },
     "execution_count": 19,
     "metadata": {},
     "output_type": "execute_result"
    }
   ],
   "source": [
    "response.text"
   ]
  },
  {
   "cell_type": "code",
   "execution_count": 5,
   "id": "7295635c",
   "metadata": {
    "ExecuteTime": {
     "end_time": "2021-12-11T13:07:36.041185Z",
     "start_time": "2021-12-11T13:07:36.027214Z"
    }
   },
   "outputs": [
    {
     "name": "stdout",
     "output_type": "stream",
     "text": [
      "b'Sorry, something went wrong. You can contact us via info@aviation-safety.net, should the problem persist.'\n"
     ]
    }
   ],
   "source": [
    "print(response.content)"
   ]
  },
  {
   "cell_type": "markdown",
   "id": "a636264f",
   "metadata": {},
   "source": [
    "# Get HTML"
   ]
  },
  {
   "cell_type": "code",
   "execution_count": 20,
   "id": "403ec18a",
   "metadata": {
    "ExecuteTime": {
     "end_time": "2021-12-11T13:57:37.643616Z",
     "start_time": "2021-12-11T13:57:36.485826Z"
    }
   },
   "outputs": [
    {
     "data": {
      "text/plain": [
       "[]"
      ]
     },
     "execution_count": 20,
     "metadata": {},
     "output_type": "execute_result"
    }
   ],
   "source": [
    "import re\n",
    "re.findall('<h1.+</h1>',response.text)"
   ]
  },
  {
   "cell_type": "code",
   "execution_count": 3,
   "id": "b0a91860",
   "metadata": {
    "ExecuteTime": {
     "end_time": "2021-12-11T17:06:15.722577Z",
     "start_time": "2021-12-11T17:06:12.118373Z"
    }
   },
   "outputs": [],
   "source": [
    "import pandas as pd\n",
    "from selenium import webdriver\n",
    "from selenium.webdriver.chrome.service import Service"
   ]
  },
  {
   "cell_type": "code",
   "execution_count": 4,
   "id": "0ad0c4fb",
   "metadata": {
    "ExecuteTime": {
     "end_time": "2021-12-11T17:06:16.478560Z",
     "start_time": "2021-12-11T17:06:16.459114Z"
    }
   },
   "outputs": [],
   "source": [
    "chrome_path = 'C:/Users/carla/OneDrive/Área de Trabalho/chromedriver'\n",
    "ser = Service(chrome_path)"
   ]
  },
  {
   "cell_type": "code",
   "execution_count": 5,
   "id": "773cfa21",
   "metadata": {
    "ExecuteTime": {
     "end_time": "2021-12-11T17:06:48.586052Z",
     "start_time": "2021-12-11T17:06:17.126784Z"
    }
   },
   "outputs": [],
   "source": [
    "driver = webdriver.Chrome(service=ser)"
   ]
  },
  {
   "cell_type": "code",
   "execution_count": 11,
   "id": "40ce4be8",
   "metadata": {
    "ExecuteTime": {
     "end_time": "2021-12-11T17:08:37.897261Z",
     "start_time": "2021-12-11T17:08:36.022444Z"
    }
   },
   "outputs": [],
   "source": [
    "driver.get(url)"
   ]
  },
  {
   "cell_type": "code",
   "execution_count": 21,
   "id": "4aa1b955",
   "metadata": {
    "ExecuteTime": {
     "end_time": "2021-12-11T17:22:26.163427Z",
     "start_time": "2021-12-11T17:22:26.038376Z"
    },
    "collapsed": true
   },
   "outputs": [
    {
     "name": "stderr",
     "output_type": "stream",
     "text": [
      "C:\\Users\\carla\\anaconda3\\lib\\site-packages\\selenium\\webdriver\\remote\\webelement.py:358: UserWarning: find_elements_by_* commands are deprecated. Please use find_elements() instead\n",
      "  warnings.warn(\"find_elements_by_* commands are deprecated. Please use find_elements() instead\")\n"
     ]
    },
    {
     "data": {
      "text/plain": [
       "[<selenium.webdriver.remote.webelement.WebElement (session=\"00bb9ff52bc5c5abefb2a975e96b2fd0\", element=\"d173d664-1642-4064-8470-14982c7adb11\")>,\n",
       " <selenium.webdriver.remote.webelement.WebElement (session=\"00bb9ff52bc5c5abefb2a975e96b2fd0\", element=\"7a67cd9f-a8db-45f9-83c3-9cad20cda7ee\")>,\n",
       " <selenium.webdriver.remote.webelement.WebElement (session=\"00bb9ff52bc5c5abefb2a975e96b2fd0\", element=\"bf9fe81a-4fe7-4cde-a327-3d3290c2edda\")>,\n",
       " <selenium.webdriver.remote.webelement.WebElement (session=\"00bb9ff52bc5c5abefb2a975e96b2fd0\", element=\"2430f3cf-3861-47bf-a27d-ea6c6869f483\")>,\n",
       " <selenium.webdriver.remote.webelement.WebElement (session=\"00bb9ff52bc5c5abefb2a975e96b2fd0\", element=\"e94810c8-525f-48c2-9503-a3d2fdb8e4d6\")>,\n",
       " <selenium.webdriver.remote.webelement.WebElement (session=\"00bb9ff52bc5c5abefb2a975e96b2fd0\", element=\"2ee596e4-7f80-4e07-86be-26301489725e\")>,\n",
       " <selenium.webdriver.remote.webelement.WebElement (session=\"00bb9ff52bc5c5abefb2a975e96b2fd0\", element=\"36e465c8-f801-4851-a5ec-7a43d09b5a61\")>,\n",
       " <selenium.webdriver.remote.webelement.WebElement (session=\"00bb9ff52bc5c5abefb2a975e96b2fd0\", element=\"2ee90730-4a07-4bbb-a73f-d20643adeae7\")>,\n",
       " <selenium.webdriver.remote.webelement.WebElement (session=\"00bb9ff52bc5c5abefb2a975e96b2fd0\", element=\"99afb5c5-a420-413d-84c8-3ce9c121b72a\")>,\n",
       " <selenium.webdriver.remote.webelement.WebElement (session=\"00bb9ff52bc5c5abefb2a975e96b2fd0\", element=\"1acc8e68-45a3-434e-8f12-3d0996fb1294\")>,\n",
       " <selenium.webdriver.remote.webelement.WebElement (session=\"00bb9ff52bc5c5abefb2a975e96b2fd0\", element=\"234be0f0-f9d5-4ede-babf-f36ced2d5e45\")>,\n",
       " <selenium.webdriver.remote.webelement.WebElement (session=\"00bb9ff52bc5c5abefb2a975e96b2fd0\", element=\"1b931844-0bb2-4b45-8207-5b93f8a4bba4\")>,\n",
       " <selenium.webdriver.remote.webelement.WebElement (session=\"00bb9ff52bc5c5abefb2a975e96b2fd0\", element=\"3629c382-e648-4ca8-a6f2-cf22fd15ffa2\")>,\n",
       " <selenium.webdriver.remote.webelement.WebElement (session=\"00bb9ff52bc5c5abefb2a975e96b2fd0\", element=\"bc412fe1-cbdf-4d4d-8f75-69d6e9801014\")>,\n",
       " <selenium.webdriver.remote.webelement.WebElement (session=\"00bb9ff52bc5c5abefb2a975e96b2fd0\", element=\"c9c48490-1b4c-415a-ab2e-2f19592ed61f\")>,\n",
       " <selenium.webdriver.remote.webelement.WebElement (session=\"00bb9ff52bc5c5abefb2a975e96b2fd0\", element=\"ff76720b-e7b4-4b3c-ab3d-b9f85c3eef98\")>,\n",
       " <selenium.webdriver.remote.webelement.WebElement (session=\"00bb9ff52bc5c5abefb2a975e96b2fd0\", element=\"59369b96-27d1-450a-bf13-9e2d9cbcd39a\")>,\n",
       " <selenium.webdriver.remote.webelement.WebElement (session=\"00bb9ff52bc5c5abefb2a975e96b2fd0\", element=\"4c5f0121-2ebe-4901-8128-f9d53a5ff5b3\")>,\n",
       " <selenium.webdriver.remote.webelement.WebElement (session=\"00bb9ff52bc5c5abefb2a975e96b2fd0\", element=\"47379a3e-5386-4ea9-a344-87d04976b5e3\")>,\n",
       " <selenium.webdriver.remote.webelement.WebElement (session=\"00bb9ff52bc5c5abefb2a975e96b2fd0\", element=\"0f19f650-8458-4fda-bbd9-4381c1d70d4c\")>,\n",
       " <selenium.webdriver.remote.webelement.WebElement (session=\"00bb9ff52bc5c5abefb2a975e96b2fd0\", element=\"f9881211-5491-4c47-8e34-3c629b84f01b\")>,\n",
       " <selenium.webdriver.remote.webelement.WebElement (session=\"00bb9ff52bc5c5abefb2a975e96b2fd0\", element=\"f8155932-563d-40de-8e53-a3f78ab8b12e\")>,\n",
       " <selenium.webdriver.remote.webelement.WebElement (session=\"00bb9ff52bc5c5abefb2a975e96b2fd0\", element=\"cb5001d8-d93c-4be4-a47c-8cad9eef62d4\")>,\n",
       " <selenium.webdriver.remote.webelement.WebElement (session=\"00bb9ff52bc5c5abefb2a975e96b2fd0\", element=\"59aa93c3-be9f-4785-8761-13085fde6ea9\")>,\n",
       " <selenium.webdriver.remote.webelement.WebElement (session=\"00bb9ff52bc5c5abefb2a975e96b2fd0\", element=\"2d61fbdc-a77a-4c14-b6f6-a9334428e42a\")>,\n",
       " <selenium.webdriver.remote.webelement.WebElement (session=\"00bb9ff52bc5c5abefb2a975e96b2fd0\", element=\"2ade31c1-bd4f-4adc-826f-9d327a6c69bd\")>,\n",
       " <selenium.webdriver.remote.webelement.WebElement (session=\"00bb9ff52bc5c5abefb2a975e96b2fd0\", element=\"1d53a2cc-51a1-4c5a-80da-f96d95ed5322\")>,\n",
       " <selenium.webdriver.remote.webelement.WebElement (session=\"00bb9ff52bc5c5abefb2a975e96b2fd0\", element=\"82f8751b-d2ff-4dd1-ba1a-8e9a323dd018\")>,\n",
       " <selenium.webdriver.remote.webelement.WebElement (session=\"00bb9ff52bc5c5abefb2a975e96b2fd0\", element=\"e29d5d70-5828-4ae7-8815-a0300b3446d7\")>,\n",
       " <selenium.webdriver.remote.webelement.WebElement (session=\"00bb9ff52bc5c5abefb2a975e96b2fd0\", element=\"f7298f54-6a56-4bef-a8cd-15df3f2416ad\")>,\n",
       " <selenium.webdriver.remote.webelement.WebElement (session=\"00bb9ff52bc5c5abefb2a975e96b2fd0\", element=\"5aaf4831-0778-455e-a48b-1981270fe492\")>,\n",
       " <selenium.webdriver.remote.webelement.WebElement (session=\"00bb9ff52bc5c5abefb2a975e96b2fd0\", element=\"7d380311-4cf3-4545-9bbb-8c910f6aace1\")>,\n",
       " <selenium.webdriver.remote.webelement.WebElement (session=\"00bb9ff52bc5c5abefb2a975e96b2fd0\", element=\"81b067b5-a43a-423e-ab00-3be51694f887\")>,\n",
       " <selenium.webdriver.remote.webelement.WebElement (session=\"00bb9ff52bc5c5abefb2a975e96b2fd0\", element=\"962890a9-1c60-4c2b-bf3f-1b2d8dce1c54\")>,\n",
       " <selenium.webdriver.remote.webelement.WebElement (session=\"00bb9ff52bc5c5abefb2a975e96b2fd0\", element=\"d6df5b41-1cfc-44ab-a525-833a67a483e6\")>,\n",
       " <selenium.webdriver.remote.webelement.WebElement (session=\"00bb9ff52bc5c5abefb2a975e96b2fd0\", element=\"85cc5f77-1863-4729-8c2c-fc50cb671858\")>,\n",
       " <selenium.webdriver.remote.webelement.WebElement (session=\"00bb9ff52bc5c5abefb2a975e96b2fd0\", element=\"49b23c2f-b324-4d2d-afbc-9f76d710a70f\")>,\n",
       " <selenium.webdriver.remote.webelement.WebElement (session=\"00bb9ff52bc5c5abefb2a975e96b2fd0\", element=\"e766c5c2-364c-4fc5-a21b-0e1aae7d742c\")>,\n",
       " <selenium.webdriver.remote.webelement.WebElement (session=\"00bb9ff52bc5c5abefb2a975e96b2fd0\", element=\"d5e98a80-ed1d-47f4-be32-cf01714751b0\")>,\n",
       " <selenium.webdriver.remote.webelement.WebElement (session=\"00bb9ff52bc5c5abefb2a975e96b2fd0\", element=\"8ceb49eb-e5b4-4cc0-a3b8-913978bd74a5\")>,\n",
       " <selenium.webdriver.remote.webelement.WebElement (session=\"00bb9ff52bc5c5abefb2a975e96b2fd0\", element=\"bf2aad9f-0f1b-459c-86ff-640f154d3e51\")>,\n",
       " <selenium.webdriver.remote.webelement.WebElement (session=\"00bb9ff52bc5c5abefb2a975e96b2fd0\", element=\"e7297bb1-2014-4e94-b1d5-4956a4a6e507\")>,\n",
       " <selenium.webdriver.remote.webelement.WebElement (session=\"00bb9ff52bc5c5abefb2a975e96b2fd0\", element=\"07fb17de-f206-4e8c-b566-2fde63846b90\")>,\n",
       " <selenium.webdriver.remote.webelement.WebElement (session=\"00bb9ff52bc5c5abefb2a975e96b2fd0\", element=\"d876bcb8-c36e-4680-b9bc-07094798daf3\")>,\n",
       " <selenium.webdriver.remote.webelement.WebElement (session=\"00bb9ff52bc5c5abefb2a975e96b2fd0\", element=\"2c557861-3172-47b0-b6ac-c8c1bd7b8849\")>,\n",
       " <selenium.webdriver.remote.webelement.WebElement (session=\"00bb9ff52bc5c5abefb2a975e96b2fd0\", element=\"34f69ddd-daf7-4714-9a11-13e3f6660ac9\")>,\n",
       " <selenium.webdriver.remote.webelement.WebElement (session=\"00bb9ff52bc5c5abefb2a975e96b2fd0\", element=\"4477e07b-957a-4f4c-8fa2-7cd7fb8333d4\")>,\n",
       " <selenium.webdriver.remote.webelement.WebElement (session=\"00bb9ff52bc5c5abefb2a975e96b2fd0\", element=\"ceb5aca4-715a-4aa9-8081-42cce12f34ec\")>,\n",
       " <selenium.webdriver.remote.webelement.WebElement (session=\"00bb9ff52bc5c5abefb2a975e96b2fd0\", element=\"05953899-688d-43d2-a8a6-1b7a21a47a06\")>,\n",
       " <selenium.webdriver.remote.webelement.WebElement (session=\"00bb9ff52bc5c5abefb2a975e96b2fd0\", element=\"d43c077e-a59a-4efc-959f-3d5fd9a27e79\")>,\n",
       " <selenium.webdriver.remote.webelement.WebElement (session=\"00bb9ff52bc5c5abefb2a975e96b2fd0\", element=\"34bfd816-bb12-4bd2-bf0f-0fe0bca9c305\")>,\n",
       " <selenium.webdriver.remote.webelement.WebElement (session=\"00bb9ff52bc5c5abefb2a975e96b2fd0\", element=\"6cee3365-9bd3-4443-adb0-b81f8893c682\")>,\n",
       " <selenium.webdriver.remote.webelement.WebElement (session=\"00bb9ff52bc5c5abefb2a975e96b2fd0\", element=\"13264d3b-16dd-416a-a014-e16de72ad2ff\")>,\n",
       " <selenium.webdriver.remote.webelement.WebElement (session=\"00bb9ff52bc5c5abefb2a975e96b2fd0\", element=\"a30db82a-3d02-4b8d-9984-8efb7bc611fb\")>,\n",
       " <selenium.webdriver.remote.webelement.WebElement (session=\"00bb9ff52bc5c5abefb2a975e96b2fd0\", element=\"b3b6aebd-b28f-43cc-990f-f882a22fb503\")>,\n",
       " <selenium.webdriver.remote.webelement.WebElement (session=\"00bb9ff52bc5c5abefb2a975e96b2fd0\", element=\"1f645c28-1ca8-467d-8f86-e9b8e964ff50\")>,\n",
       " <selenium.webdriver.remote.webelement.WebElement (session=\"00bb9ff52bc5c5abefb2a975e96b2fd0\", element=\"95086a19-42cd-412b-9baa-c0c743d930ad\")>,\n",
       " <selenium.webdriver.remote.webelement.WebElement (session=\"00bb9ff52bc5c5abefb2a975e96b2fd0\", element=\"4c1b3dac-a040-4b9a-a8eb-015e0bd9bd94\")>,\n",
       " <selenium.webdriver.remote.webelement.WebElement (session=\"00bb9ff52bc5c5abefb2a975e96b2fd0\", element=\"5c5ad8c3-c378-4166-9d20-ffc1457badd2\")>,\n",
       " <selenium.webdriver.remote.webelement.WebElement (session=\"00bb9ff52bc5c5abefb2a975e96b2fd0\", element=\"7f57ab06-30f5-4ae8-8cf4-fa84e5d87dae\")>,\n",
       " <selenium.webdriver.remote.webelement.WebElement (session=\"00bb9ff52bc5c5abefb2a975e96b2fd0\", element=\"cccf0eef-7d94-4573-8822-b2e7d5288740\")>,\n",
       " <selenium.webdriver.remote.webelement.WebElement (session=\"00bb9ff52bc5c5abefb2a975e96b2fd0\", element=\"c4a29a1e-373c-4e91-aef8-e2e72589d059\")>,\n",
       " <selenium.webdriver.remote.webelement.WebElement (session=\"00bb9ff52bc5c5abefb2a975e96b2fd0\", element=\"b7e39687-01ee-4e20-8ddb-08701ab716d1\")>,\n",
       " <selenium.webdriver.remote.webelement.WebElement (session=\"00bb9ff52bc5c5abefb2a975e96b2fd0\", element=\"4f53c394-370e-4252-a837-8e93550cc0e6\")>,\n",
       " <selenium.webdriver.remote.webelement.WebElement (session=\"00bb9ff52bc5c5abefb2a975e96b2fd0\", element=\"69db2652-c0cb-4128-97b0-6ad9acbc0118\")>,\n",
       " <selenium.webdriver.remote.webelement.WebElement (session=\"00bb9ff52bc5c5abefb2a975e96b2fd0\", element=\"51fabf93-2682-4978-a655-d841d41f69c1\")>,\n",
       " <selenium.webdriver.remote.webelement.WebElement (session=\"00bb9ff52bc5c5abefb2a975e96b2fd0\", element=\"248c079a-5d7a-408e-a557-1aa2530944a0\")>,\n",
       " <selenium.webdriver.remote.webelement.WebElement (session=\"00bb9ff52bc5c5abefb2a975e96b2fd0\", element=\"354a3a57-bc0a-4536-81e0-847b79583c04\")>,\n",
       " <selenium.webdriver.remote.webelement.WebElement (session=\"00bb9ff52bc5c5abefb2a975e96b2fd0\", element=\"58e2ea27-3896-4db1-b014-f71e70f993d5\")>,\n",
       " <selenium.webdriver.remote.webelement.WebElement (session=\"00bb9ff52bc5c5abefb2a975e96b2fd0\", element=\"c90f26c3-2cbd-4ff0-954b-b1a53bc09235\")>,\n",
       " <selenium.webdriver.remote.webelement.WebElement (session=\"00bb9ff52bc5c5abefb2a975e96b2fd0\", element=\"0564b21d-a67d-4029-a806-86353c055b8f\")>,\n",
       " <selenium.webdriver.remote.webelement.WebElement (session=\"00bb9ff52bc5c5abefb2a975e96b2fd0\", element=\"66434a6b-590b-41c3-9d7a-5a1ca0023d68\")>,\n",
       " <selenium.webdriver.remote.webelement.WebElement (session=\"00bb9ff52bc5c5abefb2a975e96b2fd0\", element=\"fe5015c8-3b45-4b75-96f8-7a8d3d9fa325\")>,\n",
       " <selenium.webdriver.remote.webelement.WebElement (session=\"00bb9ff52bc5c5abefb2a975e96b2fd0\", element=\"2e9a446a-a7ea-455e-953d-a3c79972f048\")>,\n",
       " <selenium.webdriver.remote.webelement.WebElement (session=\"00bb9ff52bc5c5abefb2a975e96b2fd0\", element=\"1b59c1ab-3d5c-4d6f-9878-52dab795ba15\")>,\n",
       " <selenium.webdriver.remote.webelement.WebElement (session=\"00bb9ff52bc5c5abefb2a975e96b2fd0\", element=\"a7bff962-9714-4087-a007-14cf90f2ed31\")>,\n",
       " <selenium.webdriver.remote.webelement.WebElement (session=\"00bb9ff52bc5c5abefb2a975e96b2fd0\", element=\"321e3b5f-c6a3-4604-9ab0-4e9cd5084c7e\")>,\n",
       " <selenium.webdriver.remote.webelement.WebElement (session=\"00bb9ff52bc5c5abefb2a975e96b2fd0\", element=\"bafc0bc4-27e9-458b-a3bf-30de9ef17654\")>,\n",
       " <selenium.webdriver.remote.webelement.WebElement (session=\"00bb9ff52bc5c5abefb2a975e96b2fd0\", element=\"334915d6-bd76-4e74-b930-83da8a7bf21c\")>,\n",
       " <selenium.webdriver.remote.webelement.WebElement (session=\"00bb9ff52bc5c5abefb2a975e96b2fd0\", element=\"34fd4d46-3ab0-4e58-bb85-24e645ded7ac\")>,\n",
       " <selenium.webdriver.remote.webelement.WebElement (session=\"00bb9ff52bc5c5abefb2a975e96b2fd0\", element=\"5e8b6fe0-6912-4cd3-96fe-fb165bcf1d03\")>,\n",
       " <selenium.webdriver.remote.webelement.WebElement (session=\"00bb9ff52bc5c5abefb2a975e96b2fd0\", element=\"43d2baa1-80cb-4472-8b74-adeea56602b4\")>,\n",
       " <selenium.webdriver.remote.webelement.WebElement (session=\"00bb9ff52bc5c5abefb2a975e96b2fd0\", element=\"607fd034-ee28-4746-b698-88f418e10e2c\")>,\n",
       " <selenium.webdriver.remote.webelement.WebElement (session=\"00bb9ff52bc5c5abefb2a975e96b2fd0\", element=\"b93cafdc-fe33-4654-b7a5-4c8ec9cc31a1\")>,\n",
       " <selenium.webdriver.remote.webelement.WebElement (session=\"00bb9ff52bc5c5abefb2a975e96b2fd0\", element=\"c29eec74-70be-4c61-8caf-e7ba2b0c7fdf\")>,\n",
       " <selenium.webdriver.remote.webelement.WebElement (session=\"00bb9ff52bc5c5abefb2a975e96b2fd0\", element=\"db1ffb4c-c9d6-4139-b837-ac551c5c9615\")>,\n",
       " <selenium.webdriver.remote.webelement.WebElement (session=\"00bb9ff52bc5c5abefb2a975e96b2fd0\", element=\"b576c87a-c0a0-4679-993f-8102fbda1fed\")>,\n",
       " <selenium.webdriver.remote.webelement.WebElement (session=\"00bb9ff52bc5c5abefb2a975e96b2fd0\", element=\"d56d3bcd-90b2-42ab-8eca-cd6b09f0992e\")>,\n",
       " <selenium.webdriver.remote.webelement.WebElement (session=\"00bb9ff52bc5c5abefb2a975e96b2fd0\", element=\"81a62918-2713-44b8-a8c3-6b532de23aa9\")>,\n",
       " <selenium.webdriver.remote.webelement.WebElement (session=\"00bb9ff52bc5c5abefb2a975e96b2fd0\", element=\"22d06c78-d364-48dc-9ba7-e57a372f1f27\")>,\n",
       " <selenium.webdriver.remote.webelement.WebElement (session=\"00bb9ff52bc5c5abefb2a975e96b2fd0\", element=\"5253aac6-027e-4f47-8524-0794349ca2d5\")>,\n",
       " <selenium.webdriver.remote.webelement.WebElement (session=\"00bb9ff52bc5c5abefb2a975e96b2fd0\", element=\"841fa9ed-89e5-41cd-a52c-7dd6b6006dae\")>,\n",
       " <selenium.webdriver.remote.webelement.WebElement (session=\"00bb9ff52bc5c5abefb2a975e96b2fd0\", element=\"c6c05ace-fe1a-4406-a2cd-1916f84c1a1e\")>,\n",
       " <selenium.webdriver.remote.webelement.WebElement (session=\"00bb9ff52bc5c5abefb2a975e96b2fd0\", element=\"68f27f70-fb39-44bf-afe8-2fa2bde3509d\")>,\n",
       " <selenium.webdriver.remote.webelement.WebElement (session=\"00bb9ff52bc5c5abefb2a975e96b2fd0\", element=\"7437226a-0645-4c00-8ae9-33bc068c8729\")>,\n",
       " <selenium.webdriver.remote.webelement.WebElement (session=\"00bb9ff52bc5c5abefb2a975e96b2fd0\", element=\"c3bd4013-c122-4e71-985d-f6b18c23f792\")>,\n",
       " <selenium.webdriver.remote.webelement.WebElement (session=\"00bb9ff52bc5c5abefb2a975e96b2fd0\", element=\"65420381-c6b7-4aba-822f-b95841602695\")>,\n",
       " <selenium.webdriver.remote.webelement.WebElement (session=\"00bb9ff52bc5c5abefb2a975e96b2fd0\", element=\"8f98c014-7dc6-4db3-afe6-4b70c9bfac3d\")>,\n",
       " <selenium.webdriver.remote.webelement.WebElement (session=\"00bb9ff52bc5c5abefb2a975e96b2fd0\", element=\"3b64c279-6631-4dd0-81f1-1b4928d0361e\")>,\n",
       " <selenium.webdriver.remote.webelement.WebElement (session=\"00bb9ff52bc5c5abefb2a975e96b2fd0\", element=\"5c9a19ba-646d-450a-9ad6-c8b8c87b31d1\")>,\n",
       " <selenium.webdriver.remote.webelement.WebElement (session=\"00bb9ff52bc5c5abefb2a975e96b2fd0\", element=\"fb80fdbc-bfae-4eed-95cc-2a4ba04fbdea\")>]"
      ]
     },
     "execution_count": 21,
     "metadata": {},
     "output_type": "execute_result"
    }
   ],
   "source": [
    "elem.find_elements_by_tag_name('a')"
   ]
  },
  {
   "cell_type": "code",
   "execution_count": 25,
   "id": "55a50822",
   "metadata": {
    "ExecuteTime": {
     "end_time": "2021-12-11T17:28:12.836008Z",
     "start_time": "2021-12-11T17:28:09.609048Z"
    },
    "collapsed": true
   },
   "outputs": [
    {
     "data": {
      "text/plain": [
       "['https://aviation-safety.net/database/record.php?id=20180104-0',\n",
       " 'https://aviation-safety.net/database/record.php?id=20180105-0',\n",
       " 'https://aviation-safety.net/database/record.php?id=20180105-1',\n",
       " 'https://aviation-safety.net/database/record.php?id=20180106-0',\n",
       " 'https://aviation-safety.net/database/record.php?id=20180107-0',\n",
       " 'https://aviation-safety.net/database/record.php?id=20180109-0',\n",
       " 'https://aviation-safety.net/database/record.php?id=20180110-0',\n",
       " 'https://aviation-safety.net/database/record.php?id=20180113-0',\n",
       " 'https://aviation-safety.net/database/record.php?id=20180115-0',\n",
       " 'https://aviation-safety.net/database/record.php?id=20180116-0',\n",
       " 'https://aviation-safety.net/database/record.php?id=20180116-1',\n",
       " 'https://aviation-safety.net/database/record.php?id=20180117-0',\n",
       " 'https://aviation-safety.net/database/record.php?id=20180118-0',\n",
       " 'https://aviation-safety.net/database/record.php?id=20180120-0',\n",
       " 'https://aviation-safety.net/database/record.php?id=20180120-1',\n",
       " 'https://aviation-safety.net/database/record.php?id=20180125-0',\n",
       " 'https://aviation-safety.net/database/record.php?id=20180125-1',\n",
       " 'https://aviation-safety.net/database/record.php?id=20180129-0',\n",
       " 'https://aviation-safety.net/database/record.php?id=20180211-0',\n",
       " 'https://aviation-safety.net/database/record.php?id=20180216-0',\n",
       " 'https://aviation-safety.net/database/record.php?id=20180218-0',\n",
       " 'https://aviation-safety.net/database/record.php?id=20180220-0',\n",
       " 'https://aviation-safety.net/database/record.php?id=20180221-0',\n",
       " 'https://aviation-safety.net/database/record.php?id=20180223-0',\n",
       " 'https://aviation-safety.net/database/record.php?id=20180226-0',\n",
       " 'https://aviation-safety.net/database/record.php?id=20180228-0',\n",
       " 'https://aviation-safety.net/database/record.php?id=20180301-0',\n",
       " 'https://aviation-safety.net/database/record.php?id=20180304-0',\n",
       " 'https://aviation-safety.net/database/record.php?id=20180306-0',\n",
       " 'https://aviation-safety.net/database/record.php?id=20180311-0',\n",
       " 'https://aviation-safety.net/database/record.php?id=20180312-0',\n",
       " 'https://aviation-safety.net/database/record.php?id=20180315-0',\n",
       " 'https://aviation-safety.net/database/record.php?id=20180315-1',\n",
       " 'https://aviation-safety.net/database/record.php?id=20180316-0',\n",
       " 'https://aviation-safety.net/database/record.php?id=20180317-0',\n",
       " 'https://aviation-safety.net/database/record.php?id=20180320-0',\n",
       " 'https://aviation-safety.net/database/record.php?id=20180325-0',\n",
       " 'https://aviation-safety.net/database/record.php?id=20180326-0',\n",
       " 'https://aviation-safety.net/database/record.php?id=20180326-1',\n",
       " 'https://aviation-safety.net/database/record.php?id=20180327-0',\n",
       " 'https://aviation-safety.net/database/record.php?id=20180328-0',\n",
       " 'https://aviation-safety.net/database/record.php?id=20180328-1',\n",
       " 'https://aviation-safety.net/database/record.php?id=20180329-0',\n",
       " 'https://aviation-safety.net/database/record.php?id=20180329-1',\n",
       " 'https://aviation-safety.net/database/record.php?id=20180329-2',\n",
       " 'https://aviation-safety.net/database/record.php?id=20180329-3',\n",
       " 'https://aviation-safety.net/database/record.php?id=20180330-0',\n",
       " 'https://aviation-safety.net/database/record.php?id=20180330-1',\n",
       " 'https://aviation-safety.net/database/record.php?id=20180331-0',\n",
       " 'https://aviation-safety.net/database/record.php?id=20180402-0',\n",
       " 'https://aviation-safety.net/database/record.php?id=20180404-0',\n",
       " 'https://aviation-safety.net/database/record.php?id=20180404-1',\n",
       " 'https://aviation-safety.net/database/record.php?id=20180404-2',\n",
       " 'https://aviation-safety.net/database/record.php?id=20180404-3',\n",
       " 'https://aviation-safety.net/database/record.php?id=20180405-0',\n",
       " 'https://aviation-safety.net/database/record.php?id=20180409-0',\n",
       " 'https://aviation-safety.net/database/record.php?id=20180409-1',\n",
       " 'https://aviation-safety.net/database/record.php?id=20180411-0',\n",
       " 'https://aviation-safety.net/database/record.php?id=20180411-1',\n",
       " 'https://aviation-safety.net/database/record.php?id=20180412-0',\n",
       " 'https://aviation-safety.net/database/record.php?id=20180413-0',\n",
       " 'https://aviation-safety.net/database/record.php?id=20180414-0',\n",
       " 'https://aviation-safety.net/database/record.php?id=20180415-0',\n",
       " 'https://aviation-safety.net/database/record.php?id=20180415-1',\n",
       " 'https://aviation-safety.net/database/record.php?id=20180415-2',\n",
       " 'https://aviation-safety.net/database/record.php?id=20180415-3',\n",
       " 'https://aviation-safety.net/database/record.php?id=20180415-4',\n",
       " 'https://aviation-safety.net/database/record.php?id=20180415-5',\n",
       " 'https://aviation-safety.net/database/record.php?id=20180416-0',\n",
       " 'https://aviation-safety.net/database/record.php?id=20180417-0',\n",
       " 'https://aviation-safety.net/database/record.php?id=20180417-1',\n",
       " 'https://aviation-safety.net/database/record.php?id=20180418-0',\n",
       " 'https://aviation-safety.net/database/record.php?id=20180420-0',\n",
       " 'https://aviation-safety.net/database/record.php?id=20180429-0',\n",
       " 'https://aviation-safety.net/database/record.php?id=20180429-1',\n",
       " 'https://aviation-safety.net/database/record.php?id=20180429-2',\n",
       " 'https://aviation-safety.net/database/record.php?id=20180430-0',\n",
       " 'https://aviation-safety.net/database/record.php?id=20180501-0',\n",
       " 'https://aviation-safety.net/database/record.php?id=20180501-1',\n",
       " 'https://aviation-safety.net/database/record.php?id=20180502-0',\n",
       " 'https://aviation-safety.net/database/record.php?id=20180502-1',\n",
       " 'https://aviation-safety.net/database/record.php?id=20180502-2',\n",
       " 'https://aviation-safety.net/database/record.php?id=20180503-0',\n",
       " 'https://aviation-safety.net/database/record.php?id=20180504-0',\n",
       " 'https://aviation-safety.net/database/record.php?id=20180505-0',\n",
       " 'https://aviation-safety.net/database/record.php?id=20180507-0',\n",
       " 'https://aviation-safety.net/database/record.php?id=20180512-0',\n",
       " 'https://aviation-safety.net/database/record.php?id=20180512-1',\n",
       " 'https://aviation-safety.net/database/record.php?id=20180513-0',\n",
       " 'https://aviation-safety.net/database/record.php?id=20180513-1',\n",
       " 'https://aviation-safety.net/database/record.php?id=20180513-2',\n",
       " 'https://aviation-safety.net/database/record.php?id=20180515-0',\n",
       " 'https://aviation-safety.net/database/record.php?id=20180516-0',\n",
       " 'https://aviation-safety.net/database/record.php?id=20180518-0',\n",
       " 'https://aviation-safety.net/database/record.php?id=20180520-0',\n",
       " 'https://aviation-safety.net/database/record.php?id=20180521-0',\n",
       " 'https://aviation-safety.net/database/record.php?id=20180522-0',\n",
       " 'https://aviation-safety.net/database/record.php?id=20180522-1',\n",
       " 'https://aviation-safety.net/database/record.php?id=20180523-0',\n",
       " 'https://aviation-safety.net/database/record.php?id=20180523-1']"
      ]
     },
     "execution_count": 25,
     "metadata": {},
     "output_type": "execute_result"
    }
   ],
   "source": [
    "url1 = [i.get_attribute('href') for i in (elem.find_elements_by_tag_name('a'))][1:]\n",
    "url1"
   ]
  },
  {
   "cell_type": "code",
   "execution_count": null,
   "id": "76a13d5e",
   "metadata": {},
   "outputs": [],
   "source": []
  },
  {
   "cell_type": "code",
   "execution_count": null,
   "id": "003e70e7",
   "metadata": {},
   "outputs": [],
   "source": [
    "elem = driver.find_element_by_tag_name('table')"
   ]
  },
  {
   "cell_type": "code",
   "execution_count": 17,
   "id": "f88cae69",
   "metadata": {
    "ExecuteTime": {
     "end_time": "2021-12-11T17:18:55.363140Z",
     "start_time": "2021-12-11T17:18:55.257511Z"
    },
    "collapsed": true
   },
   "outputs": [
    {
     "data": {
      "text/plain": [
       "'<table><tbody><tr><th class=\"list\">date</th>\\n<th class=\"list\">type</th>\\n<th class=\"list\">registration</th>\\n<th class=\"list\">operator</th>\\n<th class=\"list\">fat.</th>\\n<th class=\"list\">location</th>\\n<th class=\"list\">&nbsp; </th>\\n<th class=\"list\">pic</th>\\n<th class=\"list\"><a href=\"/database/legend.php\" class=\"headerlink\">cat</a></th></tr>\\n<tr><td class=\"list\"><nobr><a href=\"/database/record.php?id=20180104-0\">04-JAN-2018</a></nobr></td><td class=\"list\"><nobr>Gulfstream G150</nobr></td>\\n<td class=\"list\">OE-GKA</td>\\n<td class=\"list\">Private Airlines Germany</td>\\n<td class=\"listdata\">0+ 1</td>\\n<td class=\"list\">Kittilä Airp...</td>\\n<td class=\"list\"><img src=\"//cdn.aviation-safety.net/database/country/flags_15/OH.gif\" title=\"Finland\"></td>\\n<td class=\"list\"><img src=\"//cdn.aviation-safety.net/graphics/C.gif\"></td>\\n<td class=\"list\">A2</td></tr>\\n<tr><td class=\"list\"><nobr><a href=\"/database/record.php?id=20180105-0\">05-JAN-2018</a></nobr></td><td class=\"list\"><nobr>Boeing 737-8CT (WL)</nobr></td>\\n<td class=\"list\">C-FDMB</td>\\n<td class=\"list\">WestJet</td>\\n<td class=\"listdata\">0</td>\\n<td class=\"list\">Toronto-Pear...</td>\\n<td class=\"list\"><img src=\"//cdn.aviation-safety.net/database/country/flags_15/C.gif\" title=\"Canada\"></td>\\n<td class=\"list\"><img src=\"//cdn.aviation-safety.net/graphics/C.gif\"></td>\\n<td class=\"list\">A2</td></tr>\\n<tr><td class=\"list\"><nobr><a href=\"/database/record.php?id=20180105-1\">05-JAN-2018</a></nobr></td><td class=\"list\"><nobr>Boeing 737-8FH (WL)</nobr></td>\\n<td class=\"list\">C-FPRP</td>\\n<td class=\"list\">Sunwing Airlines</td>\\n<td class=\"listdata\">0</td>\\n<td class=\"list\">Toronto-Pear...</td>\\n<td class=\"list\"><img src=\"//cdn.aviation-safety.net/database/country/flags_15/C.gif\" title=\"Canada\"></td>\\n<td class=\"list\"><img src=\"//cdn.aviation-safety.net/graphics/C.gif\"></td>\\n<td class=\"list\">A2</td></tr>\\n<tr><td class=\"list\"><nobr><a href=\"/database/record.php?id=20180106-0\">06-JAN-2018</a></nobr></td><td class=\"list\"><nobr>Antonov An-2TP</nobr></td>\\n<td class=\"list\">YV1944</td>\\n<td class=\"list\">Unknown</td>\\n<td class=\"listdata\">0</td>\\n<td class=\"list\">La Paragua A...</td>\\n<td class=\"list\"><img src=\"//cdn.aviation-safety.net/database/country/flags_15/YV.gif\" title=\"Venezuela\"></td>\\n<td class=\"list\">&nbsp;</td>\\n<td class=\"list\">A1</td></tr>\\n<tr><td class=\"list\"><nobr><a href=\"/database/record.php?id=20180107-0\">07-JAN-2018</a></nobr></td><td class=\"list\"><nobr>Cessna 208B Grand Caravan</nobr></td>\\n<td class=\"list\">5Y-FDC</td>\\n<td class=\"list\">Unknown</td>\\n<td class=\"listdata\">0+ 1</td>\\n<td class=\"list\">Akobo</td>\\n<td class=\"list\"><img src=\"//cdn.aviation-safety.net/database/country/flags_15/STss.gif\" title=\"South Sudan\"></td>\\n<td class=\"list\"><img src=\"//cdn.aviation-safety.net/graphics/C.gif\"></td>\\n<td class=\"list\">A1</td></tr>\\n<tr><td class=\"list\"><nobr><a href=\"/database/record.php?id=20180109-0\">09-JAN-2018</a></nobr></td><td class=\"list\"><nobr>Embraer EMB-110P1 Bandeirante</nobr></td>\\n<td class=\"list\">C6-MIC</td>\\n<td class=\"list\">Pineapple Air</td>\\n<td class=\"listdata\">0</td>\\n<td class=\"list\">Governor\\'s H...</td>\\n<td class=\"list\"><img src=\"//cdn.aviation-safety.net/database/country/flags_15/C6.gif\" title=\"Bahamas\"></td>\\n<td class=\"list\">&nbsp;</td>\\n<td class=\"list\">A2</td></tr>\\n<tr><td class=\"list\"><nobr><a href=\"/database/record.php?id=20180110-0\">10-JAN-2018</a></nobr></td><td class=\"list\"><nobr>Swearingen SA227-AT Merlin IVC</nobr></td>\\n<td class=\"list\">N561UP</td>\\n<td class=\"list\">Ameriflight</td>\\n<td class=\"listdata\">0</td>\\n<td class=\"list\">Rock Springs...</td>\\n<td class=\"list\"><img src=\"//cdn.aviation-safety.net/database/country/flags_15/N.gif\" title=\"USA\"></td>\\n<td class=\"list\"><img src=\"//cdn.aviation-safety.net/graphics/C.gif\"></td>\\n<td class=\"list\">A2</td></tr>\\n<tr><td class=\"list\"><nobr><a href=\"/database/record.php?id=20180113-0\">13-JAN-2018</a></nobr></td><td class=\"list\"><nobr>Boeing 737-82R (WL)</nobr></td>\\n<td class=\"list\">TC-CPF</td>\\n<td class=\"list\">Pegasus Airlines</td>\\n<td class=\"listdata\">0</td>\\n<td class=\"list\">Trabzon Airp...</td>\\n<td class=\"list\"><img src=\"//cdn.aviation-safety.net/database/country/flags_15/TC.gif\" title=\"Turkey\"></td>\\n<td class=\"list\"><img src=\"//cdn.aviation-safety.net/graphics/C.gif\"></td>\\n<td class=\"list\">A1</td></tr>\\n<tr><td class=\"list\"><nobr><a href=\"/database/record.php?id=20180115-0\">15-JAN-2018</a></nobr></td><td class=\"list\"><nobr>Airbus A319-111</nobr></td>\\n<td class=\"list\">5A-ONC</td>\\n<td class=\"list\"><img src=\"//cdn.aviation-safety.net/graphics/euban_20.gif\" alt=\"EU blacklist\" title=\"Afriqiyah Airways is on the List of airlines banned within the EU\"> Afriqiyah Airways</td>\\n<td class=\"listdata\">0</td>\\n<td class=\"list\">Tripoli-Miti...</td>\\n<td class=\"list\"><img src=\"//cdn.aviation-safety.net/database/country/flags_15/5A.gif\" title=\"Libya\"></td>\\n<td class=\"list\">&nbsp;</td>\\n<td class=\"list\">C1</td></tr>\\n<tr><td class=\"list\"><nobr><a href=\"/database/record.php?id=20180116-0\">16-JAN-2018</a></nobr></td><td class=\"list\"><nobr>BAe BAe-748-347 Srs. 2A</nobr></td>\\n<td class=\"list\">S2-AAX</td>\\n<td class=\"list\">Bismillah Airlines</td>\\n<td class=\"listdata\">0</td>\\n<td class=\"list\">Jessore Airp...</td>\\n<td class=\"list\"><img src=\"//cdn.aviation-safety.net/database/country/flags_15/S2.gif\" title=\"Bangladesh\"></td>\\n<td class=\"list\">&nbsp;</td>\\n<td class=\"list\">A2</td></tr>\\n<tr><td class=\"list\"><nobr><a href=\"/database/record.php?id=20180116-1\">16-JAN-2018</a></nobr></td><td class=\"list\"><nobr>Antonov An-2</nobr></td>\\n<td class=\"list\">&nbsp;</td>\\n<td class=\"list\">Kazakhstan Air Defence Force</td>\\n<td class=\"listdata\">0</td>\\n<td class=\"list\">near Zhetygen Air...</td>\\n<td class=\"list\"><img src=\"//cdn.aviation-safety.net/database/country/flags_15/UN.gif\" title=\"Kazakhstan\"></td>\\n<td class=\"list\">&nbsp;</td>\\n<td class=\"list\">A1</td></tr>\\n<tr><td class=\"list\"><nobr><a href=\"/database/record.php?id=20180117-0\">17-JAN-2018</a></nobr></td><td class=\"list\"><nobr>IPTN/CASA CN-235M-100</nobr></td>\\n<td class=\"list\">98-148</td>\\n<td class=\"list\">Turkish AF</td>\\n<td class=\"listdata\">3</td>\\n<td class=\"list\">Hodulluca Me...</td>\\n<td class=\"list\"><img src=\"//cdn.aviation-safety.net/database/country/flags_15/TC.gif\" title=\"Turkey\"></td>\\n<td class=\"list\">&nbsp;</td>\\n<td class=\"list\">A1</td></tr>\\n<tr><td class=\"list\"><nobr><a href=\"/database/record.php?id=20180118-0\">18-JAN-2018</a></nobr></td><td class=\"list\"><nobr>Convair CV-580F</nobr></td>\\n<td class=\"list\">XA-TRB</td>\\n<td class=\"list\">Air Tribe</td>\\n<td class=\"listdata\">0</td>\\n<td class=\"list\">Brownsville-...</td>\\n<td class=\"list\"><img src=\"//cdn.aviation-safety.net/database/country/flags_15/N.gif\" title=\"USA\"></td>\\n<td class=\"list\">&nbsp;</td>\\n<td class=\"list\">A1</td></tr>\\n<tr><td class=\"list\"><nobr><a href=\"/database/record.php?id=20180120-0\">20-JAN-2018</a></nobr></td><td class=\"list\"><nobr>Embraer EMB-120ER Brasilia</nobr></td>\\n<td class=\"list\">5Y-CEI</td>\\n<td class=\"list\">European Union, lsf AirTraffic Africa</td>\\n<td class=\"listdata\">0</td>\\n<td class=\"list\">Mogadishu Ad...</td>\\n<td class=\"list\"><img src=\"//cdn.aviation-safety.net/database/country/flags_15/6O.gif\" title=\"Somalia\"></td>\\n<td class=\"list\">&nbsp;</td>\\n<td class=\"list\">A2</td></tr>\\n<tr><td class=\"list\"><nobr><a href=\"/database/record.php?id=20180120-1\">20-JAN-2018</a></nobr></td><td class=\"list\"><nobr>Let L-410UVP</nobr></td>\\n<td class=\"list\">UR-VTV</td>\\n<td class=\"list\">Galeyr Airline</td>\\n<td class=\"listdata\">0</td>\\n<td class=\"list\">Mogadishu Ad...</td>\\n<td class=\"list\"><img src=\"//cdn.aviation-safety.net/database/country/flags_15/6O.gif\" title=\"Somalia\"></td>\\n<td class=\"list\">&nbsp;</td>\\n<td class=\"list\">A1</td></tr>\\n<tr><td class=\"list\"><nobr><a href=\"/database/record.php?id=20180125-0\">25-JAN-2018</a></nobr></td><td class=\"list\"><nobr>Gulfstream G200</nobr></td>\\n<td class=\"list\">5N-BTF</td>\\n<td class=\"list\">Nestoil</td>\\n<td class=\"listdata\">0</td>\\n<td class=\"list\">Abuja Intern...</td>\\n<td class=\"list\"><img src=\"//cdn.aviation-safety.net/database/country/flags_15/5N.gif\" title=\"Nigeria\"></td>\\n<td class=\"list\"><img src=\"//cdn.aviation-safety.net/graphics/C.gif\"></td>\\n<td class=\"list\">A1</td></tr>\\n<tr><td class=\"list\"><nobr><a href=\"/database/record.php?id=20180125-1\">25-JAN-2018</a></nobr></td><td class=\"list\"><nobr>Airbus A320</nobr></td>\\n<td class=\"list\">&nbsp;</td>\\n<td class=\"list\">Unknown</td>\\n<td class=\"listdata\">0</td>\\n<td class=\"list\">Berlin-Schön...</td>\\n<td class=\"list\"><img src=\"//cdn.aviation-safety.net/database/country/flags_15/D.gif\" title=\"Germany\"></td>\\n<td class=\"list\">&nbsp;</td>\\n<td class=\"list\">A2</td></tr>\\n<tr><td class=\"list\"><nobr><a href=\"/database/record.php?id=20180129-0\">29-JAN-2018</a></nobr></td><td class=\"list\"><nobr>Shaanxi Y-8GX-3</nobr></td>\\n<td class=\"list\">30513</td>\\n<td class=\"list\">China Air Force</td>\\n<td class=\"listdata\">12</td>\\n<td class=\"list\">Zhengchang, ...</td>\\n<td class=\"list\"><img src=\"//cdn.aviation-safety.net/database/country/flags_15/B.gif\" title=\"China\"></td>\\n<td class=\"list\"><img src=\"//cdn.aviation-safety.net/graphics/C.gif\"></td>\\n<td class=\"list\">A1</td></tr>\\n<tr><td class=\"list\"><nobr><a href=\"/database/record.php?id=20180211-0\">11-FEB-2018</a></nobr></td><td class=\"list\"><nobr>Antonov An-148-100B</nobr></td>\\n<td class=\"list\">RA-61704</td>\\n<td class=\"list\">Saratov Airlines</td>\\n<td class=\"listdata\">71</td>\\n<td class=\"list\">near Stepanovskoy...</td>\\n<td class=\"list\"><img src=\"//cdn.aviation-safety.net/database/country/flags_15/RA.gif\" title=\"Russia\"></td>\\n<td class=\"list\"><img src=\"//cdn.aviation-safety.net/graphics/C.gif\"></td>\\n<td class=\"list\">A1</td></tr>\\n<tr><td class=\"list\"><nobr><a href=\"/database/record.php?id=20180216-0\">16-FEB-2018</a></nobr></td><td class=\"list\"><nobr>Fokker 100</nobr></td>\\n<td class=\"list\">EP-FQF</td>\\n<td class=\"list\">Qeshm Air</td>\\n<td class=\"listdata\">0</td>\\n<td class=\"list\">Mashhad Airp...</td>\\n<td class=\"list\"><img src=\"//cdn.aviation-safety.net/database/country/flags_15/EP.gif\" title=\"Iran\"></td>\\n<td class=\"list\">&nbsp;</td>\\n<td class=\"list\">A2</td></tr>\\n<tr><td class=\"list\"><nobr><a href=\"/database/record.php?id=20180218-0\">18-FEB-2018</a></nobr></td><td class=\"list\"><nobr>ATR 72-212</nobr></td>\\n<td class=\"list\">EP-ATS</td>\\n<td class=\"list\"><img src=\"//cdn.aviation-safety.net/graphics/euban_20.gif\" alt=\"EU blacklist\" title=\"Iran Aseman Airlines is on the List of airlines banned within the EU\"> Iran Aseman Airlines</td>\\n<td class=\"listdata\">66</td>\\n<td class=\"list\">near Yasuj Airpor...</td>\\n<td class=\"list\"><img src=\"//cdn.aviation-safety.net/database/country/flags_15/EP.gif\" title=\"Iran\"></td>\\n<td class=\"list\"><img src=\"//cdn.aviation-safety.net/graphics/C.gif\"></td>\\n<td class=\"list\">A1</td></tr>\\n<tr><td class=\"list\"><nobr><a href=\"/database/record.php?id=20180220-0\">20-FEB-2018</a></nobr></td><td class=\"list\"><nobr>MD-83</nobr></td>\\n<td class=\"list\">5N-SRI</td>\\n<td class=\"list\">Dana Air</td>\\n<td class=\"listdata\">0</td>\\n<td class=\"list\">Port Harcour...</td>\\n<td class=\"list\"><img src=\"//cdn.aviation-safety.net/database/country/flags_15/5N.gif\" title=\"Nigeria\"></td>\\n<td class=\"list\"><img src=\"//cdn.aviation-safety.net/graphics/C.gif\"></td>\\n<td class=\"list\">A2</td></tr>\\n<tr><td class=\"list\"><nobr><a href=\"/database/record.php?id=20180221-0\">21-FEB-2018</a></nobr></td><td class=\"list\"><nobr>Cessna 208B Grand Caravan</nobr></td>\\n<td class=\"list\">G-BZAH</td>\\n<td class=\"list\">Army Parachute Association</td>\\n<td class=\"listdata\">0</td>\\n<td class=\"list\">Netheravon A...</td>\\n<td class=\"list\"><img src=\"//cdn.aviation-safety.net/database/country/flags_15/G.gif\" title=\"U.K.\"></td>\\n<td class=\"list\">&nbsp;</td>\\n<td class=\"list\">A2</td></tr>\\n<tr><td class=\"list\"><nobr><a href=\"/database/record.php?id=20180223-0\">23-FEB-2018</a></nobr></td><td class=\"list\"><nobr>Beech B100 King Air</nobr></td>\\n<td class=\"list\">C-GIAE</td>\\n<td class=\"list\">Island Express Air</td>\\n<td class=\"listdata\">0</td>\\n<td class=\"list\">Abbotsford A...</td>\\n<td class=\"list\"><img src=\"//cdn.aviation-safety.net/database/country/flags_15/C.gif\" title=\"Canada\"></td>\\n<td class=\"list\"><img src=\"//cdn.aviation-safety.net/graphics/C.gif\"></td>\\n<td class=\"list\">A2</td></tr>\\n<tr><td class=\"list\"><nobr><a href=\"/database/record.php?id=20180226-0\">26-FEB-2018</a></nobr></td><td class=\"list\"><nobr>Beech A100 King Air</nobr></td>\\n<td class=\"list\">C-GJXF</td>\\n<td class=\"list\">Strait Air</td>\\n<td class=\"listdata\">0</td>\\n<td class=\"list\">Havre-Saint-...</td>\\n<td class=\"list\"><img src=\"//cdn.aviation-safety.net/database/country/flags_15/C.gif\" title=\"Canada\"></td>\\n<td class=\"list\"><img src=\"//cdn.aviation-safety.net/graphics/C.gif\"></td>\\n<td class=\"list\">A1</td></tr>\\n<tr><td class=\"list\"><nobr><a href=\"/database/record.php?id=20180228-0\">28-FEB-2018</a></nobr></td><td class=\"list\"><nobr>Airbus A320-214</nobr></td>\\n<td class=\"list\">ES-SAN</td>\\n<td class=\"list\">SmartLynx Airlines Estonia</td>\\n<td class=\"listdata\">0</td>\\n<td class=\"list\">Tallinn-Lenn...</td>\\n<td class=\"list\"><img src=\"//cdn.aviation-safety.net/database/country/flags_15/ES.gif\" title=\"Estonia\"></td>\\n<td class=\"list\">&nbsp;</td>\\n<td class=\"list\">A1</td></tr>\\n<tr><td class=\"list\"><nobr><a href=\"/database/record.php?id=20180301-0\">01-MAR-2018</a></nobr></td><td class=\"list\"><nobr>Beech 200 Super King Air</nobr></td>\\n<td class=\"list\">YV1909</td>\\n<td class=\"list\">Unknown</td>\\n<td class=\"listdata\">0</td>\\n<td class=\"list\">Charallave-Ó...</td>\\n<td class=\"list\"><img src=\"//cdn.aviation-safety.net/database/country/flags_15/YV.gif\" title=\"Venezuela\"></td>\\n<td class=\"list\">&nbsp;</td>\\n<td class=\"list\">A2</td></tr>\\n<tr><td class=\"list\"><nobr><a href=\"/database/record.php?id=20180304-0\">04-MAR-2018</a></nobr></td><td class=\"list\"><nobr>Boeing 737-322 (SF)</nobr></td>\\n<td class=\"list\">9S-ASG</td>\\n<td class=\"list\"><img src=\"//cdn.aviation-safety.net/graphics/euban_20.gif\" alt=\"EU blacklist\" title=\"Serve Air is on the List of airlines banned within the EU\"> Serve Air</td>\\n<td class=\"listdata\">0</td>\\n<td class=\"list\">Lubumbashi I...</td>\\n<td class=\"list\"><img src=\"//cdn.aviation-safety.net/database/country/flags_15/9Q.gif\" title=\"D.R. Congo\"></td>\\n<td class=\"list\">&nbsp;</td>\\n<td class=\"list\">A1</td></tr>\\n<tr><td class=\"list\"><nobr><a href=\"/database/record.php?id=20180306-0\">06-MAR-2018</a></nobr></td><td class=\"list\"><nobr>Antonov An-26</nobr></td>\\n<td class=\"list\">RF-92955/52</td>\\n<td class=\"list\">Russian AF</td>\\n<td class=\"listdata\">39</td>\\n<td class=\"list\">near Latakia-Khme...</td>\\n<td class=\"list\"><img src=\"//cdn.aviation-safety.net/database/country/flags_15/YK.gif\" title=\"Syria\"></td>\\n<td class=\"list\">&nbsp;</td>\\n<td class=\"list\">A1</td></tr>\\n<tr><td class=\"list\"><nobr><a href=\"/database/record.php?id=20180311-0\">11-MAR-2018</a></nobr></td><td class=\"list\"><nobr>Canadair Challenger 604</nobr></td>\\n<td class=\"list\">TC-TRB</td>\\n<td class=\"list\">MC Aviation</td>\\n<td class=\"listdata\">11</td>\\n<td class=\"list\">near Shahr-e Kurd</td>\\n<td class=\"list\"><img src=\"//cdn.aviation-safety.net/database/country/flags_15/EP.gif\" title=\"Iran\"></td>\\n<td class=\"list\"><img src=\"//cdn.aviation-safety.net/graphics/C.gif\"></td>\\n<td class=\"list\">A1</td></tr>\\n<tr><td class=\"list\"><nobr><a href=\"/database/record.php?id=20180312-0\">12-MAR-2018</a></nobr></td><td class=\"list\"><nobr>DHC-8-402Q Dash 8</nobr></td>\\n<td class=\"list\">S2-AGU</td>\\n<td class=\"list\">US-Bangla Airlines</td>\\n<td class=\"listdata\">51</td>\\n<td class=\"list\">Kathmandu-Tr...</td>\\n<td class=\"list\"><img src=\"//cdn.aviation-safety.net/database/country/flags_15/9N.gif\" title=\"Nepal\"></td>\\n<td class=\"list\"><img src=\"//cdn.aviation-safety.net/graphics/C.gif\"></td>\\n<td class=\"list\">A1</td></tr>\\n<tr><td class=\"list\"><nobr><a href=\"/database/record.php?id=20180315-0\">15-MAR-2018</a></nobr></td><td class=\"list\"><nobr>Beech B200 Super King Air</nobr></td>\\n<td class=\"list\">YV3284 ?</td>\\n<td class=\"list\">Unknown</td>\\n<td class=\"listdata\">0</td>\\n<td class=\"list\">near Blue Creek, ...</td>\\n<td class=\"list\"><img src=\"//cdn.aviation-safety.net/database/country/flags_15/V3.gif\" title=\"Belize\"></td>\\n<td class=\"list\">&nbsp;</td>\\n<td class=\"list\">A1</td></tr>\\n<tr><td class=\"list\"><nobr><a href=\"/database/record.php?id=20180315-1\">15-MAR-2018</a></nobr></td><td class=\"list\"><nobr>Cessna 208 Caravan I</nobr></td>\\n<td class=\"list\">VH-PGA</td>\\n<td class=\"list\">West Coast Air Services</td>\\n<td class=\"listdata\">0</td>\\n<td class=\"list\">Talbot Bay, WA</td>\\n<td class=\"list\"><img src=\"//cdn.aviation-safety.net/database/country/flags_15/VH.gif\" title=\"Australia\"></td>\\n<td class=\"list\">&nbsp;</td>\\n<td class=\"list\">A1</td></tr>\\n<tr><td class=\"list\"><nobr><a href=\"/database/record.php?id=20180316-0\">16-MAR-2018</a></nobr></td><td class=\"list\"><nobr>Beech C99</nobr></td>\\n<td class=\"list\">N213AV</td>\\n<td class=\"list\">Ameriflight</td>\\n<td class=\"listdata\">0</td>\\n<td class=\"list\">Hastings Air...</td>\\n<td class=\"list\"><img src=\"//cdn.aviation-safety.net/database/country/flags_15/N.gif\" title=\"USA\"></td>\\n<td class=\"list\">&nbsp;</td>\\n<td class=\"list\">A2</td></tr>\\n<tr><td class=\"list\"><nobr><a href=\"/database/record.php?id=20180317-0\">17-MAR-2018</a></nobr></td><td class=\"list\"><nobr>Canadair CRJ-200ER</nobr></td>\\n<td class=\"list\">C-FDJA</td>\\n<td class=\"list\">Air Canada Express, opb Jazz Aviation</td>\\n<td class=\"listdata\">0</td>\\n<td class=\"list\">Montreal-Pie...</td>\\n<td class=\"list\"><img src=\"//cdn.aviation-safety.net/database/country/flags_15/C.gif\" title=\"Canada\"></td>\\n<td class=\"list\">&nbsp;</td>\\n<td class=\"list\">A2</td></tr>\\n<tr><td class=\"list\"><nobr><a href=\"/database/record.php?id=20180320-0\">20-MAR-2018</a></nobr></td><td class=\"list\"><nobr>DHC-6 Twin Otter 300</nobr></td>\\n<td class=\"list\">N716JP</td>\\n<td class=\"list\">Bald Mountain Air Services</td>\\n<td class=\"listdata\">0</td>\\n<td class=\"list\">near Deadhorse, AK</td>\\n<td class=\"list\"><img src=\"//cdn.aviation-safety.net/database/country/flags_15/N.gif\" title=\"USA\"></td>\\n<td class=\"list\"><img src=\"//cdn.aviation-safety.net/graphics/C.gif\"></td>\\n<td class=\"list\">A2</td></tr>\\n<tr><td class=\"list\"><nobr><a href=\"/database/record.php?id=20180325-0\">25-MAR-2018</a></nobr></td><td class=\"list\"><nobr>ATR 42-500</nobr></td>\\n<td class=\"list\">F-GPYF</td>\\n<td class=\"list\">HOP!</td>\\n<td class=\"listdata\">0</td>\\n<td class=\"list\">Aurillac Air...</td>\\n<td class=\"list\"><img src=\"//cdn.aviation-safety.net/database/country/flags_15/F.gif\" title=\"France\"></td>\\n<td class=\"list\"><img src=\"//cdn.aviation-safety.net/graphics/C.gif\"></td>\\n<td class=\"list\">I2</td></tr>\\n<tr><td class=\"list\"><nobr><a href=\"/database/record.php?id=20180326-0\">26-MAR-2018</a></nobr></td><td class=\"list\"><nobr>CASA C-212 Aviocar</nobr></td>\\n<td class=\"list\">N217BH</td>\\n<td class=\"list\">Bighorn Airways</td>\\n<td class=\"listdata\">0</td>\\n<td class=\"list\">Sheridan Air...</td>\\n<td class=\"list\"><img src=\"//cdn.aviation-safety.net/database/country/flags_15/N.gif\" title=\"USA\"></td>\\n<td class=\"list\">&nbsp;</td>\\n<td class=\"list\">O2</td></tr>\\n<tr><td class=\"list\"><nobr><a href=\"/database/record.php?id=20180326-1\">26-MAR-2018</a></nobr></td><td class=\"list\"><nobr>CASA C-212 Aviocar 200</nobr></td>\\n<td class=\"list\">N107BH</td>\\n<td class=\"list\">Bighorn Airways</td>\\n<td class=\"listdata\">0</td>\\n<td class=\"list\">Sheridan Air...</td>\\n<td class=\"list\"><img src=\"//cdn.aviation-safety.net/database/country/flags_15/N.gif\" title=\"USA\"></td>\\n<td class=\"list\">&nbsp;</td>\\n<td class=\"list\">A2</td></tr>\\n<tr><td class=\"list\"><nobr><a href=\"/database/record.php?id=20180327-0\">27-MAR-2018</a></nobr></td><td class=\"list\"><nobr>Airbus A319-111</nobr></td>\\n<td class=\"list\">G-EZMK</td>\\n<td class=\"list\">easyJet</td>\\n<td class=\"listdata\">0</td>\\n<td class=\"list\">Murcia-San J...</td>\\n<td class=\"list\"><img src=\"//cdn.aviation-safety.net/database/country/flags_15/EC.gif\" title=\"Spain\"></td>\\n<td class=\"list\">&nbsp;</td>\\n<td class=\"list\">A2</td></tr>\\n<tr><td class=\"list\"><nobr><a href=\"/database/record.php?id=20180328-0\">28-MAR-2018</a></nobr></td><td class=\"list\"><nobr>Boeing 737-76J (WL)</nobr></td>\\n<td class=\"list\">D-ABLB</td>\\n<td class=\"list\">Germania</td>\\n<td class=\"listdata\">0</td>\\n<td class=\"list\">Tel Aviv-Ben...</td>\\n<td class=\"list\"><img src=\"//cdn.aviation-safety.net/database/country/flags_15/4X.gif\" title=\"Israel\"></td>\\n<td class=\"list\"><img src=\"//cdn.aviation-safety.net/graphics/C.gif\"></td>\\n<td class=\"list\">A2</td></tr>\\n<tr><td class=\"list\"><nobr><a href=\"/database/record.php?id=20180328-1\">28-MAR-2018</a></nobr></td><td class=\"list\"><nobr>Boeing 767-3Q8ER</nobr></td>\\n<td class=\"list\">4X-EAK</td>\\n<td class=\"list\">El Al</td>\\n<td class=\"listdata\">0</td>\\n<td class=\"list\">Tel Aviv-Ben...</td>\\n<td class=\"list\"><img src=\"//cdn.aviation-safety.net/database/country/flags_15/4X.gif\" title=\"Israel\"></td>\\n<td class=\"list\"><img src=\"//cdn.aviation-safety.net/graphics/C.gif\"></td>\\n<td class=\"list\">A1</td></tr>\\n<tr><td class=\"list\"><nobr><a href=\"/database/record.php?id=20180329-0\">29-MAR-2018</a></nobr></td><td class=\"list\"><nobr>Swearingen SA227-DC Metro 23</nobr></td>\\n<td class=\"list\">CP-2459</td>\\n<td class=\"list\">Línea Aérea Amaszonas</td>\\n<td class=\"listdata\">0</td>\\n<td class=\"list\">Riberalta-Ca...</td>\\n<td class=\"list\"><img src=\"//cdn.aviation-safety.net/database/country/flags_15/CP.gif\" title=\"Bolivia\"></td>\\n<td class=\"list\">&nbsp;</td>\\n<td class=\"list\">A2</td></tr>\\n<tr><td class=\"list\"><nobr><a href=\"/database/record.php?id=20180329-1\">29-MAR-2018</a></nobr></td><td class=\"list\"><nobr>ATR 72-212A (ATR 72-600)</nobr></td>\\n<td class=\"list\">XA-UYY</td>\\n<td class=\"list\">Aeromar</td>\\n<td class=\"listdata\">0</td>\\n<td class=\"list\">Mexico City-...</td>\\n<td class=\"list\"><img src=\"//cdn.aviation-safety.net/database/country/flags_15/XA.gif\" title=\"Mexico\"></td>\\n<td class=\"list\">&nbsp;</td>\\n<td class=\"list\">A2</td></tr>\\n<tr><td class=\"list\"><nobr><a href=\"/database/record.php?id=20180329-2\">29-MAR-2018</a></nobr></td><td class=\"list\"><nobr>ATR 42-500</nobr></td>\\n<td class=\"list\">XA-UAV</td>\\n<td class=\"list\">Aeromar</td>\\n<td class=\"listdata\">0</td>\\n<td class=\"list\">Mexico City-...</td>\\n<td class=\"list\"><img src=\"//cdn.aviation-safety.net/database/country/flags_15/XA.gif\" title=\"Mexico\"></td>\\n<td class=\"list\">&nbsp;</td>\\n<td class=\"list\">A2</td></tr>\\n<tr><td class=\"list\"><nobr><a href=\"/database/record.php?id=20180329-3\">29-MAR-2018</a></nobr></td><td class=\"list\"><nobr>Beech 99</nobr></td>\\n<td class=\"list\">N31TN</td>\\n<td class=\"list\">Lake Clark Air</td>\\n<td class=\"listdata\">0</td>\\n<td class=\"list\">Pilot Point ...</td>\\n<td class=\"list\"><img src=\"//cdn.aviation-safety.net/database/country/flags_15/N.gif\" title=\"USA\"></td>\\n<td class=\"list\">&nbsp;</td>\\n<td class=\"list\">A2</td></tr>\\n<tr><td class=\"list\"><nobr><a href=\"/database/record.php?id=20180330-0\">30-MAR-2018</a></nobr></td><td class=\"list\"><nobr>Cessna 650 Citation III</nobr></td>\\n<td class=\"list\">N126MT</td>\\n<td class=\"list\">2M Leasing</td>\\n<td class=\"listdata\">0</td>\\n<td class=\"list\">Orlando-Cent...</td>\\n<td class=\"list\"><img src=\"//cdn.aviation-safety.net/database/country/flags_15/N.gif\" title=\"USA\"></td>\\n<td class=\"list\">&nbsp;</td>\\n<td class=\"list\">A1</td></tr>\\n<tr><td class=\"list\"><nobr><a href=\"/database/record.php?id=20180330-1\">30-MAR-2018</a></nobr></td><td class=\"list\"><nobr>Antonov An-12BK</nobr></td>\\n<td class=\"list\">UR-KDM</td>\\n<td class=\"list\">Cavok Air</td>\\n<td class=\"listdata\">0</td>\\n<td class=\"list\">Gao Airport ...</td>\\n<td class=\"list\"><img src=\"//cdn.aviation-safety.net/database/country/flags_15/TZ.gif\" title=\"Mali\"></td>\\n<td class=\"list\">&nbsp;</td>\\n<td class=\"list\">I2</td></tr>\\n<tr><td class=\"list\"><nobr><a href=\"/database/record.php?id=20180331-0\">31-MAR-2018</a></nobr></td><td class=\"list\"><nobr>Cessna 208B Grand Caravan</nobr></td>\\n<td class=\"list\">N9339B</td>\\n<td class=\"list\">Skydive the Ranch</td>\\n<td class=\"listdata\">0</td>\\n<td class=\"list\">near Gardiner Air...</td>\\n<td class=\"list\"><img src=\"//cdn.aviation-safety.net/database/country/flags_15/N.gif\" title=\"USA\"></td>\\n<td class=\"list\">&nbsp;</td>\\n<td class=\"list\">A1</td></tr>\\n<tr><td class=\"list\"><nobr><a href=\"/database/record.php?id=20180402-0\">02-APR-2018</a></nobr></td><td class=\"list\"><nobr>Cessna 525C Citation CJ4</nobr></td>\\n<td class=\"list\">N511AC</td>\\n<td class=\"list\">Avis Industrial Corporation</td>\\n<td class=\"listdata\">0</td>\\n<td class=\"list\">Marion Munic...</td>\\n<td class=\"list\"><img src=\"//cdn.aviation-safety.net/database/country/flags_15/N.gif\" title=\"USA\"></td>\\n<td class=\"list\"><img src=\"//cdn.aviation-safety.net/graphics/C.gif\"></td>\\n<td class=\"list\">A2</td></tr>\\n<tr><td class=\"list\"><nobr><a href=\"/database/record.php?id=20180404-0\">04-APR-2018</a></nobr></td><td class=\"list\"><nobr>Learjet 45XR</nobr></td>\\n<td class=\"list\">N618CW</td>\\n<td class=\"list\">ERG Holdings</td>\\n<td class=\"listdata\">0</td>\\n<td class=\"list\">Houston-Will...</td>\\n<td class=\"list\"><img src=\"//cdn.aviation-safety.net/database/country/flags_15/N.gif\" title=\"USA\"></td>\\n<td class=\"list\">&nbsp;</td>\\n<td class=\"list\">O1</td></tr>\\n<tr><td class=\"list\"><nobr><a href=\"/database/record.php?id=20180404-1\">04-APR-2018</a></nobr></td><td class=\"list\"><nobr>Learjet 40XR</nobr></td>\\n<td class=\"list\">N626FX</td>\\n<td class=\"list\">Union Gas Air Ventures I</td>\\n<td class=\"listdata\">0</td>\\n<td class=\"list\">Houston-Will...</td>\\n<td class=\"list\"><img src=\"//cdn.aviation-safety.net/database/country/flags_15/N.gif\" title=\"USA\"></td>\\n<td class=\"list\">&nbsp;</td>\\n<td class=\"list\">O1</td></tr>\\n<tr><td class=\"list\"><nobr><a href=\"/database/record.php?id=20180404-2\">04-APR-2018</a></nobr></td><td class=\"list\"><nobr>Cessna 560XL Citation Excel</nobr></td>\\n<td class=\"list\">N900WL</td>\\n<td class=\"list\">MTC Enterprises</td>\\n<td class=\"listdata\">0</td>\\n<td class=\"list\">Houston-Will...</td>\\n<td class=\"list\"><img src=\"//cdn.aviation-safety.net/database/country/flags_15/N.gif\" title=\"USA\"></td>\\n<td class=\"list\"><img src=\"//cdn.aviation-safety.net/graphics/C.gif\"></td>\\n<td class=\"list\">O1</td></tr>\\n<tr><td class=\"list\"><nobr><a href=\"/database/record.php?id=20180404-3\">04-APR-2018</a></nobr></td><td class=\"list\"><nobr>Learjet 60</nobr></td>\\n<td class=\"list\">N759SH</td>\\n<td class=\"list\">Henning Aviation</td>\\n<td class=\"listdata\">0</td>\\n<td class=\"list\">Houston-Will...</td>\\n<td class=\"list\"><img src=\"//cdn.aviation-safety.net/database/country/flags_15/N.gif\" title=\"USA\"></td>\\n<td class=\"list\">&nbsp;</td>\\n<td class=\"list\">O1</td></tr>\\n<tr><td class=\"list\"><nobr><a href=\"/database/record.php?id=20180405-0\">05-APR-2018</a></nobr></td><td class=\"list\"><nobr>Antonov An-26</nobr></td>\\n<td class=\"list\">UP-AN607</td>\\n<td class=\"list\">Mega Aircompany</td>\\n<td class=\"listdata\">0</td>\\n<td class=\"list\">Wau Airport ...</td>\\n<td class=\"list\"><img src=\"//cdn.aviation-safety.net/database/country/flags_15/STss.gif\" title=\"South Sudan\"></td>\\n<td class=\"list\">&nbsp;</td>\\n<td class=\"list\">A2</td></tr>\\n<tr><td class=\"list\"><nobr><a href=\"/database/record.php?id=20180409-0\">09-APR-2018</a></nobr></td><td class=\"list\"><nobr>Boeing 737-9B5</nobr></td>\\n<td class=\"list\">HL7725</td>\\n<td class=\"list\">Korean Air</td>\\n<td class=\"listdata\">0</td>\\n<td class=\"list\">Osaka-Kansai...</td>\\n<td class=\"list\"><img src=\"//cdn.aviation-safety.net/database/country/flags_15/JA.gif\" title=\"Japan\"></td>\\n<td class=\"list\"><img src=\"//cdn.aviation-safety.net/graphics/C.gif\"></td>\\n<td class=\"list\">A2</td></tr>\\n<tr><td class=\"list\"><nobr><a href=\"/database/record.php?id=20180409-1\">09-APR-2018</a></nobr></td><td class=\"list\"><nobr>Beech 200 Super King Air</nobr></td>\\n<td class=\"list\">LN-NOA</td>\\n<td class=\"list\">Airwing</td>\\n<td class=\"listdata\">0</td>\\n<td class=\"list\">Stavanger-So...</td>\\n<td class=\"list\"><img src=\"//cdn.aviation-safety.net/database/country/flags_15/LN.gif\" title=\"Norway\"></td>\\n<td class=\"list\">&nbsp;</td>\\n<td class=\"list\">A2</td></tr>\\n<tr><td class=\"list\"><nobr><a href=\"/database/record.php?id=20180411-0\">11-APR-2018</a></nobr></td><td class=\"list\"><nobr>Ilyushin Il-76TD</nobr></td>\\n<td class=\"list\">7T-WIV</td>\\n<td class=\"list\">Algerian AF</td>\\n<td class=\"listdata\">257</td>\\n<td class=\"list\">near Boufarik Air...</td>\\n<td class=\"list\"><img src=\"//cdn.aviation-safety.net/database/country/flags_15/7T.gif\" title=\"Algeria\"></td>\\n<td class=\"list\">&nbsp;</td>\\n<td class=\"list\">A1</td></tr>\\n<tr><td class=\"list\"><nobr><a href=\"/database/record.php?id=20180411-1\">11-APR-2018</a></nobr></td><td class=\"list\"><nobr>Cessna 208B Grand Caravan</nobr></td>\\n<td class=\"list\">N814GV</td>\\n<td class=\"list\">Hageland Aviation Services, opf Ravn Connect</td>\\n<td class=\"listdata\">0</td>\\n<td class=\"list\">near Atqasuk Airp...</td>\\n<td class=\"list\"><img src=\"//cdn.aviation-safety.net/database/country/flags_15/N.gif\" title=\"USA\"></td>\\n<td class=\"list\">&nbsp;</td>\\n<td class=\"list\">A1</td></tr>\\n<tr><td class=\"list\"><nobr><a href=\"/database/record.php?id=20180412-0\">12-APR-2018</a></nobr></td><td class=\"list\"><nobr>Cessna 208B Grand Caravan</nobr></td>\\n<td class=\"list\">5Y-SAV</td>\\n<td class=\"list\">Penial Air</td>\\n<td class=\"listdata\">0</td>\\n<td class=\"list\">El Barde, So...</td>\\n<td class=\"list\"><img src=\"//cdn.aviation-safety.net/database/country/flags_15/5Y.gif\" title=\"Kenya\"></td>\\n<td class=\"list\">&nbsp;</td>\\n<td class=\"list\">A2</td></tr>\\n<tr><td class=\"list\"><nobr><a href=\"/database/record.php?id=20180413-0\">13-APR-2018</a></nobr></td><td class=\"list\"><nobr>Lockheed P-3C Orion</nobr></td>\\n<td class=\"list\">&nbsp;</td>\\n<td class=\"list\">US Navy</td>\\n<td class=\"listdata\">0</td>\\n<td class=\"list\">near Omaha, NE</td>\\n<td class=\"list\"><img src=\"//cdn.aviation-safety.net/database/country/flags_15/N.gif\" title=\"USA\"></td>\\n<td class=\"list\">&nbsp;</td>\\n<td class=\"list\">A1</td></tr>\\n<tr><td class=\"list\"><nobr><a href=\"/database/record.php?id=20180414-0\">14-APR-2018</a></nobr></td><td class=\"list\"><nobr>Antonov An-74-200</nobr></td>\\n<td class=\"list\">EK-74036</td>\\n<td class=\"list\">Ayk Avia</td>\\n<td class=\"listdata\">0</td>\\n<td class=\"list\">Akola village</td>\\n<td class=\"list\"><img src=\"//cdn.aviation-safety.net/database/country/flags_15/STss.gif\" title=\"South Sudan\"></td>\\n<td class=\"list\">&nbsp;</td>\\n<td class=\"list\">A1</td></tr>\\n<tr><td class=\"list\"><nobr><a href=\"/database/record.php?id=20180415-0\">15-APR-2018</a></nobr></td><td class=\"list\"><nobr>Airbus A321-213</nobr></td>\\n<td class=\"list\">B-6555</td>\\n<td class=\"list\">Air China</td>\\n<td class=\"listdata\">0</td>\\n<td class=\"list\">Zhengzhou-Xi...</td>\\n<td class=\"list\"><img src=\"//cdn.aviation-safety.net/database/country/flags_15/B.gif\" title=\"China\"></td>\\n<td class=\"list\">&nbsp;</td>\\n<td class=\"list\">H2</td></tr>\\n<tr><td class=\"list\"><nobr><a href=\"/database/record.php?id=20180415-1\">15-APR-2018</a></nobr></td><td class=\"list\"><nobr>Cessna 525 CitationJet</nobr></td>\\n<td class=\"list\">N525P</td>\\n<td class=\"list\">private</td>\\n<td class=\"listdata\">1</td>\\n<td class=\"list\">near Crozet, VA</td>\\n<td class=\"list\"><img src=\"//cdn.aviation-safety.net/database/country/flags_15/N.gif\" title=\"USA\"></td>\\n<td class=\"list\"><img src=\"//cdn.aviation-safety.net/graphics/C.gif\"></td>\\n<td class=\"list\">A1</td></tr>\\n<tr><td class=\"list\"><nobr><a href=\"/database/record.php?id=20180415-2\">15-APR-2018</a></nobr></td><td class=\"list\"><nobr>Cessna 550 Citation Bravo</nobr></td>\\n<td class=\"list\">N4AT</td>\\n<td class=\"list\">Private</td>\\n<td class=\"listdata\">0</td>\\n<td class=\"list\">Winnipeg-Jam...</td>\\n<td class=\"list\"><img src=\"//cdn.aviation-safety.net/database/country/flags_15/C.gif\" title=\"Canada\"></td>\\n<td class=\"list\"><img src=\"//cdn.aviation-safety.net/graphics/C.gif\"></td>\\n<td class=\"list\">A2</td></tr>\\n<tr><td class=\"list\"><nobr><a href=\"/database/record.php?id=20180415-3\">15-APR-2018</a></nobr></td><td class=\"list\"><nobr>Bombardier Challenger 605</nobr></td>\\n<td class=\"list\">C-FXWT</td>\\n<td class=\"list\">Morningstar Partners</td>\\n<td class=\"listdata\">0</td>\\n<td class=\"list\">Winnipeg-Jam...</td>\\n<td class=\"list\"><img src=\"//cdn.aviation-safety.net/database/country/flags_15/C.gif\" title=\"Canada\"></td>\\n<td class=\"list\"><img src=\"//cdn.aviation-safety.net/graphics/C.gif\"></td>\\n<td class=\"list\">O2</td></tr>\\n<tr><td class=\"list\"><nobr><a href=\"/database/record.php?id=20180415-4\">15-APR-2018</a></nobr></td><td class=\"list\"><nobr>DHC-6 Twin Otter 100</nobr></td>\\n<td class=\"list\">C-FSCA</td>\\n<td class=\"list\">Transwest Air</td>\\n<td class=\"listdata\">0</td>\\n<td class=\"list\">Prince Alber...</td>\\n<td class=\"list\"><img src=\"//cdn.aviation-safety.net/database/country/flags_15/C.gif\" title=\"Canada\"></td>\\n<td class=\"list\">&nbsp;</td>\\n<td class=\"list\">O1</td></tr>\\n<tr><td class=\"list\"><nobr><a href=\"/database/record.php?id=20180415-5\">15-APR-2018</a></nobr></td><td class=\"list\"><nobr>Saab 340B</nobr></td>\\n<td class=\"list\">C-GTWK</td>\\n<td class=\"list\">Transwest Air</td>\\n<td class=\"listdata\">0</td>\\n<td class=\"list\">Prince Alber...</td>\\n<td class=\"list\"><img src=\"//cdn.aviation-safety.net/database/country/flags_15/C.gif\" title=\"Canada\"></td>\\n<td class=\"list\">&nbsp;</td>\\n<td class=\"list\">O1</td></tr>\\n<tr><td class=\"list\"><nobr><a href=\"/database/record.php?id=20180416-0\">16-APR-2018</a></nobr></td><td class=\"list\"><nobr>Cessna 525 CitationJet CJ1</nobr></td>\\n<td class=\"list\">D-ISWA</td>\\n<td class=\"list\">private</td>\\n<td class=\"listdata\">0</td>\\n<td class=\"list\">Le Touquet A...</td>\\n<td class=\"list\"><img src=\"//cdn.aviation-safety.net/database/country/flags_15/F.gif\" title=\"France\"></td>\\n<td class=\"list\">&nbsp;</td>\\n<td class=\"list\">A2</td></tr>\\n<tr><td class=\"list\"><nobr><a href=\"/database/record.php?id=20180417-0\">17-APR-2018</a></nobr></td><td class=\"list\"><nobr>Boeing 737-7H4 (WL)</nobr></td>\\n<td class=\"list\">N772SW</td>\\n<td class=\"list\">Southwest Airlines</td>\\n<td class=\"listdata\">1</td>\\n<td class=\"list\">near Philadelphia...</td>\\n<td class=\"list\"><img src=\"//cdn.aviation-safety.net/database/country/flags_15/N.gif\" title=\"USA\"></td>\\n<td class=\"list\"><img src=\"//cdn.aviation-safety.net/graphics/C.gif\"></td>\\n<td class=\"list\">A1</td></tr>\\n<tr><td class=\"list\"><nobr><a href=\"/database/record.php?id=20180417-1\">17-APR-2018</a></nobr></td><td class=\"list\"><nobr>DHC-8-402Q Dash 8</nobr></td>\\n<td class=\"list\">G-JECX</td>\\n<td class=\"list\">Flybe</td>\\n<td class=\"listdata\">0</td>\\n<td class=\"list\">Newquay-Corn...</td>\\n<td class=\"list\"><img src=\"//cdn.aviation-safety.net/database/country/flags_15/G.gif\" title=\"U.K.\"></td>\\n<td class=\"list\"><img src=\"//cdn.aviation-safety.net/graphics/C.gif\"></td>\\n<td class=\"list\">A2</td></tr>\\n<tr><td class=\"list\"><nobr><a href=\"/database/record.php?id=20180418-0\">18-APR-2018</a></nobr></td><td class=\"list\"><nobr>Airbus A330-302</nobr></td>\\n<td class=\"list\">N806NW</td>\\n<td class=\"list\">Delta Air Lines</td>\\n<td class=\"listdata\">0</td>\\n<td class=\"list\">Atlanta-Will...</td>\\n<td class=\"list\"><img src=\"//cdn.aviation-safety.net/database/country/flags_15/N.gif\" title=\"USA\"></td>\\n<td class=\"list\">&nbsp;</td>\\n<td class=\"list\">A2</td></tr>\\n<tr><td class=\"list\"><nobr><a href=\"/database/record.php?id=20180420-0\">20-APR-2018</a></nobr></td><td class=\"list\"><nobr>MD-83</nobr></td>\\n<td class=\"list\">N807WA</td>\\n<td class=\"list\">World Atlantic Airlines</td>\\n<td class=\"listdata\">0</td>\\n<td class=\"list\">Alexandria I...</td>\\n<td class=\"list\"><img src=\"//cdn.aviation-safety.net/database/country/flags_15/N.gif\" title=\"USA\"></td>\\n<td class=\"list\"><img src=\"//cdn.aviation-safety.net/graphics/C.gif\"></td>\\n<td class=\"list\">A1</td></tr>\\n<tr><td class=\"list\"><nobr><a href=\"/database/record.php?id=20180429-0\">29-APR-2018</a></nobr></td><td class=\"list\"><nobr>Boeing 737-8GP (WL)</nobr></td>\\n<td class=\"list\">PK-LOO</td>\\n<td class=\"list\">Lion Air</td>\\n<td class=\"listdata\">0</td>\\n<td class=\"list\">Gorontalo-Ja...</td>\\n<td class=\"list\"><img src=\"//cdn.aviation-safety.net/database/country/flags_15/PK.gif\" title=\"Indonesia\"></td>\\n<td class=\"list\"><img src=\"//cdn.aviation-safety.net/graphics/C.gif\"></td>\\n<td class=\"list\">A2</td></tr>\\n<tr><td class=\"list\"><nobr><a href=\"/database/record.php?id=20180429-1\">29-APR-2018</a></nobr></td><td class=\"list\"><nobr>Lockheed L-100-30 Hercules</nobr></td>\\n<td class=\"list\">111</td>\\n<td class=\"list\">Libyan Air Force</td>\\n<td class=\"listdata\">3</td>\\n<td class=\"list\">near Sharara Airs...</td>\\n<td class=\"list\"><img src=\"//cdn.aviation-safety.net/database/country/flags_15/5A.gif\" title=\"Libya\"></td>\\n<td class=\"list\">&nbsp;</td>\\n<td class=\"list\">A1</td></tr>\\n<tr><td class=\"list\"><nobr><a href=\"/database/record.php?id=20180429-2\">29-APR-2018</a></nobr></td><td class=\"list\"><nobr>Beech 1900C</nobr></td>\\n<td class=\"list\">N172GA</td>\\n<td class=\"list\">Alpine Aviation</td>\\n<td class=\"listdata\">0</td>\\n<td class=\"list\">Sioux Falls ...</td>\\n<td class=\"list\"><img src=\"//cdn.aviation-safety.net/database/country/flags_15/N.gif\" title=\"USA\"></td>\\n<td class=\"list\">&nbsp;</td>\\n<td class=\"list\">A2</td></tr>\\n<tr><td class=\"list\"><nobr><a href=\"/database/record.php?id=20180430-0\">30-APR-2018</a></nobr></td><td class=\"list\"><nobr>Boeing 737-8AS (WL)</nobr></td>\\n<td class=\"list\">EI-GDZ</td>\\n<td class=\"list\">Ryanair</td>\\n<td class=\"listdata\">0</td>\\n<td class=\"list\">London-Stans...</td>\\n<td class=\"list\"><img src=\"//cdn.aviation-safety.net/database/country/flags_15/G.gif\" title=\"U.K.\"></td>\\n<td class=\"list\">&nbsp;</td>\\n<td class=\"list\">A2</td></tr>\\n<tr><td class=\"list\"><nobr><a href=\"/database/record.php?id=20180501-0\">01-MAY-2018</a></nobr></td><td class=\"list\"><nobr>Bombardier CRJ-900LR (CL-600-2D24)</nobr></td>\\n<td class=\"list\">N606LR</td>\\n<td class=\"list\">Endeavor Air, opf Delta Connection</td>\\n<td class=\"listdata\">0</td>\\n<td class=\"list\">New York-Joh...</td>\\n<td class=\"list\"><img src=\"//cdn.aviation-safety.net/database/country/flags_15/N.gif\" title=\"USA\"></td>\\n<td class=\"list\">&nbsp;</td>\\n<td class=\"list\">A2</td></tr>\\n<tr><td class=\"list\"><nobr><a href=\"/database/record.php?id=20180501-1\">01-MAY-2018</a></nobr></td><td class=\"list\"><nobr>Boeing 767-332ER (WL)</nobr></td>\\n<td class=\"list\">N172DN</td>\\n<td class=\"list\">Delta Air Lines</td>\\n<td class=\"listdata\">0</td>\\n<td class=\"list\">New York-Joh...</td>\\n<td class=\"list\"><img src=\"//cdn.aviation-safety.net/database/country/flags_15/N.gif\" title=\"USA\"></td>\\n<td class=\"list\">&nbsp;</td>\\n<td class=\"list\">A2</td></tr>\\n<tr><td class=\"list\"><nobr><a href=\"/database/record.php?id=20180502-0\">02-MAY-2018</a></nobr></td><td class=\"list\"><nobr>Lockheed WC-130H Hercules</nobr></td>\\n<td class=\"list\">65-0968</td>\\n<td class=\"list\">USAF</td>\\n<td class=\"listdata\">9</td>\\n<td class=\"list\">near Savannah/Hil...</td>\\n<td class=\"list\"><img src=\"//cdn.aviation-safety.net/database/country/flags_15/N.gif\" title=\"USA\"></td>\\n<td class=\"list\"><img src=\"//cdn.aviation-safety.net/graphics/C.gif\"></td>\\n<td class=\"list\">A1</td></tr>\\n<tr><td class=\"list\"><nobr><a href=\"/database/record.php?id=20180502-1\">02-MAY-2018</a></nobr></td><td class=\"list\"><nobr>Beech C99</nobr></td>\\n<td class=\"list\">PNC0203</td>\\n<td class=\"list\">Colombian Police</td>\\n<td class=\"listdata\">4</td>\\n<td class=\"list\">near Ibagué</td>\\n<td class=\"list\"><img src=\"//cdn.aviation-safety.net/database/country/flags_15/HK.gif\" title=\"Colombia\"></td>\\n<td class=\"list\"><img src=\"//cdn.aviation-safety.net/graphics/C.gif\"></td>\\n<td class=\"list\">A1</td></tr>\\n<tr><td class=\"list\"><nobr><a href=\"/database/record.php?id=20180502-2\">02-MAY-2018</a></nobr></td><td class=\"list\"><nobr>Boeing 737-8K5 (WL)</nobr></td>\\n<td class=\"list\">OO-JAY</td>\\n<td class=\"list\">TUI fly Belgium</td>\\n<td class=\"listdata\">0</td>\\n<td class=\"list\">Marrakech-Me...</td>\\n<td class=\"list\"><img src=\"//cdn.aviation-safety.net/database/country/flags_15/CN.gif\" title=\"Morocco\"></td>\\n<td class=\"list\">&nbsp;</td>\\n<td class=\"list\">A2</td></tr>\\n<tr><td class=\"list\"><nobr><a href=\"/database/record.php?id=20180503-0\">03-MAY-2018</a></nobr></td><td class=\"list\"><nobr>Dassault Falcon 900EX</nobr></td>\\n<td class=\"list\">ZS-DEX</td>\\n<td class=\"list\">Blueport Trade 121</td>\\n<td class=\"listdata\">0</td>\\n<td class=\"list\">Johannesburg...</td>\\n<td class=\"list\"><img src=\"//cdn.aviation-safety.net/database/country/flags_15/ZS.gif\" title=\"South Africa\"></td>\\n<td class=\"list\">&nbsp;</td>\\n<td class=\"list\">A2</td></tr>\\n<tr><td class=\"list\"><nobr><a href=\"/database/record.php?id=20180504-0\">04-MAY-2018</a></nobr></td><td class=\"list\"><nobr>Cessna 525C Citation CJ4</nobr></td>\\n<td class=\"list\">EC-MOQ</td>\\n<td class=\"list\">Aluminios Cortizo</td>\\n<td class=\"listdata\">0</td>\\n<td class=\"list\">Santiago de ...</td>\\n<td class=\"list\"><img src=\"//cdn.aviation-safety.net/database/country/flags_15/EC.gif\" title=\"Spain\"></td>\\n<td class=\"list\"><img src=\"//cdn.aviation-safety.net/graphics/C.gif\"></td>\\n<td class=\"list\">A2</td></tr>\\n<tr><td class=\"list\"><nobr><a href=\"/database/record.php?id=20180505-0\">05-MAY-2018</a></nobr></td><td class=\"list\"><nobr>Embraer KC-390</nobr></td>\\n<td class=\"list\">PT-ZNF</td>\\n<td class=\"list\">Embraer</td>\\n<td class=\"listdata\">0</td>\\n<td class=\"list\">Gavião Peixo...</td>\\n<td class=\"list\"><img src=\"//cdn.aviation-safety.net/database/country/flags_15/PP.gif\" title=\"Brazil\"></td>\\n<td class=\"list\">&nbsp;</td>\\n<td class=\"list\">A2</td></tr>\\n<tr><td class=\"list\"><nobr><a href=\"/database/record.php?id=20180507-0\">07-MAY-2018</a></nobr></td><td class=\"list\"><nobr>Boeing 737-8H4 (WL)</nobr></td>\\n<td class=\"list\">N8655D</td>\\n<td class=\"list\">Southwest Airlines</td>\\n<td class=\"listdata\">0</td>\\n<td class=\"list\">Baltimore/Wa...</td>\\n<td class=\"list\"><img src=\"//cdn.aviation-safety.net/database/country/flags_15/N.gif\" title=\"USA\"></td>\\n<td class=\"list\">&nbsp;</td>\\n<td class=\"list\">A2</td></tr>\\n<tr><td class=\"list\"><nobr><a href=\"/database/record.php?id=20180512-0\">12-MAY-2018</a></nobr></td><td class=\"list\"><nobr>Lockheed L-100-30 Hercules</nobr></td>\\n<td class=\"list\">N403LC</td>\\n<td class=\"list\">Lynden Air Cargo, opf PNG Air</td>\\n<td class=\"listdata\">0</td>\\n<td class=\"list\">Port Moresby...</td>\\n<td class=\"list\"><img src=\"//cdn.aviation-safety.net/database/country/flags_15/P2.gif\" title=\"P.N. Guinea\"></td>\\n<td class=\"list\"><img src=\"//cdn.aviation-safety.net/graphics/C.gif\"></td>\\n<td class=\"list\">A2</td></tr>\\n<tr><td class=\"list\"><nobr><a href=\"/database/record.php?id=20180512-1\">12-MAY-2018</a></nobr></td><td class=\"list\"><nobr>Boeing 737-8BK (WL)</nobr></td>\\n<td class=\"list\">P2-PXE</td>\\n<td class=\"list\">Air Niugini</td>\\n<td class=\"listdata\">0</td>\\n<td class=\"list\">Port Moresby...</td>\\n<td class=\"list\"><img src=\"//cdn.aviation-safety.net/database/country/flags_15/P2.gif\" title=\"P.N. Guinea\"></td>\\n<td class=\"list\"><img src=\"//cdn.aviation-safety.net/graphics/C.gif\"></td>\\n<td class=\"list\">A2</td></tr>\\n<tr><td class=\"list\"><nobr><a href=\"/database/record.php?id=20180513-0\">13-MAY-2018</a></nobr></td><td class=\"list\"><nobr>Airbus A321-231</nobr></td>\\n<td class=\"list\">TC-JMM</td>\\n<td class=\"list\">THY</td>\\n<td class=\"listdata\">0</td>\\n<td class=\"list\">Istanbul-Ata...</td>\\n<td class=\"list\"><img src=\"//cdn.aviation-safety.net/database/country/flags_15/TC.gif\" title=\"Turkey\"></td>\\n<td class=\"list\"><img src=\"//cdn.aviation-safety.net/graphics/C.gif\"></td>\\n<td class=\"list\">A2</td></tr>\\n<tr><td class=\"list\"><nobr><a href=\"/database/record.php?id=20180513-1\">13-MAY-2018</a></nobr></td><td class=\"list\"><nobr>Airbus A330-323</nobr></td>\\n<td class=\"list\">HL7792</td>\\n<td class=\"list\">Asiana Airlines</td>\\n<td class=\"listdata\">0</td>\\n<td class=\"list\">Istanbul-Ata...</td>\\n<td class=\"list\"><img src=\"//cdn.aviation-safety.net/database/country/flags_15/TC.gif\" title=\"Turkey\"></td>\\n<td class=\"list\"><img src=\"//cdn.aviation-safety.net/graphics/C.gif\"></td>\\n<td class=\"list\">A2</td></tr>\\n<tr><td class=\"list\"><nobr><a href=\"/database/record.php?id=20180513-2\">13-MAY-2018</a></nobr></td><td class=\"list\"><nobr>Cessna 208B Grand Caravan</nobr></td>\\n<td class=\"list\">G-KNYS</td>\\n<td class=\"list\">Irish Parachute Club, lsf Parachuting Caravan Leasing</td>\\n<td class=\"listdata\">2</td>\\n<td class=\"list\">near Clonbullogue...</td>\\n<td class=\"list\"><img src=\"//cdn.aviation-safety.net/database/country/flags_15/EI.gif\" title=\"Ireland\"></td>\\n<td class=\"list\"><img src=\"//cdn.aviation-safety.net/graphics/C.gif\"></td>\\n<td class=\"list\">A1</td></tr>\\n<tr><td class=\"list\"><nobr><a href=\"/database/record.php?id=20180515-0\">15-MAY-2018</a></nobr></td><td class=\"list\"><nobr>Cessna 208B Grand Caravan</nobr></td>\\n<td class=\"list\">&nbsp;</td>\\n<td class=\"list\">private</td>\\n<td class=\"listdata\">2</td>\\n<td class=\"list\">near Tuzantán</td>\\n<td class=\"list\"><img src=\"//cdn.aviation-safety.net/database/country/flags_15/XA.gif\" title=\"Mexico\"></td>\\n<td class=\"list\">&nbsp;</td>\\n<td class=\"list\">A1</td></tr>\\n<tr><td class=\"list\"><nobr><a href=\"/database/record.php?id=20180516-0\">16-MAY-2018</a></nobr></td><td class=\"list\"><nobr>Cessna 208B Grand Caravan</nobr></td>\\n<td class=\"list\">9N-AJU</td>\\n<td class=\"list\"><img src=\"//cdn.aviation-safety.net/graphics/euban_20.gif\" alt=\"EU blacklist\" title=\"Makalu Air is on the List of airlines banned within the EU\"> Makalu Air</td>\\n<td class=\"listdata\">2</td>\\n<td class=\"list\">Bahun Khark</td>\\n<td class=\"list\"><img src=\"//cdn.aviation-safety.net/database/country/flags_15/9N.gif\" title=\"Nepal\"></td>\\n<td class=\"list\"><img src=\"//cdn.aviation-safety.net/graphics/C.gif\"></td>\\n<td class=\"list\">A1</td></tr>\\n<tr><td class=\"list\"><nobr><a href=\"/database/record.php?id=20180518-0\">18-MAY-2018</a></nobr></td><td class=\"list\"><nobr>Boeing 737-201</nobr></td>\\n<td class=\"list\">XA-UHZ</td>\\n<td class=\"list\">Cubana, lsf Global Air</td>\\n<td class=\"listdata\">112</td>\\n<td class=\"list\">near Havana-José ...</td>\\n<td class=\"list\"><img src=\"//cdn.aviation-safety.net/database/country/flags_15/CU.gif\" title=\"Cuba\"></td>\\n<td class=\"list\"><img src=\"//cdn.aviation-safety.net/graphics/C.gif\"></td>\\n<td class=\"list\">A1</td></tr>\\n<tr><td class=\"list\"><nobr><a href=\"/database/record.php?id=20180520-0\">20-MAY-2018</a></nobr></td><td class=\"list\"><nobr>Gulfstream G200 Galaxy</nobr></td>\\n<td class=\"list\">B-8129</td>\\n<td class=\"list\">Star Jet</td>\\n<td class=\"listdata\">0</td>\\n<td class=\"list\">Yangzhou Tai...</td>\\n<td class=\"list\"><img src=\"//cdn.aviation-safety.net/database/country/flags_15/B.gif\" title=\"China\"></td>\\n<td class=\"list\">&nbsp;</td>\\n<td class=\"list\">A1</td></tr>\\n<tr><td class=\"list\"><nobr><a href=\"/database/record.php?id=20180521-0\">21-MAY-2018</a></nobr></td><td class=\"list\"><nobr>Airbus A330-243</nobr></td>\\n<td class=\"list\">TC-OCH</td>\\n<td class=\"list\">Saudi Arabian, lsf Onur Air</td>\\n<td class=\"listdata\">0</td>\\n<td class=\"list\">Jeddah-King ...</td>\\n<td class=\"list\"><img src=\"//cdn.aviation-safety.net/database/country/flags_15/HZ.gif\" title=\"Saudi Arabia\"></td>\\n<td class=\"list\"><img src=\"//cdn.aviation-safety.net/graphics/C.gif\"></td>\\n<td class=\"list\">A1</td></tr>\\n<tr><td class=\"list\"><nobr><a href=\"/database/record.php?id=20180522-0\">22-MAY-2018</a></nobr></td><td class=\"list\"><nobr>Cessna 208B Grand Caravan</nobr></td>\\n<td class=\"list\">PT-FLW</td>\\n<td class=\"list\">Amazonaves Táxi Aéreo</td>\\n<td class=\"listdata\">0</td>\\n<td class=\"list\">near Manaus-Aeroc...</td>\\n<td class=\"list\"><img src=\"//cdn.aviation-safety.net/database/country/flags_15/PP.gif\" title=\"Brazil\"></td>\\n<td class=\"list\">&nbsp;</td>\\n<td class=\"list\">A1</td></tr>\\n<tr><td class=\"list\"><nobr><a href=\"/database/record.php?id=20180522-1\">22-MAY-2018</a></nobr></td><td class=\"list\"><nobr>Gulfstream G200 Galaxy</nobr></td>\\n<td class=\"list\">N813WM</td>\\n<td class=\"list\">Silver Air</td>\\n<td class=\"listdata\">0</td>\\n<td class=\"list\">Tegucigalpa-...</td>\\n<td class=\"list\"><img src=\"//cdn.aviation-safety.net/database/country/flags_15/HR.gif\" title=\"Honduras\"></td>\\n<td class=\"list\"><img src=\"//cdn.aviation-safety.net/graphics/C.gif\"></td>\\n<td class=\"list\">A1</td></tr>\\n<tr><td class=\"list\"><nobr><a href=\"/database/record.php?id=20180523-0\">23-MAY-2018</a></nobr></td><td class=\"list\"><nobr>Beech 200 Super King Air</nobr></td>\\n<td class=\"list\">N905GP</td>\\n<td class=\"list\">Air Katanga</td>\\n<td class=\"listdata\">0</td>\\n<td class=\"list\">Kolwezi Airp...</td>\\n<td class=\"list\"><img src=\"//cdn.aviation-safety.net/database/country/flags_15/9Q.gif\" title=\"D.R. Congo\"></td>\\n<td class=\"list\">&nbsp;</td>\\n<td class=\"list\">A2</td></tr>\\n<tr><td class=\"list\"><nobr><a href=\"/database/record.php?id=20180523-1\">23-MAY-2018</a></nobr></td><td class=\"list\"><nobr>Beech 200 Super King Air</nobr></td>\\n<td class=\"list\">N800HA</td>\\n<td class=\"list\">Titan Drilling</td>\\n<td class=\"listdata\">0</td>\\n<td class=\"list\">Kolwezi Airp...</td>\\n<td class=\"list\"><img src=\"//cdn.aviation-safety.net/database/country/flags_15/9Q.gif\" title=\"D.R. Congo\"></td>\\n<td class=\"list\">&nbsp;</td>\\n<td class=\"list\">A2</td></tr>\\n</tbody></table>'"
      ]
     },
     "execution_count": 17,
     "metadata": {},
     "output_type": "execute_result"
    }
   ],
   "source": [
    "elem.get_attribute('outerHTML')"
   ]
  },
  {
   "cell_type": "code",
   "execution_count": 26,
   "id": "df0e4948",
   "metadata": {
    "ExecuteTime": {
     "end_time": "2021-12-11T17:28:43.423519Z",
     "start_time": "2021-12-11T17:28:43.210454Z"
    }
   },
   "outputs": [],
   "source": [
    "tab20181 = pd.read_html(elem.get_attribute('outerHTML'))[0]"
   ]
  },
  {
   "cell_type": "code",
   "execution_count": 27,
   "id": "c2aba009",
   "metadata": {
    "ExecuteTime": {
     "end_time": "2021-12-11T17:29:12.296883Z",
     "start_time": "2021-12-11T17:29:12.212799Z"
    }
   },
   "outputs": [],
   "source": [
    "tab20181['url']=url1"
   ]
  },
  {
   "cell_type": "code",
   "execution_count": 28,
   "id": "7e7bd27e",
   "metadata": {
    "ExecuteTime": {
     "end_time": "2021-12-11T17:29:17.678213Z",
     "start_time": "2021-12-11T17:29:17.600819Z"
    },
    "collapsed": true
   },
   "outputs": [
    {
     "data": {
      "text/html": [
       "<div>\n",
       "<style scoped>\n",
       "    .dataframe tbody tr th:only-of-type {\n",
       "        vertical-align: middle;\n",
       "    }\n",
       "\n",
       "    .dataframe tbody tr th {\n",
       "        vertical-align: top;\n",
       "    }\n",
       "\n",
       "    .dataframe thead th {\n",
       "        text-align: right;\n",
       "    }\n",
       "</style>\n",
       "<table border=\"1\" class=\"dataframe\">\n",
       "  <thead>\n",
       "    <tr style=\"text-align: right;\">\n",
       "      <th></th>\n",
       "      <th>date</th>\n",
       "      <th>type</th>\n",
       "      <th>registration</th>\n",
       "      <th>operator</th>\n",
       "      <th>fat.</th>\n",
       "      <th>location</th>\n",
       "      <th>Unnamed: 6</th>\n",
       "      <th>pic</th>\n",
       "      <th>cat</th>\n",
       "      <th>url</th>\n",
       "    </tr>\n",
       "  </thead>\n",
       "  <tbody>\n",
       "    <tr>\n",
       "      <th>0</th>\n",
       "      <td>04-JAN-2018</td>\n",
       "      <td>Gulfstream G150</td>\n",
       "      <td>OE-GKA</td>\n",
       "      <td>Private Airlines Germany</td>\n",
       "      <td>0+ 1</td>\n",
       "      <td>Kittilä Airp...</td>\n",
       "      <td>NaN</td>\n",
       "      <td>NaN</td>\n",
       "      <td>A2</td>\n",
       "      <td>https://aviation-safety.net/database/record.ph...</td>\n",
       "    </tr>\n",
       "    <tr>\n",
       "      <th>1</th>\n",
       "      <td>05-JAN-2018</td>\n",
       "      <td>Boeing 737-8CT (WL)</td>\n",
       "      <td>C-FDMB</td>\n",
       "      <td>WestJet</td>\n",
       "      <td>0</td>\n",
       "      <td>Toronto-Pear...</td>\n",
       "      <td>NaN</td>\n",
       "      <td>NaN</td>\n",
       "      <td>A2</td>\n",
       "      <td>https://aviation-safety.net/database/record.ph...</td>\n",
       "    </tr>\n",
       "    <tr>\n",
       "      <th>2</th>\n",
       "      <td>05-JAN-2018</td>\n",
       "      <td>Boeing 737-8FH (WL)</td>\n",
       "      <td>C-FPRP</td>\n",
       "      <td>Sunwing Airlines</td>\n",
       "      <td>0</td>\n",
       "      <td>Toronto-Pear...</td>\n",
       "      <td>NaN</td>\n",
       "      <td>NaN</td>\n",
       "      <td>A2</td>\n",
       "      <td>https://aviation-safety.net/database/record.ph...</td>\n",
       "    </tr>\n",
       "    <tr>\n",
       "      <th>3</th>\n",
       "      <td>06-JAN-2018</td>\n",
       "      <td>Antonov An-2TP</td>\n",
       "      <td>YV1944</td>\n",
       "      <td>Unknown</td>\n",
       "      <td>0</td>\n",
       "      <td>La Paragua A...</td>\n",
       "      <td>NaN</td>\n",
       "      <td>NaN</td>\n",
       "      <td>A1</td>\n",
       "      <td>https://aviation-safety.net/database/record.ph...</td>\n",
       "    </tr>\n",
       "    <tr>\n",
       "      <th>4</th>\n",
       "      <td>07-JAN-2018</td>\n",
       "      <td>Cessna 208B Grand Caravan</td>\n",
       "      <td>5Y-FDC</td>\n",
       "      <td>Unknown</td>\n",
       "      <td>0+ 1</td>\n",
       "      <td>Akobo</td>\n",
       "      <td>NaN</td>\n",
       "      <td>NaN</td>\n",
       "      <td>A1</td>\n",
       "      <td>https://aviation-safety.net/database/record.ph...</td>\n",
       "    </tr>\n",
       "    <tr>\n",
       "      <th>...</th>\n",
       "      <td>...</td>\n",
       "      <td>...</td>\n",
       "      <td>...</td>\n",
       "      <td>...</td>\n",
       "      <td>...</td>\n",
       "      <td>...</td>\n",
       "      <td>...</td>\n",
       "      <td>...</td>\n",
       "      <td>...</td>\n",
       "      <td>...</td>\n",
       "    </tr>\n",
       "    <tr>\n",
       "      <th>95</th>\n",
       "      <td>21-MAY-2018</td>\n",
       "      <td>Airbus A330-243</td>\n",
       "      <td>TC-OCH</td>\n",
       "      <td>Saudi Arabian, lsf Onur Air</td>\n",
       "      <td>0</td>\n",
       "      <td>Jeddah-King ...</td>\n",
       "      <td>NaN</td>\n",
       "      <td>NaN</td>\n",
       "      <td>A1</td>\n",
       "      <td>https://aviation-safety.net/database/record.ph...</td>\n",
       "    </tr>\n",
       "    <tr>\n",
       "      <th>96</th>\n",
       "      <td>22-MAY-2018</td>\n",
       "      <td>Cessna 208B Grand Caravan</td>\n",
       "      <td>PT-FLW</td>\n",
       "      <td>Amazonaves Táxi Aéreo</td>\n",
       "      <td>0</td>\n",
       "      <td>near Manaus-Aeroc...</td>\n",
       "      <td>NaN</td>\n",
       "      <td>NaN</td>\n",
       "      <td>A1</td>\n",
       "      <td>https://aviation-safety.net/database/record.ph...</td>\n",
       "    </tr>\n",
       "    <tr>\n",
       "      <th>97</th>\n",
       "      <td>22-MAY-2018</td>\n",
       "      <td>Gulfstream G200 Galaxy</td>\n",
       "      <td>N813WM</td>\n",
       "      <td>Silver Air</td>\n",
       "      <td>0</td>\n",
       "      <td>Tegucigalpa-...</td>\n",
       "      <td>NaN</td>\n",
       "      <td>NaN</td>\n",
       "      <td>A1</td>\n",
       "      <td>https://aviation-safety.net/database/record.ph...</td>\n",
       "    </tr>\n",
       "    <tr>\n",
       "      <th>98</th>\n",
       "      <td>23-MAY-2018</td>\n",
       "      <td>Beech 200 Super King Air</td>\n",
       "      <td>N905GP</td>\n",
       "      <td>Air Katanga</td>\n",
       "      <td>0</td>\n",
       "      <td>Kolwezi Airp...</td>\n",
       "      <td>NaN</td>\n",
       "      <td>NaN</td>\n",
       "      <td>A2</td>\n",
       "      <td>https://aviation-safety.net/database/record.ph...</td>\n",
       "    </tr>\n",
       "    <tr>\n",
       "      <th>99</th>\n",
       "      <td>23-MAY-2018</td>\n",
       "      <td>Beech 200 Super King Air</td>\n",
       "      <td>N800HA</td>\n",
       "      <td>Titan Drilling</td>\n",
       "      <td>0</td>\n",
       "      <td>Kolwezi Airp...</td>\n",
       "      <td>NaN</td>\n",
       "      <td>NaN</td>\n",
       "      <td>A2</td>\n",
       "      <td>https://aviation-safety.net/database/record.ph...</td>\n",
       "    </tr>\n",
       "  </tbody>\n",
       "</table>\n",
       "<p>100 rows × 10 columns</p>\n",
       "</div>"
      ],
      "text/plain": [
       "           date                       type registration  \\\n",
       "0   04-JAN-2018            Gulfstream G150       OE-GKA   \n",
       "1   05-JAN-2018        Boeing 737-8CT (WL)       C-FDMB   \n",
       "2   05-JAN-2018        Boeing 737-8FH (WL)       C-FPRP   \n",
       "3   06-JAN-2018             Antonov An-2TP       YV1944   \n",
       "4   07-JAN-2018  Cessna 208B Grand Caravan       5Y-FDC   \n",
       "..          ...                        ...          ...   \n",
       "95  21-MAY-2018            Airbus A330-243       TC-OCH   \n",
       "96  22-MAY-2018  Cessna 208B Grand Caravan       PT-FLW   \n",
       "97  22-MAY-2018     Gulfstream G200 Galaxy       N813WM   \n",
       "98  23-MAY-2018   Beech 200 Super King Air       N905GP   \n",
       "99  23-MAY-2018   Beech 200 Super King Air       N800HA   \n",
       "\n",
       "                       operator  fat.              location  Unnamed: 6  pic  \\\n",
       "0      Private Airlines Germany  0+ 1       Kittilä Airp...         NaN  NaN   \n",
       "1                       WestJet     0       Toronto-Pear...         NaN  NaN   \n",
       "2              Sunwing Airlines     0       Toronto-Pear...         NaN  NaN   \n",
       "3                       Unknown     0       La Paragua A...         NaN  NaN   \n",
       "4                       Unknown  0+ 1                 Akobo         NaN  NaN   \n",
       "..                          ...   ...                   ...         ...  ...   \n",
       "95  Saudi Arabian, lsf Onur Air     0       Jeddah-King ...         NaN  NaN   \n",
       "96        Amazonaves Táxi Aéreo     0  near Manaus-Aeroc...         NaN  NaN   \n",
       "97                   Silver Air     0       Tegucigalpa-...         NaN  NaN   \n",
       "98                  Air Katanga     0       Kolwezi Airp...         NaN  NaN   \n",
       "99               Titan Drilling     0       Kolwezi Airp...         NaN  NaN   \n",
       "\n",
       "   cat                                                url  \n",
       "0   A2  https://aviation-safety.net/database/record.ph...  \n",
       "1   A2  https://aviation-safety.net/database/record.ph...  \n",
       "2   A2  https://aviation-safety.net/database/record.ph...  \n",
       "3   A1  https://aviation-safety.net/database/record.ph...  \n",
       "4   A1  https://aviation-safety.net/database/record.ph...  \n",
       "..  ..                                                ...  \n",
       "95  A1  https://aviation-safety.net/database/record.ph...  \n",
       "96  A1  https://aviation-safety.net/database/record.ph...  \n",
       "97  A1  https://aviation-safety.net/database/record.ph...  \n",
       "98  A2  https://aviation-safety.net/database/record.ph...  \n",
       "99  A2  https://aviation-safety.net/database/record.ph...  \n",
       "\n",
       "[100 rows x 10 columns]"
      ]
     },
     "execution_count": 28,
     "metadata": {},
     "output_type": "execute_result"
    }
   ],
   "source": [
    "tab20181"
   ]
  },
  {
   "cell_type": "code",
   "execution_count": 10,
   "id": "10b956f6",
   "metadata": {
    "ExecuteTime": {
     "end_time": "2021-12-11T17:08:35.312488Z",
     "start_time": "2021-12-11T17:08:35.295353Z"
    }
   },
   "outputs": [],
   "source": [
    "url = 'https://aviation-safety.net/database/dblist.php?Year=2018&lang=&page=1'"
   ]
  },
  {
   "cell_type": "code",
   "execution_count": null,
   "id": "a096077c",
   "metadata": {},
   "outputs": [],
   "source": [
    "years_url = []\n",
    "while int(url[53:57]) <= current_year:\n",
    "       years_url.append(url)\n",
    "       url = url[:53]+ str(int(url[53:57])+1) +url[57:]"
   ]
  },
  {
   "cell_type": "code",
   "execution_count": 65,
   "id": "9926e147",
   "metadata": {
    "ExecuteTime": {
     "end_time": "2021-12-11T18:29:31.582882Z",
     "start_time": "2021-12-11T18:28:23.079159Z"
    },
    "scrolled": true
   },
   "outputs": [],
   "source": [
    "accidents = pd.DataFrame()\n",
    "for year in years_url:\n",
    "    table_all_pages = pd.DataFrame()\n",
    "    list_url = [year]\n",
    "    for url in list_url:\n",
    "        driver.get(url)\n",
    "        pages = [i.get_attribute('href') for i in driver.find_elements('tag name','a') if 'page'in i.get_attribute('href') ]\n",
    "        pages = list(set(pages))\n",
    "        [list_url.append(item) for item in pages]\n",
    "        list_url = list(set(list_url))\n",
    "        elem = driver.find_element('tag name','table')\n",
    "        elem.get_attribute('outerHTML')\n",
    "        elem.find_element('tag name','a')\n",
    "        url1 = [i.get_attribute('href') for i in (elem.find_elements('tag name','a'))][1:]\n",
    "        tab_page1 = pd.read_html(elem.get_attribute('outerHTML'))[0]\n",
    "        tab_page1['url'] = url1\n",
    "        table_all_pages = table_all_pages.append(tab_page1)\n",
    "    accidents = accidents.append(table_all_pages)"
   ]
  },
  {
   "cell_type": "code",
   "execution_count": 67,
   "id": "905d68c5",
   "metadata": {
    "ExecuteTime": {
     "end_time": "2021-12-11T18:30:07.815563Z",
     "start_time": "2021-12-11T18:30:07.740762Z"
    }
   },
   "outputs": [
    {
     "data": {
      "text/html": [
       "<div>\n",
       "<style scoped>\n",
       "    .dataframe tbody tr th:only-of-type {\n",
       "        vertical-align: middle;\n",
       "    }\n",
       "\n",
       "    .dataframe tbody tr th {\n",
       "        vertical-align: top;\n",
       "    }\n",
       "\n",
       "    .dataframe thead th {\n",
       "        text-align: right;\n",
       "    }\n",
       "</style>\n",
       "<table border=\"1\" class=\"dataframe\">\n",
       "  <thead>\n",
       "    <tr style=\"text-align: right;\">\n",
       "      <th></th>\n",
       "      <th>date</th>\n",
       "      <th>type</th>\n",
       "      <th>registration</th>\n",
       "      <th>operator</th>\n",
       "      <th>fat.</th>\n",
       "      <th>location</th>\n",
       "      <th>Unnamed: 6</th>\n",
       "      <th>pic</th>\n",
       "      <th>cat</th>\n",
       "      <th>url</th>\n",
       "    </tr>\n",
       "  </thead>\n",
       "  <tbody>\n",
       "    <tr>\n",
       "      <th>0</th>\n",
       "      <td>04-JAN-2018</td>\n",
       "      <td>Gulfstream G150</td>\n",
       "      <td>OE-GKA</td>\n",
       "      <td>Private Airlines Germany</td>\n",
       "      <td>0+ 1</td>\n",
       "      <td>Kittilä Airp...</td>\n",
       "      <td>NaN</td>\n",
       "      <td>NaN</td>\n",
       "      <td>A2</td>\n",
       "      <td>https://aviation-safety.net/database/record.ph...</td>\n",
       "    </tr>\n",
       "    <tr>\n",
       "      <th>1</th>\n",
       "      <td>05-JAN-2018</td>\n",
       "      <td>Boeing 737-8CT (WL)</td>\n",
       "      <td>C-FDMB</td>\n",
       "      <td>WestJet</td>\n",
       "      <td>0</td>\n",
       "      <td>Toronto-Pear...</td>\n",
       "      <td>NaN</td>\n",
       "      <td>NaN</td>\n",
       "      <td>A2</td>\n",
       "      <td>https://aviation-safety.net/database/record.ph...</td>\n",
       "    </tr>\n",
       "    <tr>\n",
       "      <th>2</th>\n",
       "      <td>05-JAN-2018</td>\n",
       "      <td>Boeing 737-8FH (WL)</td>\n",
       "      <td>C-FPRP</td>\n",
       "      <td>Sunwing Airlines</td>\n",
       "      <td>0</td>\n",
       "      <td>Toronto-Pear...</td>\n",
       "      <td>NaN</td>\n",
       "      <td>NaN</td>\n",
       "      <td>A2</td>\n",
       "      <td>https://aviation-safety.net/database/record.ph...</td>\n",
       "    </tr>\n",
       "    <tr>\n",
       "      <th>3</th>\n",
       "      <td>06-JAN-2018</td>\n",
       "      <td>Antonov An-2TP</td>\n",
       "      <td>YV1944</td>\n",
       "      <td>Unknown</td>\n",
       "      <td>0</td>\n",
       "      <td>La Paragua A...</td>\n",
       "      <td>NaN</td>\n",
       "      <td>NaN</td>\n",
       "      <td>A1</td>\n",
       "      <td>https://aviation-safety.net/database/record.ph...</td>\n",
       "    </tr>\n",
       "    <tr>\n",
       "      <th>4</th>\n",
       "      <td>07-JAN-2018</td>\n",
       "      <td>Cessna 208B Grand Caravan</td>\n",
       "      <td>5Y-FDC</td>\n",
       "      <td>Unknown</td>\n",
       "      <td>0+ 1</td>\n",
       "      <td>Akobo</td>\n",
       "      <td>NaN</td>\n",
       "      <td>NaN</td>\n",
       "      <td>A1</td>\n",
       "      <td>https://aviation-safety.net/database/record.ph...</td>\n",
       "    </tr>\n",
       "    <tr>\n",
       "      <th>...</th>\n",
       "      <td>...</td>\n",
       "      <td>...</td>\n",
       "      <td>...</td>\n",
       "      <td>...</td>\n",
       "      <td>...</td>\n",
       "      <td>...</td>\n",
       "      <td>...</td>\n",
       "      <td>...</td>\n",
       "      <td>...</td>\n",
       "      <td>...</td>\n",
       "    </tr>\n",
       "    <tr>\n",
       "      <th>30</th>\n",
       "      <td>13-NOV-2021</td>\n",
       "      <td>BN-2A-6 Islander</td>\n",
       "      <td>N866JA</td>\n",
       "      <td>Island Airways</td>\n",
       "      <td>4</td>\n",
       "      <td>near Beaver Islan...</td>\n",
       "      <td>NaN</td>\n",
       "      <td>NaN</td>\n",
       "      <td>A1</td>\n",
       "      <td>https://aviation-safety.net/database/record.ph...</td>\n",
       "    </tr>\n",
       "    <tr>\n",
       "      <th>31</th>\n",
       "      <td>14-NOV-2021</td>\n",
       "      <td>IAI 1125 Astra SP</td>\n",
       "      <td>N771DX</td>\n",
       "      <td>EMD Astra Holdings LLC</td>\n",
       "      <td>0</td>\n",
       "      <td>Las Vegas-No...</td>\n",
       "      <td>NaN</td>\n",
       "      <td>NaN</td>\n",
       "      <td>A2</td>\n",
       "      <td>https://aviation-safety.net/database/record.ph...</td>\n",
       "    </tr>\n",
       "    <tr>\n",
       "      <th>32</th>\n",
       "      <td>29-NOV-2021</td>\n",
       "      <td>Boeing 747-4B5F</td>\n",
       "      <td>N705CK</td>\n",
       "      <td>Kalitta Air</td>\n",
       "      <td>0</td>\n",
       "      <td>between Sant...</td>\n",
       "      <td>NaN</td>\n",
       "      <td>NaN</td>\n",
       "      <td>A2</td>\n",
       "      <td>https://aviation-safety.net/database/record.ph...</td>\n",
       "    </tr>\n",
       "    <tr>\n",
       "      <th>33</th>\n",
       "      <td>01-DEC-2021</td>\n",
       "      <td>Cessna 208 Caravan I</td>\n",
       "      <td>N9602F</td>\n",
       "      <td>Lake &amp; Peninsula Airlines</td>\n",
       "      <td>0</td>\n",
       "      <td>near Port Alswort...</td>\n",
       "      <td>NaN</td>\n",
       "      <td>NaN</td>\n",
       "      <td>A2</td>\n",
       "      <td>https://aviation-safety.net/database/record.ph...</td>\n",
       "    </tr>\n",
       "    <tr>\n",
       "      <th>34</th>\n",
       "      <td>01-DEC-2021</td>\n",
       "      <td>Cessna 510 Citation Mustang</td>\n",
       "      <td>N81CB</td>\n",
       "      <td>private</td>\n",
       "      <td>0</td>\n",
       "      <td>Lake Havasu ...</td>\n",
       "      <td>NaN</td>\n",
       "      <td>NaN</td>\n",
       "      <td>A2</td>\n",
       "      <td>https://aviation-safety.net/database/record.ph...</td>\n",
       "    </tr>\n",
       "  </tbody>\n",
       "</table>\n",
       "<p>777 rows × 10 columns</p>\n",
       "</div>"
      ],
      "text/plain": [
       "           date                         type registration  \\\n",
       "0   04-JAN-2018              Gulfstream G150       OE-GKA   \n",
       "1   05-JAN-2018          Boeing 737-8CT (WL)       C-FDMB   \n",
       "2   05-JAN-2018          Boeing 737-8FH (WL)       C-FPRP   \n",
       "3   06-JAN-2018               Antonov An-2TP       YV1944   \n",
       "4   07-JAN-2018    Cessna 208B Grand Caravan       5Y-FDC   \n",
       "..          ...                          ...          ...   \n",
       "30  13-NOV-2021             BN-2A-6 Islander       N866JA   \n",
       "31  14-NOV-2021            IAI 1125 Astra SP       N771DX   \n",
       "32  29-NOV-2021              Boeing 747-4B5F       N705CK   \n",
       "33  01-DEC-2021         Cessna 208 Caravan I       N9602F   \n",
       "34  01-DEC-2021  Cessna 510 Citation Mustang        N81CB   \n",
       "\n",
       "                     operator  fat.              location  Unnamed: 6  pic  \\\n",
       "0    Private Airlines Germany  0+ 1       Kittilä Airp...         NaN  NaN   \n",
       "1                     WestJet     0       Toronto-Pear...         NaN  NaN   \n",
       "2            Sunwing Airlines     0       Toronto-Pear...         NaN  NaN   \n",
       "3                     Unknown     0       La Paragua A...         NaN  NaN   \n",
       "4                     Unknown  0+ 1                 Akobo         NaN  NaN   \n",
       "..                        ...   ...                   ...         ...  ...   \n",
       "30             Island Airways     4  near Beaver Islan...         NaN  NaN   \n",
       "31     EMD Astra Holdings LLC     0       Las Vegas-No...         NaN  NaN   \n",
       "32                Kalitta Air     0       between Sant...         NaN  NaN   \n",
       "33  Lake & Peninsula Airlines     0  near Port Alswort...         NaN  NaN   \n",
       "34                    private     0       Lake Havasu ...         NaN  NaN   \n",
       "\n",
       "   cat                                                url  \n",
       "0   A2  https://aviation-safety.net/database/record.ph...  \n",
       "1   A2  https://aviation-safety.net/database/record.ph...  \n",
       "2   A2  https://aviation-safety.net/database/record.ph...  \n",
       "3   A1  https://aviation-safety.net/database/record.ph...  \n",
       "4   A1  https://aviation-safety.net/database/record.ph...  \n",
       "..  ..                                                ...  \n",
       "30  A1  https://aviation-safety.net/database/record.ph...  \n",
       "31  A2  https://aviation-safety.net/database/record.ph...  \n",
       "32  A2  https://aviation-safety.net/database/record.ph...  \n",
       "33  A2  https://aviation-safety.net/database/record.ph...  \n",
       "34  A2  https://aviation-safety.net/database/record.ph...  \n",
       "\n",
       "[777 rows x 10 columns]"
      ]
     },
     "execution_count": 67,
     "metadata": {},
     "output_type": "execute_result"
    }
   ],
   "source": [
    "accidents"
   ]
  },
  {
   "cell_type": "code",
   "execution_count": 58,
   "id": "ad8eb418",
   "metadata": {
    "ExecuteTime": {
     "end_time": "2021-12-11T18:11:53.803879Z",
     "start_time": "2021-12-11T18:11:53.788918Z"
    }
   },
   "outputs": [],
   "source": [
    "url2 = url[:53]+ str(int(url[53:57])+1) +url[57:]"
   ]
  },
  {
   "cell_type": "code",
   "execution_count": 60,
   "id": "6357269b",
   "metadata": {
    "ExecuteTime": {
     "end_time": "2021-12-11T18:16:06.273531Z",
     "start_time": "2021-12-11T18:16:06.253605Z"
    }
   },
   "outputs": [],
   "source": [
    "from datetime import date\n",
    "current_year = date.today().year"
   ]
  },
  {
   "cell_type": "code",
   "execution_count": 61,
   "id": "49a213ae",
   "metadata": {
    "ExecuteTime": {
     "end_time": "2021-12-11T18:16:16.701091Z",
     "start_time": "2021-12-11T18:16:16.655212Z"
    }
   },
   "outputs": [
    {
     "data": {
      "text/plain": [
       "2021"
      ]
     },
     "execution_count": 61,
     "metadata": {},
     "output_type": "execute_result"
    }
   ],
   "source": [
    "current_year"
   ]
  },
  {
   "cell_type": "code",
   "execution_count": 63,
   "id": "bba42076",
   "metadata": {
    "ExecuteTime": {
     "end_time": "2021-12-11T18:19:00.960977Z",
     "start_time": "2021-12-11T18:19:00.506053Z"
    }
   },
   "outputs": [],
   "source": [
    "years_url = []\n",
    "while int(url[53:57]) <= current_year:\n",
    "       years_url.append(url)\n",
    "       url = url[:53]+ str(int(url[53:57])+1) +url[57:]"
   ]
  },
  {
   "cell_type": "code",
   "execution_count": 64,
   "id": "9ab32758",
   "metadata": {
    "ExecuteTime": {
     "end_time": "2021-12-11T18:19:06.780849Z",
     "start_time": "2021-12-11T18:19:06.760902Z"
    }
   },
   "outputs": [
    {
     "data": {
      "text/plain": [
       "['https://aviation-safety.net/database/dblist.php?Year=2018&lang=&page=1',\n",
       " 'https://aviation-safety.net/database/dblist.php?Year=2019&lang=&page=1',\n",
       " 'https://aviation-safety.net/database/dblist.php?Year=2020&lang=&page=1',\n",
       " 'https://aviation-safety.net/database/dblist.php?Year=2021&lang=&page=1']"
      ]
     },
     "execution_count": 64,
     "metadata": {},
     "output_type": "execute_result"
    }
   ],
   "source": [
    "years_url"
   ]
  },
  {
   "cell_type": "code",
   "execution_count": 69,
   "id": "e989936c",
   "metadata": {
    "ExecuteTime": {
     "end_time": "2021-12-11T18:33:05.545482Z",
     "start_time": "2021-12-11T18:33:05.500603Z"
    }
   },
   "outputs": [],
   "source": [
    "accidents.to_csv('accidents-2018-2021.csv', index=False)"
   ]
  }
 ],
 "metadata": {
  "kernelspec": {
   "display_name": "Python 3",
   "language": "python",
   "name": "python3"
  },
  "language_info": {
   "codemirror_mode": {
    "name": "ipython",
    "version": 3
   },
   "file_extension": ".py",
   "mimetype": "text/x-python",
   "name": "python",
   "nbconvert_exporter": "python",
   "pygments_lexer": "ipython3",
   "version": "3.8.8"
  },
  "toc": {
   "base_numbering": 1,
   "nav_menu": {},
   "number_sections": true,
   "sideBar": true,
   "skip_h1_title": false,
   "title_cell": "Table of Contents",
   "title_sidebar": "Contents",
   "toc_cell": false,
   "toc_position": {},
   "toc_section_display": true,
   "toc_window_display": false
  },
  "varInspector": {
   "cols": {
    "lenName": 16,
    "lenType": 16,
    "lenVar": 40
   },
   "kernels_config": {
    "python": {
     "delete_cmd_postfix": "",
     "delete_cmd_prefix": "del ",
     "library": "var_list.py",
     "varRefreshCmd": "print(var_dic_list())"
    },
    "r": {
     "delete_cmd_postfix": ") ",
     "delete_cmd_prefix": "rm(",
     "library": "var_list.r",
     "varRefreshCmd": "cat(var_dic_list()) "
    }
   },
   "types_to_exclude": [
    "module",
    "function",
    "builtin_function_or_method",
    "instance",
    "_Feature"
   ],
   "window_display": false
  }
 },
 "nbformat": 4,
 "nbformat_minor": 5
}
