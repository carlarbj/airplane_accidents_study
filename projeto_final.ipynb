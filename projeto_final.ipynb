{
 "cells": [
  {
   "cell_type": "code",
   "execution_count": 2,
   "id": "2e5d817c",
   "metadata": {
    "ExecuteTime": {
     "end_time": "2021-12-14T13:35:00.578286Z",
     "start_time": "2021-12-14T13:34:59.781518Z"
    }
   },
   "outputs": [],
   "source": [
    "import tqdm\n",
    "import pandas as pd\n",
    "import numpy as np\n",
    "import requests\n",
    "from bs4 import BeautifulSoup\n",
    "import time"
   ]
  },
  {
   "cell_type": "markdown",
   "id": "a636264f",
   "metadata": {},
   "source": [
    "# Access website using Selenium"
   ]
  },
  {
   "cell_type": "code",
   "execution_count": 14,
   "id": "b0a91860",
   "metadata": {
    "ExecuteTime": {
     "end_time": "2021-12-14T13:38:18.894283Z",
     "start_time": "2021-12-14T13:38:18.890308Z"
    }
   },
   "outputs": [],
   "source": [
    "from selenium import webdriver\n",
    "from selenium.webdriver.chrome.service import Service"
   ]
  },
  {
   "cell_type": "code",
   "execution_count": 9,
   "id": "0ad0c4fb",
   "metadata": {
    "ExecuteTime": {
     "end_time": "2021-12-13T13:58:06.491538Z",
     "start_time": "2021-12-13T13:58:06.478583Z"
    }
   },
   "outputs": [],
   "source": [
    "chrome_path = 'C:/Users/carla/OneDrive/Área de Trabalho/chromedriver'\n",
    "ser = Service(chrome_path)"
   ]
  },
  {
   "cell_type": "code",
   "execution_count": 10,
   "id": "773cfa21",
   "metadata": {
    "ExecuteTime": {
     "end_time": "2021-12-13T13:58:21.185828Z",
     "start_time": "2021-12-13T13:58:06.525450Z"
    }
   },
   "outputs": [],
   "source": [
    "driver = webdriver.Chrome(service=ser)"
   ]
  },
  {
   "cell_type": "code",
   "execution_count": 11,
   "id": "40ce4be8",
   "metadata": {
    "ExecuteTime": {
     "end_time": "2021-12-13T13:58:23.994816Z",
     "start_time": "2021-12-13T13:58:21.220738Z"
    }
   },
   "outputs": [],
   "source": [
    "driver.get(url)"
   ]
  },
  {
   "cell_type": "markdown",
   "id": "6cb8505e",
   "metadata": {},
   "source": [
    "It was necessary to access through selenium in order to get the main table with the accidents organized by date. However, it was necessary to get the links from each accident in order to get some important information that was present in each accident page, such as the phase of flight and the classification, among others."
   ]
  },
  {
   "cell_type": "code",
   "execution_count": 91,
   "id": "10b956f6",
   "metadata": {
    "ExecuteTime": {
     "end_time": "2021-12-13T15:33:22.517345Z",
     "start_time": "2021-12-13T15:33:22.509371Z"
    }
   },
   "outputs": [],
   "source": [
    "url = 'https://aviation-safety.net/database/dblist.php?Year=2011&lang=&page=1'"
   ]
  },
  {
   "cell_type": "code",
   "execution_count": 5,
   "id": "60e1ae5e",
   "metadata": {
    "ExecuteTime": {
     "end_time": "2021-12-13T13:57:42.478949Z",
     "start_time": "2021-12-13T13:57:42.469972Z"
    }
   },
   "outputs": [],
   "source": [
    "from datetime import date\n",
    "current_year = date.today().year"
   ]
  },
  {
   "cell_type": "code",
   "execution_count": 92,
   "id": "7ce7cc11",
   "metadata": {
    "ExecuteTime": {
     "end_time": "2021-12-13T15:33:23.953322Z",
     "start_time": "2021-12-13T15:33:23.868021Z"
    }
   },
   "outputs": [],
   "source": [
    "years_url = []\n",
    "while int(url[53:57]) <= current_year:\n",
    "       years_url.append(url)\n",
    "       url = url[:53]+ str(int(url[53:57])+1) +url[57:]"
   ]
  },
  {
   "cell_type": "code",
   "execution_count": 93,
   "id": "6d1412a7",
   "metadata": {
    "ExecuteTime": {
     "end_time": "2021-12-13T15:36:55.744078Z",
     "start_time": "2021-12-13T15:33:38.915551Z"
    },
    "scrolled": true
   },
   "outputs": [],
   "source": [
    "accidents = pd.DataFrame()\n",
    "for year in years_url:\n",
    "    table_all_pages = pd.DataFrame()\n",
    "    list_url = [year]\n",
    "    for url in list_url:\n",
    "        driver.get(url)\n",
    "        pages = [i.get_attribute('href') for i in driver.find_elements('tag name','a') if 'page'in i.get_attribute('href') ]\n",
    "        pages = list(set(pages))\n",
    "        [list_url.append(item) for item in pages]\n",
    "        list_url = list(set(list_url))\n",
    "        elem = driver.find_element('tag name','table')\n",
    "        elem.get_attribute('outerHTML')\n",
    "        elem.find_element('tag name','a')\n",
    "        url1 = [i.get_attribute('href') for i in (elem.find_elements('tag name','a'))][1:]\n",
    "        tab_page1 = pd.read_html(elem.get_attribute('outerHTML'))[0]\n",
    "        tab_page1['url'] = url1\n",
    "        table_all_pages = table_all_pages.append(tab_page1)\n",
    "        time.sleep(5)\n",
    "    accidents = accidents.append(table_all_pages)"
   ]
  },
  {
   "cell_type": "code",
   "execution_count": 95,
   "id": "bb179220",
   "metadata": {
    "ExecuteTime": {
     "end_time": "2021-12-13T15:37:36.096134Z",
     "start_time": "2021-12-13T15:37:35.098264Z"
    }
   },
   "outputs": [],
   "source": [
    "accidents.to_csv('accidents-2011-2017.csv')"
   ]
  },
  {
   "cell_type": "code",
   "execution_count": 63,
   "id": "5aa5a32b",
   "metadata": {
    "ExecuteTime": {
     "end_time": "2021-12-11T18:19:00.960977Z",
     "start_time": "2021-12-11T18:19:00.506053Z"
    }
   },
   "outputs": [],
   "source": [
    "years_url = []\n",
    "while int(url[53:57]) <= current_year:\n",
    "       years_url.append(url)\n",
    "       url = url[:53]+ str(int(url[53:57])+1) +url[57:]"
   ]
  },
  {
   "cell_type": "code",
   "execution_count": 69,
   "id": "087ada1e",
   "metadata": {
    "ExecuteTime": {
     "end_time": "2021-12-11T18:33:05.545482Z",
     "start_time": "2021-12-11T18:33:05.500603Z"
    }
   },
   "outputs": [],
   "source": [
    "accidents.to_csv('accidents-2018-2021.csv', index=False)"
   ]
  },
  {
   "cell_type": "code",
   "execution_count": 17,
   "id": "ba4f7ddd",
   "metadata": {
    "ExecuteTime": {
     "end_time": "2021-12-13T14:05:37.413752Z",
     "start_time": "2021-12-13T14:05:32.433805Z"
    }
   },
   "outputs": [],
   "source": [
    "driver.get('https://aviation-safety.net/database/record.php?id=20201213-0')"
   ]
  },
  {
   "cell_type": "code",
   "execution_count": 36,
   "id": "bcada0b2",
   "metadata": {
    "ExecuteTime": {
     "end_time": "2021-12-13T14:22:47.885569Z",
     "start_time": "2021-12-13T14:22:47.863663Z"
    }
   },
   "outputs": [],
   "source": [
    " tabelaA = driver.find_elements('tag name','table')"
   ]
  },
  {
   "cell_type": "code",
   "execution_count": 79,
   "id": "12b41a05",
   "metadata": {
    "ExecuteTime": {
     "end_time": "2021-12-13T14:56:26.947950Z",
     "start_time": "2021-12-13T14:56:26.932991Z"
    }
   },
   "outputs": [
    {
     "data": {
      "text/plain": [
       "[<selenium.webdriver.remote.webelement.WebElement (session=\"f2a8d211c04976ac81687352199bf079\", element=\"c76a8fec-5d12-4052-b319-8672c4d6238e\")>,\n",
       " <selenium.webdriver.remote.webelement.WebElement (session=\"f2a8d211c04976ac81687352199bf079\", element=\"d7ffbd4d-3d02-4779-8e86-c35ebf250765\")>,\n",
       " <selenium.webdriver.remote.webelement.WebElement (session=\"f2a8d211c04976ac81687352199bf079\", element=\"a453da2e-47c2-4ae2-b0c6-13b8b0630839\")>]"
      ]
     },
     "execution_count": 79,
     "metadata": {},
     "output_type": "execute_result"
    }
   ],
   "source": [
    "tabelaA"
   ]
  },
  {
   "cell_type": "code",
   "execution_count": 61,
   "id": "0198c564",
   "metadata": {
    "ExecuteTime": {
     "end_time": "2021-12-13T14:48:23.529354Z",
     "start_time": "2021-12-13T14:48:23.426398Z"
    }
   },
   "outputs": [
    {
     "data": {
      "text/plain": [
       "'\\nStatus:Preliminary\\nDate:Sunday 13 December 2020\\nTime:20:00 \\nType:Eclipse 500\\nOperator:private\\nRegistration: N686TM\\nMSN: 000221\\nFirst flight: 2008 \\nEngines: 2 Pratt & Whitney Canada PW610F-A\\nCrew:Fatalities: 0 / Occupants: 1\\nPassengers:Fatalities: 0 / Occupants: 0\\nTotal:Fatalities: 0 / Occupants: 1 \\n\\n\\n\\nAircraft damage: Substantial\\nLocation:Leadville Airport, CO (LXV) ( \\xa0 United States of America) \\n\\nPhase: Landing (LDG)\\nNature:Private\\n\\n\\nDeparture airport:San Diego-Montgomery Field, CA (MYF/KMYF), United States of America\\n\\n\\nDestination airport:Leadville Airport, CO (LXV/KLXV), United States of America\\n\\n\\n\\n\\n'"
      ]
     },
     "execution_count": 61,
     "metadata": {},
     "output_type": "execute_result"
    }
   ],
   "source": [
    "conteudo=tabelaA[0].get_attribute('textContent')\n",
    "conteudo"
   ]
  },
  {
   "cell_type": "code",
   "execution_count": 69,
   "id": "6935bcad",
   "metadata": {
    "ExecuteTime": {
     "end_time": "2021-12-13T14:50:32.949171Z",
     "start_time": "2021-12-13T14:50:32.923236Z"
    }
   },
   "outputs": [
    {
     "data": {
      "text/plain": [
       "'The aircraft experienced a runway excursion upon landing at Lake County Airport (LXV/KLXV), Leadville, Colorado.  The airplane sustained substantial damage and the sole pilot onboard was not injured during the incident.'"
      ]
     },
     "execution_count": 69,
     "metadata": {},
     "output_type": "execute_result"
    }
   ],
   "source": [
    "tabelaB = driver.find_elements('tag name','span')\n",
    "tabelaB[1].get_attribute('textContent')"
   ]
  },
  {
   "cell_type": "code",
   "execution_count": 78,
   "id": "33eac828",
   "metadata": {
    "ExecuteTime": {
     "end_time": "2021-12-13T14:54:55.298033Z",
     "start_time": "2021-12-13T14:54:55.220233Z"
    }
   },
   "outputs": [
    {
     "data": {
      "text/plain": [
       "'Runway excursion'"
      ]
     },
     "execution_count": 78,
     "metadata": {},
     "output_type": "execute_result"
    }
   ],
   "source": [
    "tabelaC = driver.find_elements('xpath','//*[@id=\"contentcolumn\"]/div/a[1]')\n",
    "tabelaC[0].get_attribute('textContent')"
   ]
  },
  {
   "cell_type": "code",
   "execution_count": 73,
   "id": "48f1f72c",
   "metadata": {
    "ExecuteTime": {
     "end_time": "2021-12-13T14:51:30.458389Z",
     "start_time": "2021-12-13T14:51:30.441402Z"
    }
   },
   "outputs": [
    {
     "data": {
      "text/plain": [
       "31"
      ]
     },
     "execution_count": 73,
     "metadata": {},
     "output_type": "execute_result"
    }
   ],
   "source": [
    "len(tabelaC)"
   ]
  },
  {
   "cell_type": "markdown",
   "id": "16fb81d0",
   "metadata": {},
   "source": [
    "Then, it was necessary to get each HTML from the links in order to create the soup, making it easier to get the information from the dataframe, using the URLs that were already found by the previous function."
   ]
  },
  {
   "cell_type": "code",
   "execution_count": 216,
   "id": "e95b1b78",
   "metadata": {
    "ExecuteTime": {
     "end_time": "2021-12-13T20:54:17.271304Z",
     "start_time": "2021-12-13T20:54:17.199000Z"
    }
   },
   "outputs": [],
   "source": [
    "def get_html(url):\n",
    "    try:\n",
    "        headers = {'user-agent': 'Mozilla/5.0 (Windows NT 10.0; Win64; x64) AppleWebKit/537.36 (KHTML, like Gecko) Chrome/96.0.4664.93 Safari/537.36'}\n",
    "        r = requests.get(url, headers=headers)\n",
    "        time.sleep(7)\n",
    "        return r.text\n",
    "    except:\n",
    "        return None"
   ]
  },
  {
   "cell_type": "code",
   "execution_count": 217,
   "id": "1c459d4e",
   "metadata": {
    "ExecuteTime": {
     "end_time": "2021-12-14T02:34:54.760724Z",
     "start_time": "2021-12-13T20:54:40.788700Z"
    }
   },
   "outputs": [],
   "source": [
    "acc_complete['html'] = acc_complete['url'].apply(get_html)"
   ]
  },
  {
   "cell_type": "code",
   "execution_count": 219,
   "id": "3a0c049c",
   "metadata": {
    "ExecuteTime": {
     "end_time": "2021-12-14T02:36:51.310324Z",
     "start_time": "2021-12-14T02:36:49.786432Z"
    }
   },
   "outputs": [],
   "source": [
    "acc_complete.to_csv('accidents-2011-2021-html.csv')"
   ]
  },
  {
   "cell_type": "code",
   "execution_count": 196,
   "id": "84dc3d0e",
   "metadata": {
    "ExecuteTime": {
     "end_time": "2021-12-13T20:40:21.147460Z",
     "start_time": "2021-12-13T20:40:09.489252Z"
    }
   },
   "outputs": [],
   "source": [
    "teste20 = get_html('https://aviation-safety.net/database/record.php?id=20201213-0')"
   ]
  },
  {
   "cell_type": "code",
   "execution_count": 106,
   "id": "54b49fa5",
   "metadata": {
    "ExecuteTime": {
     "end_time": "2021-12-13T18:33:07.123549Z",
     "start_time": "2021-12-13T18:32:55.984772Z"
    }
   },
   "outputs": [],
   "source": [
    "soup = BeautifulSoup(get_html('https://aviation-safety.net/database/record.php?id=20201213-0'))"
   ]
  },
  {
   "cell_type": "code",
   "execution_count": 109,
   "id": "56231c4b",
   "metadata": {
    "ExecuteTime": {
     "end_time": "2021-12-13T18:40:37.524401Z",
     "start_time": "2021-12-13T18:40:37.480351Z"
    }
   },
   "outputs": [
    {
     "data": {
      "text/plain": [
       "'\\nStatus:Preliminary\\nDate:Sunday 13 December 2020\\nTime:20:00\\nType:Eclipse 500\\nOperator:private\\nRegistration: N686TM\\nMSN: 000221\\nFirst flight: 2008\\nEngines: 2 Pratt & Whitney Canada PW610F-A\\nCrew:Fatalities: 0 / Occupants: 1\\nPassengers:Fatalities: 0 / Occupants: 0\\nTotal:Fatalities: 0 / Occupants: 1 \\nAircraft damage: Substantial\\nLocation:Leadville Airport, CO (LXV) ( \\xa0 United States of America) \\r\\n\\nPhase: Landing (LDG)\\nNature:Private\\nDeparture airport:San Diego-Montgomery Field, CA (MYF/KMYF), United States of America\\nDestination airport:Leadville Airport, CO (LXV/KLXV), United States of America\\n'"
      ]
     },
     "execution_count": 109,
     "metadata": {},
     "output_type": "execute_result"
    }
   ],
   "source": [
    "soup.find_all('table')[0].text"
   ]
  },
  {
   "cell_type": "code",
   "execution_count": 188,
   "id": "33e9e2e0",
   "metadata": {
    "ExecuteTime": {
     "end_time": "2021-12-13T20:28:21.165022Z",
     "start_time": "2021-12-13T20:28:21.113144Z"
    },
    "collapsed": true
   },
   "outputs": [
    {
     "name": "stdout",
     "output_type": "stream",
     "text": [
      "Narrative:\n",
      "The aircraft experienced a runway excursion upon landing at Lake County Airport (LXV/KLXV), Leadville, Colorado.  The airplane sustained substantial damage and the sole pilot onboard was not injured during the incident.\n"
     ]
    }
   ],
   "source": [
    "text_list_narr =[]\n",
    "for element in soup.find_all('span'):\n",
    "    text_list_narr.append(element.text)\n",
    "print ('\\n'.join(text_list_narr))"
   ]
  },
  {
   "cell_type": "code",
   "execution_count": 201,
   "id": "191b9af9",
   "metadata": {
    "ExecuteTime": {
     "end_time": "2021-12-13T20:42:51.377190Z",
     "start_time": "2021-12-13T20:42:51.303369Z"
    },
    "collapsed": true
   },
   "outputs": [
    {
     "name": "stdout",
     "output_type": "stream",
     "text": [
      "\n",
      "Status:Preliminary\n",
      "Date:Sunday 13 December 2020\n",
      "Time:20:00\n",
      "Type:Eclipse 500\n",
      "Operator:private\n",
      "Registration: N686TM\n",
      "MSN: 000221\n",
      "First flight: 2008\n",
      "Engines: 2 Pratt & Whitney Canada PW610F-A\n",
      "Crew:Fatalities: 0 / Occupants: 1\n",
      "Passengers:Fatalities: 0 / Occupants: 0\n",
      "Total:Fatalities: 0 / Occupants: 1 \n",
      "Aircraft damage: Substantial\n",
      "Location:Leadville Airport, CO (LXV) (   United States of America) \r\n",
      "\n",
      "Phase: Landing (LDG)\n",
      "Nature:Private\n",
      "Departure airport:San Diego-Montgomery Field, CA (MYF/KMYF), United States of America\n",
      "Destination airport:Leadville Airport, CO (LXV/KLXV), United States of America\n",
      "\n",
      "\n",
      "\n",
      "\n",
      "\n",
      "Investigating agency: NTSB \n",
      "Status: Investigation ongoing\n",
      "Accident number: CEN21LA086\n",
      "\n",
      "\n",
      "\n",
      "Investigating agency: NTSB \n",
      "Status: Investigation ongoing\n",
      "Accident number: CEN21LA086\n",
      "\n"
     ]
    }
   ],
   "source": [
    "text_list =[]\n",
    "for element in soup.find_all('table'):\n",
    "    text_list.append(element.text)\n",
    "    texto = '\\n'.join(text_list)\n",
    "print (texto)"
   ]
  },
  {
   "cell_type": "code",
   "execution_count": 20,
   "id": "44771551",
   "metadata": {
    "ExecuteTime": {
     "end_time": "2021-12-14T13:41:00.091372Z",
     "start_time": "2021-12-14T13:41:00.072427Z"
    }
   },
   "outputs": [],
   "source": [
    "import re"
   ]
  },
  {
   "cell_type": "code",
   "execution_count": 123,
   "id": "eecbc875",
   "metadata": {
    "ExecuteTime": {
     "end_time": "2021-12-13T19:47:14.250313Z",
     "start_time": "2021-12-13T19:47:14.145318Z"
    }
   },
   "outputs": [],
   "source": [
    "texto2 = '\\n'.join(text_list)"
   ]
  },
  {
   "cell_type": "code",
   "execution_count": 136,
   "id": "09f29b1f",
   "metadata": {
    "ExecuteTime": {
     "end_time": "2021-12-13T19:56:35.630184Z",
     "start_time": "2021-12-13T19:56:35.620208Z"
    },
    "collapsed": true
   },
   "outputs": [
    {
     "data": {
      "text/plain": [
       "['Preliminary',\n",
       " 'Sunday 13 December 2020',\n",
       " '2000',\n",
       " 'Eclipse 500',\n",
       " 'private',\n",
       " ' N686TM',\n",
       " ' 000221',\n",
       " ' 2008',\n",
       " ' 2 Pratt & Whitney Canada PW610F-A',\n",
       " 'Fatalities 0 / Occupants 1',\n",
       " 'Fatalities 0 / Occupants 0',\n",
       " 'Fatalities 0 / Occupants 1 ',\n",
       " ' Substantial',\n",
       " 'Leadville Airport, CO (LXV) ( \\xa0 United States of America) \\r',\n",
       " ' Landing (LDG)',\n",
       " 'Private',\n",
       " 'San Diego-Montgomery Field, CA (MYF/KMYF), United States of America',\n",
       " 'Leadville Airport, CO (LXV/KLXV), United States of America',\n",
       " '\\xa0NTSB ',\n",
       " ' Investigation ongoing',\n",
       " ' CEN21LA086',\n",
       " '\\xa0NTSB ',\n",
       " ' Investigation ongoing',\n",
       " ' CEN21LA086']"
      ]
     },
     "execution_count": 136,
     "metadata": {},
     "output_type": "execute_result"
    }
   ],
   "source": [
    "teste = [re.sub(':', '', item) for item in re.findall(':.*',texto2)]\n",
    "teste"
   ]
  },
  {
   "cell_type": "code",
   "execution_count": 175,
   "id": "c564fad9",
   "metadata": {
    "ExecuteTime": {
     "end_time": "2021-12-13T20:23:39.694190Z",
     "start_time": "2021-12-13T20:23:39.680227Z"
    }
   },
   "outputs": [
    {
     "name": "stdout",
     "output_type": "stream",
     "text": [
      "Eclipse 500\n",
      "private\n",
      "Pratt & Whitney Canada PW610F-A\n",
      "United States of America\n",
      "San Diego-Montgomery Field, CA (MYF/KMYF)\n",
      "Leadville Airport, CO (LXV/KLXV)\n",
      "Runway excursion\n",
      "\n",
      "Tweet\n"
     ]
    }
   ],
   "source": [
    "text_list2 =[]\n",
    "for element in soup.find_all('div', attrs={'class':'innertube'}):\n",
    "    for e in element.find_all('a'):\n",
    "        text_list2.append(e.text)\n",
    "print ('\\n'.join(text_list2))\n",
    "text_list2[6]"
   ]
  },
  {
   "cell_type": "code",
   "execution_count": 195,
   "id": "614c3374",
   "metadata": {
    "ExecuteTime": {
     "end_time": "2021-12-13T20:31:04.373961Z",
     "start_time": "2021-12-13T20:31:04.332074Z"
    }
   },
   "outputs": [
    {
     "data": {
      "text/plain": [
       "'NTSB '"
      ]
     },
     "execution_count": 195,
     "metadata": {},
     "output_type": "execute_result"
    }
   ],
   "source": [
    "teste = [re.sub(':\\xa0', '', item) for item in re.findall(':.*',text_list[2])]\n",
    "teste[0]"
   ]
  },
  {
   "cell_type": "markdown",
   "id": "f247b2c7",
   "metadata": {},
   "source": [
    "# First table items"
   ]
  },
  {
   "cell_type": "code",
   "execution_count": 44,
   "id": "3860219f",
   "metadata": {
    "ExecuteTime": {
     "end_time": "2021-12-14T14:13:27.619858Z",
     "start_time": "2021-12-14T14:13:27.601876Z"
    }
   },
   "outputs": [],
   "source": [
    "def details(html, index):\n",
    "    try:\n",
    "        soup = BeautifulSoup(html)\n",
    "        text_list =[]\n",
    "        for element in soup.find_all('table'):\n",
    "            text_list.append(element.text)\n",
    "        cleaning = [re.sub(':', '', item) for item in re.findall(':.*',text_list[0])]\n",
    "        return cleaning[index]\n",
    "    except:\n",
    "        return None"
   ]
  },
  {
   "cell_type": "code",
   "execution_count": 206,
   "id": "64f72bbc",
   "metadata": {
    "ExecuteTime": {
     "end_time": "2021-12-13T20:46:02.417782Z",
     "start_time": "2021-12-13T20:46:02.357934Z"
    }
   },
   "outputs": [
    {
     "data": {
      "text/plain": [
       "' Landing (LDG)'"
      ]
     },
     "execution_count": 206,
     "metadata": {},
     "output_type": "execute_result"
    }
   ],
   "source": [
    "details1(teste20, 14)"
   ]
  },
  {
   "cell_type": "code",
   "execution_count": 41,
   "id": "61d41b62",
   "metadata": {
    "ExecuteTime": {
     "end_time": "2021-12-14T14:11:52.334043Z",
     "start_time": "2021-12-14T14:11:52.314096Z"
    }
   },
   "outputs": [],
   "source": [
    "def details_inv(html):\n",
    "    try:\n",
    "        soup = BeautifulSoup(html)\n",
    "        text_list =[]\n",
    "        for element in soup.find_all('table'):\n",
    "            text_list.append(element.text)\n",
    "        cleaning = [re.sub(':\\xa0', '', item) for item in re.findall(':.*',text_list[2])]\n",
    "        return cleaning[0]\n",
    "    except:\n",
    "        return None\n"
   ]
  },
  {
   "cell_type": "code",
   "execution_count": 210,
   "id": "c78061bf",
   "metadata": {
    "ExecuteTime": {
     "end_time": "2021-12-13T20:48:40.684925Z",
     "start_time": "2021-12-13T20:48:40.644035Z"
    }
   },
   "outputs": [
    {
     "data": {
      "text/plain": [
       "'NTSB '"
      ]
     },
     "execution_count": 210,
     "metadata": {},
     "output_type": "execute_result"
    }
   ],
   "source": [
    "details2(teste20)"
   ]
  },
  {
   "cell_type": "code",
   "execution_count": 34,
   "id": "806f13cb",
   "metadata": {
    "ExecuteTime": {
     "end_time": "2021-12-14T14:07:40.725437Z",
     "start_time": "2021-12-14T14:07:40.704528Z"
    }
   },
   "outputs": [],
   "source": [
    "def details3(html):\n",
    "    try:\n",
    "        soup = BeautifulSoup(html)\n",
    "        text_list_narr =[]\n",
    "        for element in soup.find_all('span'):\n",
    "            text_list_narr.append(element.text)\n",
    "        return ('\\n'.join(text_list_narr))\n",
    "    except:\n",
    "        return None"
   ]
  },
  {
   "cell_type": "code",
   "execution_count": 212,
   "id": "cb46f2ac",
   "metadata": {
    "ExecuteTime": {
     "end_time": "2021-12-13T20:49:59.479767Z",
     "start_time": "2021-12-13T20:49:59.457836Z"
    }
   },
   "outputs": [
    {
     "data": {
      "text/plain": [
       "'Narrative:\\nThe aircraft experienced a runway excursion upon landing at Lake County Airport (LXV/KLXV), Leadville, Colorado.  The airplane sustained substantial damage and the sole pilot onboard was not injured during the incident.'"
      ]
     },
     "execution_count": 212,
     "metadata": {},
     "output_type": "execute_result"
    }
   ],
   "source": [
    "details3(teste20)"
   ]
  },
  {
   "cell_type": "code",
   "execution_count": 107,
   "id": "f4e4f5bd",
   "metadata": {
    "ExecuteTime": {
     "end_time": "2021-12-14T15:07:27.516804Z",
     "start_time": "2021-12-14T15:07:27.505835Z"
    }
   },
   "outputs": [],
   "source": [
    "def details_class(html):\n",
    "    try:\n",
    "        soup = BeautifulSoup(html)\n",
    "        text_list2 = []\n",
    "        for element in soup.find_all('div', attrs={'class':'innertube'}):\n",
    "            text_list2.append(element.text)\n",
    "        if len(re.findall('Classification((.|\\n)*?)(Source|Photos|Follow-up|Weather|METAR)',text_list2[0]))>0:\n",
    "            return re.findall('Classification((.|\\n)*?)(Source|Photos|Follow-up|Weather|METAR)',text_list2[0])[0][0]\n",
    "        else:\n",
    "            return None\n",
    "    except:\n",
    "        return None"
   ]
  },
  {
   "cell_type": "code",
   "execution_count": 214,
   "id": "ea8ba60a",
   "metadata": {
    "ExecuteTime": {
     "end_time": "2021-12-13T20:52:01.969220Z",
     "start_time": "2021-12-13T20:52:01.949561Z"
    }
   },
   "outputs": [
    {
     "data": {
      "text/plain": [
       "'Runway excursion'"
      ]
     },
     "execution_count": 214,
     "metadata": {},
     "output_type": "execute_result"
    }
   ],
   "source": [
    "details4(teste20)"
   ]
  },
  {
   "cell_type": "code",
   "execution_count": 4,
   "id": "16c2c938",
   "metadata": {
    "ExecuteTime": {
     "end_time": "2021-12-14T13:35:12.257601Z",
     "start_time": "2021-12-14T13:35:11.679391Z"
    }
   },
   "outputs": [],
   "source": [
    "acc_complete = pd.read_csv('accidents-2011-2021-html.csv')"
   ]
  },
  {
   "cell_type": "code",
   "execution_count": 36,
   "id": "282e9334",
   "metadata": {
    "ExecuteTime": {
     "end_time": "2021-12-14T14:08:42.330008Z",
     "start_time": "2021-12-14T14:08:03.374062Z"
    }
   },
   "outputs": [],
   "source": [
    "acc_complete['narrative'] = acc_complete['html'].apply(details3)"
   ]
  },
  {
   "cell_type": "code",
   "execution_count": 108,
   "id": "f7f310e4",
   "metadata": {
    "ExecuteTime": {
     "end_time": "2021-12-14T15:08:21.878434Z",
     "start_time": "2021-12-14T15:07:33.908753Z"
    }
   },
   "outputs": [],
   "source": [
    "acc_complete['classification'] = acc_complete['html'].apply(details_class)"
   ]
  },
  {
   "cell_type": "code",
   "execution_count": 82,
   "id": "2ed2c241",
   "metadata": {
    "ExecuteTime": {
     "end_time": "2021-12-14T14:45:02.219327Z",
     "start_time": "2021-12-14T14:44:16.993574Z"
    }
   },
   "outputs": [],
   "source": [
    "acc_complete['inv_agency'] = acc_complete['html'].apply(details_inv)"
   ]
  },
  {
   "cell_type": "code",
   "execution_count": 45,
   "id": "0ed2cfcd",
   "metadata": {
    "ExecuteTime": {
     "end_time": "2021-12-14T14:14:40.377278Z",
     "start_time": "2021-12-14T14:14:00.992573Z"
    }
   },
   "outputs": [],
   "source": [
    "acc_complete['time'] = acc_complete['html'].apply(details, index=2)"
   ]
  },
  {
   "cell_type": "code",
   "execution_count": 47,
   "id": "2eec884f",
   "metadata": {
    "ExecuteTime": {
     "end_time": "2021-12-14T14:16:59.944578Z",
     "start_time": "2021-12-14T14:16:14.967129Z"
    }
   },
   "outputs": [],
   "source": [
    "acc_complete['aircraft_damage'] = acc_complete['html'].apply(details, index=12)"
   ]
  },
  {
   "cell_type": "code",
   "execution_count": 48,
   "id": "457e796e",
   "metadata": {
    "ExecuteTime": {
     "end_time": "2021-12-14T14:17:41.890284Z",
     "start_time": "2021-12-14T14:17:02.091756Z"
    }
   },
   "outputs": [],
   "source": [
    "acc_complete['phase'] = acc_complete['html'].apply(details, index=14)"
   ]
  },
  {
   "cell_type": "code",
   "execution_count": 49,
   "id": "4581c88c",
   "metadata": {
    "ExecuteTime": {
     "end_time": "2021-12-14T14:18:25.319312Z",
     "start_time": "2021-12-14T14:17:45.400169Z"
    }
   },
   "outputs": [],
   "source": [
    "acc_complete['nature'] = acc_complete['html'].apply(details, index=15)"
   ]
  },
  {
   "cell_type": "code",
   "execution_count": 109,
   "id": "2275819e",
   "metadata": {
    "ExecuteTime": {
     "end_time": "2021-12-14T15:08:26.045605Z",
     "start_time": "2021-12-14T15:08:26.027660Z"
    }
   },
   "outputs": [
    {
     "data": {
      "text/plain": [
       ":\\nRunway excursion\\n\\n                                                     200\n",
       ":\\nDamaged on the ground\\n\\n                                                153\n",
       ":\\nLoss of control\\n\\n                                                       55\n",
       ":\\nRunway mishap\\n\\n                                                         51\n",
       ":\\nGround collision\\nDamaged on the ground\\n\\n                               47\n",
       "                                                                           ... \n",
       ":\\n \\nRunway mishap\\n\\n                                                       1\n",
       ":\\nPitot head issues\\nLoss of control\\n\\n                                     1\n",
       ":\\nShot down by aircraft\\n\\n\\n                                                1\n",
       ":\\nLanding gear collapse\\nNormal landing\\n\\n                                  1\n",
       ":\\nLanding after unstabilized approach\\nHeavy landing\\nRunway mishap\\n\\n      1\n",
       "Name: classification, Length: 400, dtype: int64"
      ]
     },
     "execution_count": 109,
     "metadata": {},
     "output_type": "execute_result"
    }
   ],
   "source": [
    "acc_complete['classification'].value_counts()"
   ]
  },
  {
   "cell_type": "code",
   "execution_count": 114,
   "id": "97ac4415",
   "metadata": {
    "ExecuteTime": {
     "end_time": "2021-12-14T15:12:01.161326Z",
     "start_time": "2021-12-14T15:12:01.137393Z"
    }
   },
   "outputs": [
    {
     "data": {
      "text/plain": [
       "'https://aviation-safety.net/database/record.php?id=20110119-0'"
      ]
     },
     "execution_count": 114,
     "metadata": {},
     "output_type": "execute_result"
    }
   ],
   "source": [
    "acc_complete['classification'].isnull()\n",
    "acc_complete[acc_complete['classification'].isnull()]['url'][13]\n",
    "#teste_4 = acc_complete[acc_complete['classification'].isnull()]['html'][2]"
   ]
  },
  {
   "cell_type": "code",
   "execution_count": 30,
   "id": "0fe3b2c5",
   "metadata": {
    "ExecuteTime": {
     "end_time": "2021-12-14T13:54:48.662230Z",
     "start_time": "2021-12-14T13:54:48.619342Z"
    },
    "collapsed": true
   },
   "outputs": [
    {
     "data": {
      "text/html": [
       "<div>\n",
       "<style scoped>\n",
       "    .dataframe tbody tr th:only-of-type {\n",
       "        vertical-align: middle;\n",
       "    }\n",
       "\n",
       "    .dataframe tbody tr th {\n",
       "        vertical-align: top;\n",
       "    }\n",
       "\n",
       "    .dataframe thead th {\n",
       "        text-align: right;\n",
       "    }\n",
       "</style>\n",
       "<table border=\"1\" class=\"dataframe\">\n",
       "  <thead>\n",
       "    <tr style=\"text-align: right;\">\n",
       "      <th></th>\n",
       "      <th>date</th>\n",
       "      <th>type</th>\n",
       "      <th>registration</th>\n",
       "      <th>operator</th>\n",
       "      <th>fat.</th>\n",
       "      <th>location</th>\n",
       "      <th>url</th>\n",
       "      <th>html</th>\n",
       "    </tr>\n",
       "  </thead>\n",
       "  <tbody>\n",
       "    <tr>\n",
       "      <th>0</th>\n",
       "      <td>01-JAN-2011</td>\n",
       "      <td>Tupolev Tu-154B-2</td>\n",
       "      <td>RA-85588</td>\n",
       "      <td>Kolavia</td>\n",
       "      <td>3</td>\n",
       "      <td>Surgut Airpo...</td>\n",
       "      <td>https://aviation-safety.net/database/record.ph...</td>\n",
       "      <td>&lt;!-- cachefile cache/2011/cached-20110101-0.ht...</td>\n",
       "    </tr>\n",
       "    <tr>\n",
       "      <th>1</th>\n",
       "      <td>03-JAN-2011</td>\n",
       "      <td>Beech B200 King Air</td>\n",
       "      <td>C-GSAU</td>\n",
       "      <td>Saskatchewan Gvt.</td>\n",
       "      <td>0</td>\n",
       "      <td>Maple Creek ...</td>\n",
       "      <td>https://aviation-safety.net/database/record.ph...</td>\n",
       "      <td>&lt;!-- cachefile cache/2011/cached-20110103-0.ht...</td>\n",
       "    </tr>\n",
       "    <tr>\n",
       "      <th>2</th>\n",
       "      <td>03-JAN-2011</td>\n",
       "      <td>Boeing 737-823 (WL)</td>\n",
       "      <td>N831NN</td>\n",
       "      <td>American Airlines</td>\n",
       "      <td>0</td>\n",
       "      <td>Los Angeles ...</td>\n",
       "      <td>https://aviation-safety.net/database/record.ph...</td>\n",
       "      <td>&lt;!-- cachefile cache/2011/cached-20110103-1.ht...</td>\n",
       "    </tr>\n",
       "    <tr>\n",
       "      <th>3</th>\n",
       "      <td>05-JAN-2011</td>\n",
       "      <td>Boeing 737-8F2 (WL)</td>\n",
       "      <td>TC-JGZ</td>\n",
       "      <td>THY</td>\n",
       "      <td>0</td>\n",
       "      <td>Istanbul Ata...</td>\n",
       "      <td>https://aviation-safety.net/database/record.ph...</td>\n",
       "      <td>&lt;!-- cachefile cache/2011/cached-20110105-0.ht...</td>\n",
       "    </tr>\n",
       "    <tr>\n",
       "      <th>4</th>\n",
       "      <td>06-JAN-2011</td>\n",
       "      <td>Learjet 35A</td>\n",
       "      <td>N800GP</td>\n",
       "      <td>Priester Aviation</td>\n",
       "      <td>0</td>\n",
       "      <td>Springfield-...</td>\n",
       "      <td>https://aviation-safety.net/database/record.ph...</td>\n",
       "      <td>&lt;!-- cachefile cache/2011/cached-20110106-0.ht...</td>\n",
       "    </tr>\n",
       "    <tr>\n",
       "      <th>...</th>\n",
       "      <td>...</td>\n",
       "      <td>...</td>\n",
       "      <td>...</td>\n",
       "      <td>...</td>\n",
       "      <td>...</td>\n",
       "      <td>...</td>\n",
       "      <td>...</td>\n",
       "      <td>...</td>\n",
       "    </tr>\n",
       "    <tr>\n",
       "      <th>2187</th>\n",
       "      <td>13-NOV-2021</td>\n",
       "      <td>BN-2A-6 Islander</td>\n",
       "      <td>N866JA</td>\n",
       "      <td>Island Airways</td>\n",
       "      <td>4</td>\n",
       "      <td>near Beaver Islan...</td>\n",
       "      <td>https://aviation-safety.net/database/record.ph...</td>\n",
       "      <td>&lt;!-- cachefile cache/2021/cached-20211113-0.ht...</td>\n",
       "    </tr>\n",
       "    <tr>\n",
       "      <th>2188</th>\n",
       "      <td>14-NOV-2021</td>\n",
       "      <td>IAI 1125 Astra SP</td>\n",
       "      <td>N771DX</td>\n",
       "      <td>EMD Astra Holdings LLC</td>\n",
       "      <td>0</td>\n",
       "      <td>Las Vegas-No...</td>\n",
       "      <td>https://aviation-safety.net/database/record.ph...</td>\n",
       "      <td>&lt;!-- cachefile cache/2021/cached-20211114-0.ht...</td>\n",
       "    </tr>\n",
       "    <tr>\n",
       "      <th>2189</th>\n",
       "      <td>29-NOV-2021</td>\n",
       "      <td>Boeing 747-4B5F</td>\n",
       "      <td>N705CK</td>\n",
       "      <td>Kalitta Air</td>\n",
       "      <td>0</td>\n",
       "      <td>between Sant...</td>\n",
       "      <td>https://aviation-safety.net/database/record.ph...</td>\n",
       "      <td>&lt;!-- cachefile cache/2021/cached-20211129-0.ht...</td>\n",
       "    </tr>\n",
       "    <tr>\n",
       "      <th>2190</th>\n",
       "      <td>01-DEC-2021</td>\n",
       "      <td>Cessna 208 Caravan I</td>\n",
       "      <td>N9602F</td>\n",
       "      <td>Lake &amp; Peninsula Airlines</td>\n",
       "      <td>0</td>\n",
       "      <td>near Port Alswort...</td>\n",
       "      <td>https://aviation-safety.net/database/record.ph...</td>\n",
       "      <td>&lt;!-- cachefile cache/2021/cached-20211201-0.ht...</td>\n",
       "    </tr>\n",
       "    <tr>\n",
       "      <th>2191</th>\n",
       "      <td>01-DEC-2021</td>\n",
       "      <td>Cessna 510 Citation Mustang</td>\n",
       "      <td>N81CB</td>\n",
       "      <td>private</td>\n",
       "      <td>0</td>\n",
       "      <td>Lake Havasu ...</td>\n",
       "      <td>https://aviation-safety.net/database/record.ph...</td>\n",
       "      <td>&lt;!-- cachefile cache/2021/cached-20211201-1.ht...</td>\n",
       "    </tr>\n",
       "  </tbody>\n",
       "</table>\n",
       "<p>2192 rows × 8 columns</p>\n",
       "</div>"
      ],
      "text/plain": [
       "             date                         type registration  \\\n",
       "0     01-JAN-2011            Tupolev Tu-154B-2     RA-85588   \n",
       "1     03-JAN-2011          Beech B200 King Air       C-GSAU   \n",
       "2     03-JAN-2011          Boeing 737-823 (WL)       N831NN   \n",
       "3     05-JAN-2011          Boeing 737-8F2 (WL)       TC-JGZ   \n",
       "4     06-JAN-2011                  Learjet 35A       N800GP   \n",
       "...           ...                          ...          ...   \n",
       "2187  13-NOV-2021             BN-2A-6 Islander       N866JA   \n",
       "2188  14-NOV-2021            IAI 1125 Astra SP       N771DX   \n",
       "2189  29-NOV-2021              Boeing 747-4B5F       N705CK   \n",
       "2190  01-DEC-2021         Cessna 208 Caravan I       N9602F   \n",
       "2191  01-DEC-2021  Cessna 510 Citation Mustang        N81CB   \n",
       "\n",
       "                       operator fat.              location  \\\n",
       "0                       Kolavia    3       Surgut Airpo...   \n",
       "1             Saskatchewan Gvt.    0       Maple Creek ...   \n",
       "2             American Airlines    0       Los Angeles ...   \n",
       "3                           THY    0       Istanbul Ata...   \n",
       "4             Priester Aviation    0       Springfield-...   \n",
       "...                         ...  ...                   ...   \n",
       "2187             Island Airways    4  near Beaver Islan...   \n",
       "2188     EMD Astra Holdings LLC    0       Las Vegas-No...   \n",
       "2189                Kalitta Air    0       between Sant...   \n",
       "2190  Lake & Peninsula Airlines    0  near Port Alswort...   \n",
       "2191                    private    0       Lake Havasu ...   \n",
       "\n",
       "                                                    url  \\\n",
       "0     https://aviation-safety.net/database/record.ph...   \n",
       "1     https://aviation-safety.net/database/record.ph...   \n",
       "2     https://aviation-safety.net/database/record.ph...   \n",
       "3     https://aviation-safety.net/database/record.ph...   \n",
       "4     https://aviation-safety.net/database/record.ph...   \n",
       "...                                                 ...   \n",
       "2187  https://aviation-safety.net/database/record.ph...   \n",
       "2188  https://aviation-safety.net/database/record.ph...   \n",
       "2189  https://aviation-safety.net/database/record.ph...   \n",
       "2190  https://aviation-safety.net/database/record.ph...   \n",
       "2191  https://aviation-safety.net/database/record.ph...   \n",
       "\n",
       "                                                   html  \n",
       "0     <!-- cachefile cache/2011/cached-20110101-0.ht...  \n",
       "1     <!-- cachefile cache/2011/cached-20110103-0.ht...  \n",
       "2     <!-- cachefile cache/2011/cached-20110103-1.ht...  \n",
       "3     <!-- cachefile cache/2011/cached-20110105-0.ht...  \n",
       "4     <!-- cachefile cache/2011/cached-20110106-0.ht...  \n",
       "...                                                 ...  \n",
       "2187  <!-- cachefile cache/2021/cached-20211113-0.ht...  \n",
       "2188  <!-- cachefile cache/2021/cached-20211114-0.ht...  \n",
       "2189  <!-- cachefile cache/2021/cached-20211129-0.ht...  \n",
       "2190  <!-- cachefile cache/2021/cached-20211201-0.ht...  \n",
       "2191  <!-- cachefile cache/2021/cached-20211201-1.ht...  \n",
       "\n",
       "[2192 rows x 8 columns]"
      ]
     },
     "execution_count": 30,
     "metadata": {},
     "output_type": "execute_result"
    }
   ],
   "source": [
    "acc_complete = acc_complete.drop(columns=['Unnamed: 0', 'Unnamed: 6','pic', 'cat'])\n",
    "acc_complete"
   ]
  },
  {
   "cell_type": "code",
   "execution_count": 51,
   "id": "057e894c",
   "metadata": {
    "ExecuteTime": {
     "end_time": "2021-12-14T14:19:56.739949Z",
     "start_time": "2021-12-14T14:19:56.692096Z"
    }
   },
   "outputs": [
    {
     "data": {
      "text/plain": [
       "array(['Final report', 'Runway excursion', 'Hijack', 'Summary report',\n",
       "       'Electrical system problem', 'Loss of control',\n",
       "       'Controlled Flight Into Terrain (CFIT) - Mountain',\n",
       "       'Hangar / ground fire', 'Tweet', '', 'Rejected takeoff',\n",
       "       'Scramble', 'Cork Airport (ORK/EICK)', 'Soviet Transports',\n",
       "       'Se estrella avioneta en Hidalgo; dos muertos', 'Gear-up landing',\n",
       "       'Oslo-Gardermoen Airport (OSL/ENGM)',\n",
       "       'http://www.jeremietronet.com/unions-island-kiting-fishing-surfing-and-plane-crash/',\n",
       "       'Tempo.co', 'Damaged on the ground',\n",
       "       \"Kinshasa-N'Djili Airport (FIH/FZAA)\", 'Forced landing on runway',\n",
       "       'Forced landing outside airport', 'region15.ru',\n",
       "       'Petrozavodsk Airport (PES/ULPB)', 'Trend', 'Undershoot/overshoot',\n",
       "       'Runway mishap', 'Windshear/downdraft',\n",
       "       'Raleigh/Durham International Airport, NC (RDU/KRDU)',\n",
       "       'Shannon Airport (SNN/EINN)', 'Landing gear collapse',\n",
       "       'Keperveyem Airport (UHMK)', 'Stabroek News', None,\n",
       "       'Destroyed on ground',\n",
       "       'Ottawa-Macdonald-Cartier International Airport, ON (YOW/CYOW)',\n",
       "       'Radio Kiskeya', 'Twin Otter Spotter',\n",
       "       'Jet Runs Off Newnan-Coweta Airport Taxiway, Hits Utility Pole; No Injuries (Times-Herald, 11-10-2011)',\n",
       "       'airdisaster.ru', 'Flyafrica.info', 'Avianews.com',\n",
       "       'Six confirmed dead in NA plane crash', 'Thai-Aviation.net',\n",
       "       'thai-aviation.net', 'airliners.net', 'Bird strike',\n",
       "       'eju.tv, 30-11-2011', 'Preliminary report',\n",
       "       'Mesquite Airport, NV (MFH)', 'Heavy landing',\n",
       "       'Kandahar Airport (KDH/OAKN)', 'Radio Okapi', 'Haveeru Daily',\n",
       "       'Bukavu-Kavumu Airport (BKY/FZMA)',\n",
       "       'Photo of airframe stored at Abbotsford, jan 2014.',\n",
       "       'Controlled Flight Into Terrain (CFIT) - Ground',\n",
       "       'bitjetblogger.com', 'Isle of Man-Ronaldsway Airport (IOM/EGNS)',\n",
       "       'El Universo', 'Landing after unstabilized approach',\n",
       "       'State Emergency Ministry Krasnodar region',\n",
       "       'Lyon Saint-Exupéry Airfield (LYS/LFLL)',\n",
       "       'São Tomé Island Airport (TMS/FPST)', 'April 10, 2013',\n",
       "       'Shot down from the ground',\n",
       "       'Nashville International Airport, TN (BNA/KBNA)',\n",
       "       'Air Mobility Command Public Affairs', 'Noticias 24',\n",
       "       'All engine powerloss', '163.com',\n",
       "       'Newark-Liberty International Airport, NJ (EWR/KEWR)',\n",
       "       'Tire failure', 'Hydraulic system problem', 'Le Messager',\n",
       "       'Russian Ministry of Emergency Situations',\n",
       "       'Private plane crash kills 2 in northern Botswana (The Global Times 1-7-2013)',\n",
       "       'Kaieteur News', 'Interim report',\n",
       "       'Collision with airport equipment', 'Ditching', 'Fuel exhaustion',\n",
       "       'Moskva-Vnukovo Airport (VKO/UUWW)', '-',\n",
       "       'Nefteyugansk Airport (NFG/USRN)', 'CBC',\n",
       "       'Nouakchott-Oumtounsy International Airport (NKC/GQNO)',\n",
       "       'El Universal', 'Tabubil Airport (TBG/AYTB)',\n",
       "       'Dole-Jura Airport (DLE/LFGJ)', 'http://t.co/gR6kvpKJzA',\n",
       "       'Philadelphia International Airport, PA (PHL/KPHL)',\n",
       "       'Namibian Sun 12-12-2013',\n",
       "       'FANB intercepta aeronave ilegal en el estado Apure (laverdad.com, 3 Dec. 2013)',\n",
       "       'La Razon', 'Ground collision', 'Flightaware',\n",
       "       'Russian Emergency Situations Ministry',\n",
       "       'Madinah-Mohammad Bin Abdulaziz Airport (MED/OEMA)',\n",
       "       'A Ukrainian Antonov Crashed Near Addis (DireTube, 22-1-2014)',\n",
       "       'Domodedovo Airport press statement',\n",
       "       'Honiara-Henderson International Airport (HIR/AGGH)',\n",
       "       'Paris-Charles de Gaulle Airport (CDG/LFPG)', 'NR2.ru', 'BBC',\n",
       "       'Three Navy P-3 Orions crushed in Japanese hangar collapse declared total losses (Stars and Stripes, 6 May 2014)',\n",
       "       'Rubkona Airport', 'pic.twitter.com/xv7vBliR6g',\n",
       "       'Kish Island Airport (KIH/OIBK)', 'RMOL.co', 'NDTV',\n",
       "       'Força Aérea Brasileira', 'zocalo.com.mx',\n",
       "       'Clermont-Ferrand-Aulnat Airport (CFE/LFLC)', 'Segodnya.ua',\n",
       "       'Late landing', 'Somali Current', 'Lao News Agency',\n",
       "       'yazdrasa.ir (emergency drill photos)',\n",
       "       'Traverse City Airport, MI (TVC/KTVC)', 'Vice News',\n",
       "       'Atlantic City International Airport, NJ (ACY/KACY)',\n",
       "       'El Espectador', 'russianplanes.net', 'June 7, 2014',\n",
       "       'Poder Aéreo, 16-6-2015', 'Mid air collision',\n",
       "       'Zürich-Kloten Airport (ZRH/LSZH)', 'December 9, 2014',\n",
       "       'newsfirst.lk', 'Post', 'Facebook page Mahan Air',\n",
       "       'Ukraine Ministry of Defence',\n",
       "       'Porterville Airport, CA (PTV/KPTV)', 'eNews Channel Africa',\n",
       "       'Goma Airport (GOM/FZNA)',\n",
       "       'Astana International Airport (TSE/UACC)', 'lifenews.ru',\n",
       "       'Atlanta-William B. Hartsfield International Airport, GA (ATL/KATL)',\n",
       "       'Passenger door failure',\n",
       "       'Algiers-Houari Boumediene Airport (ALG/DAAG)',\n",
       "       'Phoenix-Sky Harbor International Airport, AZ (PHX/KPHX)',\n",
       "       'Avclaims.com', 'Mogadishu International Airport (MGQ/HCMM)',\n",
       "       \"Chicago-O'Hare International Airport, IL (ORD/KORD)\",\n",
       "       'September 21, 2014', 'nvinder',\n",
       "       'New York-John F. Kennedy International Airport, NY (JFK/KJFK)',\n",
       "       'pic.twitter.com/2khqyPRbWf',\n",
       "       'Louisville International Airport, KY (SDF/KSDF)',\n",
       "       'November 4, 2014', 'Grande Prairie Airport, AB (YQU/CYQU)',\n",
       "       'Glasgow International Airport (GLA/EGPF)',\n",
       "       'Accra-Kotoka Airport (ACC/DGAA)', 'GMA News', 'inform.kz', '#AFG',\n",
       "       'VOA Portuguese 17-2-2015', 'Diário de Notícias',\n",
       "       'Guernsey Airport, Channel Islands (GCI/EGJB)',\n",
       "       'Sault Ste. Marie Airport, ON (YAM/CYAM)', 'Icing', 'Berita Satu',\n",
       "       'Lightningstrike',\n",
       "       \"Warplanes Bomb Presidential Palace In Yemen's Aden (The Huffington Post, 19-3-2015)\",\n",
       "       'Zeenews', 'LB.ua', 'Vesti UA', 'Kansas.com', 'NTSB',\n",
       "       'http://t.co/M22J1cO9D7', 'Show all...', 'Normal landing',\n",
       "       'Plane Talking, Q2 2015 / JLT',\n",
       "       'Russian Emergency Situations Ministry, Rostov Region',\n",
       "       'http://t.co/B0eBKPKRim', 'Elevator issue', 'Deccan Chronicle',\n",
       "       'pic.twitter.com/oJuBIRUv6q', 'Yonhap', 'Szaktudas.com',\n",
       "       'Cause undetermined', 'WSFA 30 June 2015', 'E1.ru',\n",
       "       'Hellenic Air Force statement', 'La Prensa', 'em.com.br',\n",
       "       'Fuerza Aérea Colombiana',\n",
       "       'San Diego-Brown Field Municipal Airport, CA (SDM/KSDM)',\n",
       "       'Rescate', '#Toluca',\n",
       "       'Collision with person or animal on the ground',\n",
       "       'Mitteldeutsche Zeitung',\n",
       "       'Collision with approach or runway lights', 'Haveeru',\n",
       "       'The National, October 2, 2015', 'VOA, 12-10-2015',\n",
       "       'pic.twitter.com/iaDmHUioWq',\n",
       "       'Johannesburg-O.R. Tambo International Airport (JNB/FAOR)',\n",
       "       'VOA, 28-10-2015', 'Sabotage', 'Gurtong', 'VFR flight in IMC',\n",
       "       'smartinvestor.business-standard.com, 22 Feb. 2016',\n",
       "       'Collision with pole or wires',\n",
       "       'Omaha-Eppley Airfield, NE (OMA/KOMA)', 'El Tiempo', 'News.com.au',\n",
       "       '#FAC', 'ciudadypoder.mx', 'Djibouti-Ambouli Airport (JIB/HDAM)',\n",
       "       'news.mydebat.com', 'Expreso', '#Iraq', 'https://t.co/NxWlqq4GqG',\n",
       "       'Yahoo Japan', 'Weather: Wake vortex encounter',\n",
       "       'pic.twitter.com/yJH8tQygYD', 'Gander Airport, NL (YQX/CYQX)',\n",
       "       'Undershoot', 'Catania-Fontanarossa Airport (CTA/LICC)',\n",
       "       'Tailstrike', 'launion.com.mx', 'Catholic Radio Network',\n",
       "       'CNN Indonesia', 'https://t.co/GMB7KMtSOL',\n",
       "       'fortmcmurraytoday.com', 'Newsru', 'Observador', 'Xinmin',\n",
       "       'DNA India', 'Houston-Sugar Land Regional Airport, TX (SGR/KSGR)',\n",
       "       'Life.ru', 'Marshall Airport, AK (MLL/PADM)', 'CENIPA',\n",
       "       'Kathmandu Post',\n",
       "       'Washington-Dulles International Airport, DC (IAD/KIAD)',\n",
       "       'gerryairways.com', 'Beni Airport (BNC/FZNP)',\n",
       "       'Togiak Village Airport, AK (TOG/PATG)', 'Defesanet',\n",
       "       'Explosión en un avión cobró la vida de un militar (elcolombiano.com, 19 Oct. 2016)',\n",
       "       'Lisboa-Humberto Delgado Airport (LIS/LPPT)',\n",
       "       'Ilaga Airport (ILA/WABL)', 'BeritaManado.com',\n",
       "       'Pickle Lake Airport, ON (YPL/CYPL)', 'RiauKontras.com',\n",
       "       'Kabul-Hamid Karzai International Airport (KBL/OAKB)',\n",
       "       'Palanga Airport (PLQ/EYPA)', 'Detik News',\n",
       "       'Loss of situational awareness',\n",
       "       'Bishkek-Manas International Airport (FRU/UCFM)', 'UOL News',\n",
       "       'Gulfport-Biloxi Regional Airport, MS (GPT/KGPT)', '#Zulia',\n",
       "       'Belfast City Airport (BHD/EGAC)', 'elcooperante.com',\n",
       "       'Big Trout Airport, ON (YTL/CYTL)',\n",
       "       'South Sudan: Plane Carrying 21 Crashes in Wau, Causing Some Injuries / Voice of America',\n",
       "       'clubofmozambique.com', 'CiberCuba', 'NHK',\n",
       "       'Teterboro Airport, NJ (TEB/KTEB)', 'Detik.com',\n",
       "       'Centre of Gravity outside limits', 'Garbaharey Airport (GBM)',\n",
       "       'https://twitter.com/MayWongCNA',\n",
       "       'Denver International Airport, CO (DEN/KDEN)', 'Airframe failure',\n",
       "       'Bounced on landing', 'Patch.com',\n",
       "       'Pocatello Airport, ID (PIH/KPIH)',\n",
       "       'twinotterspotter.blogspot.com', 'caraotadigital.net',\n",
       "       'Rosaviatsia', 'pic.twitter.com/ICwH7H4rS8', '#Cojedes',\n",
       "       'politico.cd', 'caribbeannewsservice.com',\n",
       "       'Charlotte-Douglas International Airport, NC (CLT/KCLT)',\n",
       "       'CNNTurk.com',\n",
       "       'Afghan Army Plane Crash Lands In Daikundi (TOLOnews.com, 3-10-2017)',\n",
       "       'Junín: Avión de la Marina de Guerra se estrella contra comandancia (expreso.com.pe, 4 Oct. 2017)',\n",
       "       'Elberde Airstrip', 'angola24horas.com',\n",
       "       'Uncontained engine failure',\n",
       "       'Toronto City-Billy Bishop Airport, ON (YTZ/CYTZ)',\n",
       "       'Jeddah-King Abdulaziz International Airport (JED/OEJN)',\n",
       "       'Aviation Summaries by Date / Naval Safety Center',\n",
       "       'The Himalayan Times', 'Michigan City Airport, IN (MGC/KMGC)',\n",
       "       'Rebels in S. Sudan seize 2 Kenyan pilots after plane crash (news24.com, 24 Jan. 2018)',\n",
       "       'hurriyetdailynews.com', '#Mogadishu',\n",
       "       'pic.twitter.com/VHVsaBpqC0',\n",
       "       'Plane carrying UPS packages crashes at Hastings airport (ksnblocal4.com, 16 March 2018)',\n",
       "       'english.alarabiya.net', 'Atqasuk Airport, AK (ATK/PATQ)',\n",
       "       'Tail failure', 'BEA', 'Engine fire', 'webinfomil.com',\n",
       "       'Port Moresby-Jacksons International Airport (POM/AYPY)',\n",
       "       'Clonbullogue Aerodrome (EICL)', 'pic.twitter.com/fS8t2HpSfk',\n",
       "       'Holguín-Frank Pais Airport (HOG/MUHG)',\n",
       "       'Dhaka-Shahjalal International Airport (DAC/VGHS)',\n",
       "       'Se despista avión en aeropuerto de Ramos Arizpe, Coahuila (noticieros.televisa.com, 24 May 2018)',\n",
       "       'Kananga Airport (KGA/FZUA)', 'rjdh.org', 'alg24.net', 'aero.de',\n",
       "       'africaguinee.com', 'trunews.com', 'Fez-Sais Airport (FEZ/GMFF)',\n",
       "       'sivpost.com', 'Daily Post', 'planoinformativo.com',\n",
       "       'seaplanecrossings.org', 'fanabc.com/english',\n",
       "       'Yirol Airstrip (HSYL)',\n",
       "       'Frankfurt International Airport (FRA/EDDF)',\n",
       "       'Gambell Airport, AK (GAM/PAGM)', 'punchng.com',\n",
       "       'U.S. Marines abandon search for five missing aircrew after crash near Japan (washingtonpost.com, 11 Dec. 2018)',\n",
       "       '#365DíasAlServicioDeMiPatria', '@News_aero', 'efectococuyo.com',\n",
       "       'actualite.cd', 'Payam International Airport (PYK/OIIP)',\n",
       "       'Palma de Mallorca Airport (PMI/LEPA)',\n",
       "       'Khartoum-Civil Airport (KRT/HSSS)',\n",
       "       'Houston-George Bush Intercontinental Airport, TX (IAH/KIAH)',\n",
       "       'Presque Isle-Northern Maine Regional Airport, ME (PQI/KPQI)',\n",
       "       '#LoMásRelevante', 'Augusta-Bush Field, GA (AGS/KAGS)', 'kxii.com',\n",
       "       'Deliberately crashed', 'news784.com', 'flight plan',\n",
       "       'Flightaware track log', '@AviationSafety',\n",
       "       'Sudbury Airport, ON (YSB/CYSB)', 'MAK',\n",
       "       'After eight days of search, IAF finds wreckage of missing An-32 in Arunachal Pradesh (indianexpress.com, 11 June 2019)',\n",
       "       '#URGENTE', 'ru.sputniknews.kz', 'sputniknews.com',\n",
       "       'Darwin Airport, NT (DRW/YPDN)',\n",
       "       'Misjudgement of speed or altitiude', 'November 24, 2019', 'EMTV',\n",
       "       '#SGAIA', '#Retalhuleu', 'North Star Air press release', 'WXYZ',\n",
       "       'prensalibre.com', 'breakingbelizenews.com', 'biobiochile.cl',\n",
       "       'radiotamazuj.org', 'kmjnow.com', 'rescate.com',\n",
       "       'transponder1200.com', 'mediacongo.net', 'znsbahamas.com',\n",
       "       'July 16, 2019', 'news3lv.com', 'libyaobserver.ly',\n",
       "       'Insufficient rest / fatigue', 'cameroononline.org',\n",
       "       'centrasia.org', 'ANAC', 'pic.twitter.com/aV1Qqrr6UW',\n",
       "       'https://t.co/USVogzZW3y', 'nachrichten.at', 'filipinotimes.net',\n",
       "       'www.mbs.news', '#NarcoJet',\n",
       "       'Incidente in pista a Malpensa, ferito un lavoratore (varesenews.it, 6-9-2019)',\n",
       "       'Manizales-La Nubia Airport (MZL/SKMZ)', 'WKYC', 'reportnet24.de',\n",
       "       'g1.globo.com', 'nst.com.my', 'thecitizen.co.tz',\n",
       "       'bangkokpost.com', 'Runway incursion',\n",
       "       'Atlanta Hartsfield-Jackson International Airport, GA (ATL/KATL)',\n",
       "       'Wing failure', 'soy502.com', 'hirunews.lk', 'timeslive.co.za',\n",
       "       'adn.com', 'Shutdown of wrong engine',\n",
       "       'Zaragoza Airport (ZAZ/LEZG)',\n",
       "       'Baltimore/Washington International Thurgood Marshall Airport, MD (BWI/KBWI)',\n",
       "       '#AHORA', 'sanangelolive.com', 'theprovince.com',\n",
       "       'Sioux Lookout Airport, ON (YXL/CYXL)', 'cbc.ca',\n",
       "       'Rhinelander-Oneida County Airport, WI (RHI/KRHI)', 'metro.co.uk',\n",
       "       '#AvionetaConDroga', 'elpitazo.net', '@Tacticalprm',\n",
       "       '#EXTRAOFICIAL', 'garoweonline.com', 'quepasaweb.com.ar',\n",
       "       'tn.com.ar', 'dailysabah.com', 'Photo of the aircraft',\n",
       "       'pic.twitter.com/4dGBX9gmOi', '#Chetumal', '#Atención',\n",
       "       'pic.twitter.com/w6ea6RlUEw', 'FAA register N943CE', '#ULTIMAHORA',\n",
       "       'www.elheraldo.hn', 'sopitas.com', '#Petén',\n",
       "       'Gao Airport (GAQ/GAGO)', 'Castelo Branco (LPCB)', '#Quiché',\n",
       "       '#ÚltimoMinuto', 'soynuevaprensadigital.com', '#LoUltimo',\n",
       "       'Actufly Unacrdc', 'chicago.cbslocal.com', 'eyeradio.org',\n",
       "       '#KarenWarCouncil', '#Fanb',\n",
       "       'Beledweyne-Ugas Khalif Airport (HCMN)', '#Entérate',\n",
       "       'eltiempo.com', 'mvs.gov.ua', 'pic.twitter.com/r2DRA8iyDw',\n",
       "       'September 28, 2020', 'https://t.co/ZeU8ZeEdYB',\n",
       "       'thecordovatimes.com', 'elheraldo.hn', 'infobae.com', '#GNB',\n",
       "       'facebook.com/theconversationbah', '#N484AR', 'reddit.com',\n",
       "       'flightaware.com', 'ktvz.com', 'standardmedia.co.ke',\n",
       "       'tvpacifico.mx', 'lusakatimes.com', 'dailynk.com',\n",
       "       'https://sakhalin.info/news/202329', 'Ganzhou Airport (KOW/ZSGZ)',\n",
       "       'twitter.com/medias_air', 'Inform.kz', '#ciudadbolivar',\n",
       "       'kenyans.co.ke', 'arabnews.com', 'pic.twitter.com/M7PB5wckH8',\n",
       "       'cadenapolitica.com', 'timesofindia.indiatimes.com', '#FAG',\n",
       "       'icikivu.com', 'bloknot.ru', 'notipascua.com', 'June 23, 2021',\n",
       "       'news.abs-cbn.com', '800noticias.com', 'nation.africa',\n",
       "       'presseportal.de',\n",
       "       'Dire Dawa-Aba Tenna D Yilma Airport (DIR/HADR)',\n",
       "       'August 11, 2021', 'August 14, 2021', 'life.ru',\n",
       "       'www.nbcconnecticut.com', 'Kazachinskoye Airport (UITK)',\n",
       "       'pic.twitter.com/Qzxr6MWJ7a', 'Loss/opening of engine cowling',\n",
       "       'coconuts.co', '27.mchs.gov.ru', 'vrt.be',\n",
       "       'caribbean.loopnews.com', 'flight track',\n",
       "       'reporterosdebanqueta.com', 'ren.tv', 'kcra.com',\n",
       "       'pic.twitter.com/3v4bvExBM6', 'e1.ru', 'alaskasnewssource.com',\n",
       "       'en.tempo.co', '38.mchs.gov.ru', 'https://t.co/uHgv8vuJBc'],\n",
       "      dtype=object)"
      ]
     },
     "execution_count": 51,
     "metadata": {},
     "output_type": "execute_result"
    }
   ],
   "source": [
    "acc_complete.classification.unique()"
   ]
  },
  {
   "cell_type": "code",
   "execution_count": 53,
   "id": "6cd03102",
   "metadata": {
    "ExecuteTime": {
     "end_time": "2021-12-14T14:28:23.946183Z",
     "start_time": "2021-12-14T14:28:23.937200Z"
    }
   },
   "outputs": [],
   "source": [
    "html_teste = acc_complete['html'][0]"
   ]
  },
  {
   "cell_type": "code",
   "execution_count": 100,
   "id": "11db2a79",
   "metadata": {
    "ExecuteTime": {
     "end_time": "2021-12-14T15:01:28.794379Z",
     "start_time": "2021-12-14T15:01:28.740520Z"
    }
   },
   "outputs": [
    {
     "name": "stdout",
     "output_type": "stream",
     "text": [
      "[(':\\nTailstrike\\nRunway mishap\\n\\n\\n\\n \\n', '\\n', 'Photos')]\n"
     ]
    }
   ],
   "source": [
    "soup = BeautifulSoup(teste_4)\n",
    "text_list2 =[]\n",
    "for element in soup.find_all('div', attrs={'class':'innertube'}):\n",
    "     text_list2.append(element.text)\n",
    "text_list2[0]\n",
    "if len(re.findall('Classification((.|\\n)*?)(Source|Photos)',text_list2[0]))>0:\n",
    "    print(re.findall('Classification((.|\\n)*?)(Source|Photos)',text_list2[0]))\n",
    "else:\n",
    "    None"
   ]
  },
  {
   "cell_type": "code",
   "execution_count": 99,
   "id": "9363ff67",
   "metadata": {
    "ExecuteTime": {
     "end_time": "2021-12-14T14:59:39.967012Z",
     "start_time": "2021-12-14T14:59:39.953051Z"
    }
   },
   "outputs": [
    {
     "data": {
      "text/plain": [
       "['\\n\\n\\n\\n\\nStatus:Final\\nDate:Monday 3 January 2011\\nTime:10:17\\nType:Boeing 737-823 (WL)\\nOperator:American Airlines\\nRegistration: N831NN\\nMSN: 33211/3217\\nFirst flight: 2010-03-09  (10 months)\\nEngines: 2 CFMI CFM56-7B24/3\\nCrew:Fatalities: 0 / Occupants: 5\\nPassengers:Fatalities: 0 / Occupants: 160\\nTotal:Fatalities: 0 / Occupants: 165 \\nAircraft damage: Substantial\\nAircraft fate: Repaired\\nLocation:Los Angeles International Airport, CA (LAX) ( \\xa0 United States of America) \\r\\n\\nPhase: Takeoff (TOF)\\nNature:International Scheduled Passenger\\nDeparture airport:Los Angeles International Airport, CA (LAX/KLAX), United States of America\\nDestination airport:Toronto-Pearson International Airport, ON (YYZ/CYYZ), Canada\\nFlightnumber:AA1586\\n\\nNarrative:American Airlines flight 1586, a Boeing 737-800, experienced a tailstrike upon takeoff from runway 7L at Los Angeles International Airport, California, USA. No injuries occurred during the event. The flight landed uneventfully at Toronto-Lester Pearson International Airport, Canada, where damage to the tail skid was discovered. Further damage to the aft pressure bulkhead was later discovered, and this damage was determined to be substantial.According to the captain, normal procedures were followed during preflight and taxi, including verification of the takeoff bug speeds. During the takeoff roll, the automatic, aircraft-generated V1 callout occurred and he began to rotate the airplane. The first officer did not call for rotation at that time. The captain applied nose up pitch command until he realized the indicated airspeed was too low. He said he then eased the nose of the airplane back down to the runway and re-rotated at the normal rotation speed, achieving approximately 10 degrees nose up at about 155 to 160 knots. The FO said he noticed that the automatic voice callout occurred about 20 knots early and observed the captain rotate for takeoff, but he said nothing to the captain for fear of causing confusion. The rest of the climbout, cruise, descent, and landing at Toronto was uneventful.According to the first officer, during preflight preparations, due to a last minute runway change, the takeoff data V speeds did not automatically upload into the flight management computer (FMC), so he manually entered the speeds using information on the preflight paperwork. Flight planning data indicated that the airplane takeoff weight was 161,037 pounds with a center of gravity at 22.5% mean aerodynamic chord, which under the conditions at the time of the accident should have resulted in a flaps 1 takeoff with V1 (takeoff decision speed) of 153 knots, a Vr (rotation speed) also of 153 knots, and V2 (scheduled takeoff speed) of 158 knots. The recorded data indicates the manually entered V speeds in the FMC were V1 123 knots, Vr 153 knots and V2 158 knots.\\n\\nProbable Cause:Probable cause:The early rotation of the airplane to an angle at which the fuselage contacted the runway. Contributing to early rotation was the Captain\\x92s reaction to the erroneous V1 automated callout, likely assuming that the airplane was at or close to the correct Vr at the same time. The erroneous automated callout was likely due to a keystroke entry error by the FO when manually entering takeoff data for a newly assigned departure runway.\\n\\nAccident investigation:\\n\\n\\n\\n\\n\\n\\nInvestigating\\xa0agency:\\xa0NTSB \\nStatus: Investigation completed\\nDuration:\\xa02 years Accident number: DCA11FA050Download report:   Final report\\n\\n\\n\\nClassification:\\nTailstrike\\nRunway mishap\\n\\n\\n\\n \\nPhotos\\n\\n\\nMap\\n\\n This map shows the airport of departure and the intended destination of the flight. The line between the airports does not display the exact flight path. Distance from Los Angeles International Airport, CA to Toronto-Pearson International Airport, ON as the crow flies is 3471 km (2169 miles).\\n \\nThis information is not presented as the Flight Safety Foundation or the Aviation Safety Network\\x92s opinion as to the cause of the accident. It is preliminary and is based on the facts as they are known at this time.',\n",
       " '\\r\\nlanguages:  \\n\\n\\n\\n\\n\\n\\n\\n\\nShare\\n\\n\\n\\n\\n\\nTweet\\n\\n\\n\\n ']"
      ]
     },
     "execution_count": 99,
     "metadata": {},
     "output_type": "execute_result"
    }
   ],
   "source": [
    "text_list2"
   ]
  },
  {
   "cell_type": "code",
   "execution_count": 56,
   "id": "2a37ecf4",
   "metadata": {
    "ExecuteTime": {
     "end_time": "2021-12-14T14:30:05.711562Z",
     "start_time": "2021-12-14T14:30:05.682636Z"
    }
   },
   "outputs": [
    {
     "data": {
      "text/plain": [
       "2"
      ]
     },
     "execution_count": 56,
     "metadata": {},
     "output_type": "execute_result"
    }
   ],
   "source": [
    "len(text_list2)"
   ]
  },
  {
   "cell_type": "code",
   "execution_count": null,
   "id": "95db4248",
   "metadata": {},
   "outputs": [],
   "source": []
  },
  {
   "cell_type": "code",
   "execution_count": null,
   "id": "0658b10f",
   "metadata": {},
   "outputs": [],
   "source": []
  }
 ],
 "metadata": {
  "kernelspec": {
   "display_name": "Python 3",
   "language": "python",
   "name": "python3"
  },
  "language_info": {
   "codemirror_mode": {
    "name": "ipython",
    "version": 3
   },
   "file_extension": ".py",
   "mimetype": "text/x-python",
   "name": "python",
   "nbconvert_exporter": "python",
   "pygments_lexer": "ipython3",
   "version": "3.8.8"
  },
  "toc": {
   "base_numbering": 1,
   "nav_menu": {},
   "number_sections": true,
   "sideBar": true,
   "skip_h1_title": false,
   "title_cell": "Table of Contents",
   "title_sidebar": "Contents",
   "toc_cell": false,
   "toc_position": {},
   "toc_section_display": true,
   "toc_window_display": false
  },
  "varInspector": {
   "cols": {
    "lenName": 16,
    "lenType": 16,
    "lenVar": 40
   },
   "kernels_config": {
    "python": {
     "delete_cmd_postfix": "",
     "delete_cmd_prefix": "del ",
     "library": "var_list.py",
     "varRefreshCmd": "print(var_dic_list())"
    },
    "r": {
     "delete_cmd_postfix": ") ",
     "delete_cmd_prefix": "rm(",
     "library": "var_list.r",
     "varRefreshCmd": "cat(var_dic_list()) "
    }
   },
   "types_to_exclude": [
    "module",
    "function",
    "builtin_function_or_method",
    "instance",
    "_Feature"
   ],
   "window_display": false
  }
 },
 "nbformat": 4,
 "nbformat_minor": 5
}
