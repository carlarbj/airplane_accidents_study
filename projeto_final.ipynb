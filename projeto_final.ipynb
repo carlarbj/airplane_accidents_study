{
 "cells": [
  {
   "cell_type": "code",
   "execution_count": 2,
   "id": "2e5d817c",
   "metadata": {
    "ExecuteTime": {
     "end_time": "2021-12-14T13:35:00.578286Z",
     "start_time": "2021-12-14T13:34:59.781518Z"
    }
   },
   "outputs": [],
   "source": [
    "import tqdm\n",
    "import pandas as pd\n",
    "import numpy as np\n",
    "import requests\n",
    "from bs4 import BeautifulSoup\n",
    "import time"
   ]
  },
  {
   "cell_type": "markdown",
   "id": "a636264f",
   "metadata": {},
   "source": [
    "# Access website using Selenium"
   ]
  },
  {
   "cell_type": "code",
   "execution_count": 14,
   "id": "b0a91860",
   "metadata": {
    "ExecuteTime": {
     "end_time": "2021-12-14T13:38:18.894283Z",
     "start_time": "2021-12-14T13:38:18.890308Z"
    }
   },
   "outputs": [],
   "source": [
    "from selenium import webdriver\n",
    "from selenium.webdriver.chrome.service import Service"
   ]
  },
  {
   "cell_type": "code",
   "execution_count": 9,
   "id": "0ad0c4fb",
   "metadata": {
    "ExecuteTime": {
     "end_time": "2021-12-13T13:58:06.491538Z",
     "start_time": "2021-12-13T13:58:06.478583Z"
    }
   },
   "outputs": [],
   "source": [
    "chrome_path = 'C:/Users/carla/OneDrive/Área de Trabalho/chromedriver'\n",
    "ser = Service(chrome_path)"
   ]
  },
  {
   "cell_type": "code",
   "execution_count": 10,
   "id": "773cfa21",
   "metadata": {
    "ExecuteTime": {
     "end_time": "2021-12-13T13:58:21.185828Z",
     "start_time": "2021-12-13T13:58:06.525450Z"
    }
   },
   "outputs": [],
   "source": [
    "driver = webdriver.Chrome(service=ser)"
   ]
  },
  {
   "cell_type": "code",
   "execution_count": 11,
   "id": "40ce4be8",
   "metadata": {
    "ExecuteTime": {
     "end_time": "2021-12-13T13:58:23.994816Z",
     "start_time": "2021-12-13T13:58:21.220738Z"
    }
   },
   "outputs": [],
   "source": [
    "driver.get(url)"
   ]
  },
  {
   "cell_type": "markdown",
   "id": "02e6c58e",
   "metadata": {},
   "source": [
    "It was necessary to access through selenium in order to get the main table with the accidents organized by date. However, it was necessary to get the links from each accident in order to get some important information that was present in each accident page, such as the phase of flight and the classification, among others."
   ]
  },
  {
   "cell_type": "code",
   "execution_count": 91,
   "id": "10b956f6",
   "metadata": {
    "ExecuteTime": {
     "end_time": "2021-12-13T15:33:22.517345Z",
     "start_time": "2021-12-13T15:33:22.509371Z"
    }
   },
   "outputs": [],
   "source": [
    "url = 'https://aviation-safety.net/database/dblist.php?Year=2011&lang=&page=1'"
   ]
  },
  {
   "cell_type": "code",
   "execution_count": 5,
   "id": "60e1ae5e",
   "metadata": {
    "ExecuteTime": {
     "end_time": "2021-12-13T13:57:42.478949Z",
     "start_time": "2021-12-13T13:57:42.469972Z"
    }
   },
   "outputs": [],
   "source": [
    "from datetime import date\n",
    "current_year = date.today().year"
   ]
  },
  {
   "cell_type": "code",
   "execution_count": 92,
   "id": "7ce7cc11",
   "metadata": {
    "ExecuteTime": {
     "end_time": "2021-12-13T15:33:23.953322Z",
     "start_time": "2021-12-13T15:33:23.868021Z"
    }
   },
   "outputs": [],
   "source": [
    "years_url = []\n",
    "while int(url[53:57]) <= current_year:\n",
    "       years_url.append(url)\n",
    "       url = url[:53]+ str(int(url[53:57])+1) +url[57:]"
   ]
  },
  {
   "cell_type": "code",
   "execution_count": 93,
   "id": "6d1412a7",
   "metadata": {
    "ExecuteTime": {
     "end_time": "2021-12-13T15:36:55.744078Z",
     "start_time": "2021-12-13T15:33:38.915551Z"
    },
    "scrolled": true
   },
   "outputs": [],
   "source": [
    "accidents = pd.DataFrame()\n",
    "for year in years_url:\n",
    "    table_all_pages = pd.DataFrame()\n",
    "    list_url = [year]\n",
    "    for url in list_url:\n",
    "        driver.get(url)\n",
    "        pages = [i.get_attribute('href') for i in driver.find_elements('tag name','a') if 'page'in i.get_attribute('href') ]\n",
    "        pages = list(set(pages))\n",
    "        [list_url.append(item) for item in pages]\n",
    "        list_url = list(set(list_url))\n",
    "        elem = driver.find_element('tag name','table')\n",
    "        elem.get_attribute('outerHTML')\n",
    "        elem.find_element('tag name','a')\n",
    "        url1 = [i.get_attribute('href') for i in (elem.find_elements('tag name','a'))][1:]\n",
    "        tab_page1 = pd.read_html(elem.get_attribute('outerHTML'))[0]\n",
    "        tab_page1['url'] = url1\n",
    "        table_all_pages = table_all_pages.append(tab_page1)\n",
    "        time.sleep(5)\n",
    "    accidents = accidents.append(table_all_pages)"
   ]
  },
  {
   "cell_type": "code",
   "execution_count": 95,
   "id": "bb179220",
   "metadata": {
    "ExecuteTime": {
     "end_time": "2021-12-13T15:37:36.096134Z",
     "start_time": "2021-12-13T15:37:35.098264Z"
    }
   },
   "outputs": [],
   "source": [
    "accidents.to_csv('accidents-2011-2017.csv')"
   ]
  },
  {
   "cell_type": "code",
   "execution_count": 63,
   "id": "5aa5a32b",
   "metadata": {
    "ExecuteTime": {
     "end_time": "2021-12-11T18:19:00.960977Z",
     "start_time": "2021-12-11T18:19:00.506053Z"
    }
   },
   "outputs": [],
   "source": [
    "years_url = []\n",
    "while int(url[53:57]) <= current_year:\n",
    "       years_url.append(url)\n",
    "       url = url[:53]+ str(int(url[53:57])+1) +url[57:]"
   ]
  },
  {
   "cell_type": "code",
   "execution_count": 69,
   "id": "087ada1e",
   "metadata": {
    "ExecuteTime": {
     "end_time": "2021-12-11T18:33:05.545482Z",
     "start_time": "2021-12-11T18:33:05.500603Z"
    }
   },
   "outputs": [],
   "source": [
    "accidents.to_csv('accidents-2018-2021.csv', index=False)"
   ]
  },
  {
   "cell_type": "code",
   "execution_count": 17,
   "id": "ba4f7ddd",
   "metadata": {
    "ExecuteTime": {
     "end_time": "2021-12-13T14:05:37.413752Z",
     "start_time": "2021-12-13T14:05:32.433805Z"
    }
   },
   "outputs": [],
   "source": [
    "driver.get('https://aviation-safety.net/database/record.php?id=20201213-0')"
   ]
  },
  {
   "cell_type": "code",
   "execution_count": 36,
   "id": "bcada0b2",
   "metadata": {
    "ExecuteTime": {
     "end_time": "2021-12-13T14:22:47.885569Z",
     "start_time": "2021-12-13T14:22:47.863663Z"
    }
   },
   "outputs": [],
   "source": [
    " tabelaA = driver.find_elements('tag name','table')"
   ]
  },
  {
   "cell_type": "code",
   "execution_count": 79,
   "id": "12b41a05",
   "metadata": {
    "ExecuteTime": {
     "end_time": "2021-12-13T14:56:26.947950Z",
     "start_time": "2021-12-13T14:56:26.932991Z"
    }
   },
   "outputs": [
    {
     "data": {
      "text/plain": [
       "[<selenium.webdriver.remote.webelement.WebElement (session=\"f2a8d211c04976ac81687352199bf079\", element=\"c76a8fec-5d12-4052-b319-8672c4d6238e\")>,\n",
       " <selenium.webdriver.remote.webelement.WebElement (session=\"f2a8d211c04976ac81687352199bf079\", element=\"d7ffbd4d-3d02-4779-8e86-c35ebf250765\")>,\n",
       " <selenium.webdriver.remote.webelement.WebElement (session=\"f2a8d211c04976ac81687352199bf079\", element=\"a453da2e-47c2-4ae2-b0c6-13b8b0630839\")>]"
      ]
     },
     "execution_count": 79,
     "metadata": {},
     "output_type": "execute_result"
    }
   ],
   "source": [
    "tabelaA"
   ]
  },
  {
   "cell_type": "code",
   "execution_count": 61,
   "id": "0198c564",
   "metadata": {
    "ExecuteTime": {
     "end_time": "2021-12-13T14:48:23.529354Z",
     "start_time": "2021-12-13T14:48:23.426398Z"
    }
   },
   "outputs": [
    {
     "data": {
      "text/plain": [
       "'\\nStatus:Preliminary\\nDate:Sunday 13 December 2020\\nTime:20:00 \\nType:Eclipse 500\\nOperator:private\\nRegistration: N686TM\\nMSN: 000221\\nFirst flight: 2008 \\nEngines: 2 Pratt & Whitney Canada PW610F-A\\nCrew:Fatalities: 0 / Occupants: 1\\nPassengers:Fatalities: 0 / Occupants: 0\\nTotal:Fatalities: 0 / Occupants: 1 \\n\\n\\n\\nAircraft damage: Substantial\\nLocation:Leadville Airport, CO (LXV) ( \\xa0 United States of America) \\n\\nPhase: Landing (LDG)\\nNature:Private\\n\\n\\nDeparture airport:San Diego-Montgomery Field, CA (MYF/KMYF), United States of America\\n\\n\\nDestination airport:Leadville Airport, CO (LXV/KLXV), United States of America\\n\\n\\n\\n\\n'"
      ]
     },
     "execution_count": 61,
     "metadata": {},
     "output_type": "execute_result"
    }
   ],
   "source": [
    "conteudo=tabelaA[0].get_attribute('textContent')\n",
    "conteudo"
   ]
  },
  {
   "cell_type": "code",
   "execution_count": 69,
   "id": "6935bcad",
   "metadata": {
    "ExecuteTime": {
     "end_time": "2021-12-13T14:50:32.949171Z",
     "start_time": "2021-12-13T14:50:32.923236Z"
    }
   },
   "outputs": [
    {
     "data": {
      "text/plain": [
       "'The aircraft experienced a runway excursion upon landing at Lake County Airport (LXV/KLXV), Leadville, Colorado.  The airplane sustained substantial damage and the sole pilot onboard was not injured during the incident.'"
      ]
     },
     "execution_count": 69,
     "metadata": {},
     "output_type": "execute_result"
    }
   ],
   "source": [
    "tabelaB = driver.find_elements('tag name','span')\n",
    "tabelaB[1].get_attribute('textContent')"
   ]
  },
  {
   "cell_type": "code",
   "execution_count": 78,
   "id": "33eac828",
   "metadata": {
    "ExecuteTime": {
     "end_time": "2021-12-13T14:54:55.298033Z",
     "start_time": "2021-12-13T14:54:55.220233Z"
    }
   },
   "outputs": [
    {
     "data": {
      "text/plain": [
       "'Runway excursion'"
      ]
     },
     "execution_count": 78,
     "metadata": {},
     "output_type": "execute_result"
    }
   ],
   "source": [
    "tabelaC = driver.find_elements('xpath','//*[@id=\"contentcolumn\"]/div/a[1]')\n",
    "tabelaC[0].get_attribute('textContent')"
   ]
  },
  {
   "cell_type": "code",
   "execution_count": 73,
   "id": "48f1f72c",
   "metadata": {
    "ExecuteTime": {
     "end_time": "2021-12-13T14:51:30.458389Z",
     "start_time": "2021-12-13T14:51:30.441402Z"
    }
   },
   "outputs": [
    {
     "data": {
      "text/plain": [
       "31"
      ]
     },
     "execution_count": 73,
     "metadata": {},
     "output_type": "execute_result"
    }
   ],
   "source": [
    "len(tabelaC)"
   ]
  },
  {
   "cell_type": "markdown",
   "id": "1d88740a",
   "metadata": {},
   "source": [
    "Then, it was necessary to get each HTML from the links in order to create the soup, making it easier to get the information from the dataframe, using the URLs that were already found by the previous function."
   ]
  },
  {
   "cell_type": "code",
   "execution_count": 233,
   "id": "e95b1b78",
   "metadata": {
    "ExecuteTime": {
     "end_time": "2021-12-14T20:13:27.954410Z",
     "start_time": "2021-12-14T20:13:27.937457Z"
    }
   },
   "outputs": [],
   "source": [
    "def get_html(url):\n",
    "    try:\n",
    "        headers = {'user-agent': 'Mozilla/5.0 (Windows NT 10.0; Win64; x64) AppleWebKit/537.36 (KHTML, like Gecko) Chrome/96.0.4664.93 Safari/537.36'}\n",
    "        r = requests.get(url, headers=headers)\n",
    "        time.sleep(7)\n",
    "        return r.text\n",
    "    except:\n",
    "        return None"
   ]
  },
  {
   "cell_type": "code",
   "execution_count": 217,
   "id": "1c459d4e",
   "metadata": {
    "ExecuteTime": {
     "end_time": "2021-12-14T02:34:54.760724Z",
     "start_time": "2021-12-13T20:54:40.788700Z"
    }
   },
   "outputs": [],
   "source": [
    "acc_complete['html'] = acc_complete['url'].apply(get_html)"
   ]
  },
  {
   "cell_type": "code",
   "execution_count": 219,
   "id": "3a0c049c",
   "metadata": {
    "ExecuteTime": {
     "end_time": "2021-12-14T02:36:51.310324Z",
     "start_time": "2021-12-14T02:36:49.786432Z"
    }
   },
   "outputs": [],
   "source": [
    "acc_complete.to_csv('accidents-2011-2021-html.csv')"
   ]
  },
  {
   "cell_type": "code",
   "execution_count": 196,
   "id": "84dc3d0e",
   "metadata": {
    "ExecuteTime": {
     "end_time": "2021-12-13T20:40:21.147460Z",
     "start_time": "2021-12-13T20:40:09.489252Z"
    }
   },
   "outputs": [],
   "source": [
    "teste20 = get_html('https://aviation-safety.net/database/record.php?id=20201213-0')"
   ]
  },
  {
   "cell_type": "code",
   "execution_count": 106,
   "id": "54b49fa5",
   "metadata": {
    "ExecuteTime": {
     "end_time": "2021-12-13T18:33:07.123549Z",
     "start_time": "2021-12-13T18:32:55.984772Z"
    }
   },
   "outputs": [],
   "source": [
    "soup = BeautifulSoup(get_html('https://aviation-safety.net/database/record.php?id=20201213-0'))"
   ]
  },
  {
   "cell_type": "code",
   "execution_count": 109,
   "id": "56231c4b",
   "metadata": {
    "ExecuteTime": {
     "end_time": "2021-12-13T18:40:37.524401Z",
     "start_time": "2021-12-13T18:40:37.480351Z"
    }
   },
   "outputs": [
    {
     "data": {
      "text/plain": [
       "'\\nStatus:Preliminary\\nDate:Sunday 13 December 2020\\nTime:20:00\\nType:Eclipse 500\\nOperator:private\\nRegistration: N686TM\\nMSN: 000221\\nFirst flight: 2008\\nEngines: 2 Pratt & Whitney Canada PW610F-A\\nCrew:Fatalities: 0 / Occupants: 1\\nPassengers:Fatalities: 0 / Occupants: 0\\nTotal:Fatalities: 0 / Occupants: 1 \\nAircraft damage: Substantial\\nLocation:Leadville Airport, CO (LXV) ( \\xa0 United States of America) \\r\\n\\nPhase: Landing (LDG)\\nNature:Private\\nDeparture airport:San Diego-Montgomery Field, CA (MYF/KMYF), United States of America\\nDestination airport:Leadville Airport, CO (LXV/KLXV), United States of America\\n'"
      ]
     },
     "execution_count": 109,
     "metadata": {},
     "output_type": "execute_result"
    }
   ],
   "source": [
    "soup.find_all('table')[0].text"
   ]
  },
  {
   "cell_type": "code",
   "execution_count": 188,
   "id": "33e9e2e0",
   "metadata": {
    "ExecuteTime": {
     "end_time": "2021-12-13T20:28:21.165022Z",
     "start_time": "2021-12-13T20:28:21.113144Z"
    },
    "collapsed": true
   },
   "outputs": [
    {
     "name": "stdout",
     "output_type": "stream",
     "text": [
      "Narrative:\n",
      "The aircraft experienced a runway excursion upon landing at Lake County Airport (LXV/KLXV), Leadville, Colorado.  The airplane sustained substantial damage and the sole pilot onboard was not injured during the incident.\n"
     ]
    }
   ],
   "source": [
    "text_list_narr =[]\n",
    "for element in soup.find_all('span'):\n",
    "    text_list_narr.append(element.text)\n",
    "print ('\\n'.join(text_list_narr))"
   ]
  },
  {
   "cell_type": "code",
   "execution_count": 201,
   "id": "191b9af9",
   "metadata": {
    "ExecuteTime": {
     "end_time": "2021-12-13T20:42:51.377190Z",
     "start_time": "2021-12-13T20:42:51.303369Z"
    },
    "collapsed": true
   },
   "outputs": [
    {
     "name": "stdout",
     "output_type": "stream",
     "text": [
      "\n",
      "Status:Preliminary\n",
      "Date:Sunday 13 December 2020\n",
      "Time:20:00\n",
      "Type:Eclipse 500\n",
      "Operator:private\n",
      "Registration: N686TM\n",
      "MSN: 000221\n",
      "First flight: 2008\n",
      "Engines: 2 Pratt & Whitney Canada PW610F-A\n",
      "Crew:Fatalities: 0 / Occupants: 1\n",
      "Passengers:Fatalities: 0 / Occupants: 0\n",
      "Total:Fatalities: 0 / Occupants: 1 \n",
      "Aircraft damage: Substantial\n",
      "Location:Leadville Airport, CO (LXV) (   United States of America) \r\n",
      "\n",
      "Phase: Landing (LDG)\n",
      "Nature:Private\n",
      "Departure airport:San Diego-Montgomery Field, CA (MYF/KMYF), United States of America\n",
      "Destination airport:Leadville Airport, CO (LXV/KLXV), United States of America\n",
      "\n",
      "\n",
      "\n",
      "\n",
      "\n",
      "Investigating agency: NTSB \n",
      "Status: Investigation ongoing\n",
      "Accident number: CEN21LA086\n",
      "\n",
      "\n",
      "\n",
      "Investigating agency: NTSB \n",
      "Status: Investigation ongoing\n",
      "Accident number: CEN21LA086\n",
      "\n"
     ]
    }
   ],
   "source": [
    "text_list =[]\n",
    "for element in soup.find_all('table'):\n",
    "    text_list.append(element.text)\n",
    "    texto = '\\n'.join(text_list)\n",
    "print (texto)"
   ]
  },
  {
   "cell_type": "code",
   "execution_count": 20,
   "id": "44771551",
   "metadata": {
    "ExecuteTime": {
     "end_time": "2021-12-14T13:41:00.091372Z",
     "start_time": "2021-12-14T13:41:00.072427Z"
    }
   },
   "outputs": [],
   "source": [
    "import re"
   ]
  },
  {
   "cell_type": "code",
   "execution_count": 123,
   "id": "eecbc875",
   "metadata": {
    "ExecuteTime": {
     "end_time": "2021-12-13T19:47:14.250313Z",
     "start_time": "2021-12-13T19:47:14.145318Z"
    }
   },
   "outputs": [],
   "source": [
    "texto2 = '\\n'.join(text_list)"
   ]
  },
  {
   "cell_type": "code",
   "execution_count": 136,
   "id": "09f29b1f",
   "metadata": {
    "ExecuteTime": {
     "end_time": "2021-12-13T19:56:35.630184Z",
     "start_time": "2021-12-13T19:56:35.620208Z"
    },
    "collapsed": true
   },
   "outputs": [
    {
     "data": {
      "text/plain": [
       "['Preliminary',\n",
       " 'Sunday 13 December 2020',\n",
       " '2000',\n",
       " 'Eclipse 500',\n",
       " 'private',\n",
       " ' N686TM',\n",
       " ' 000221',\n",
       " ' 2008',\n",
       " ' 2 Pratt & Whitney Canada PW610F-A',\n",
       " 'Fatalities 0 / Occupants 1',\n",
       " 'Fatalities 0 / Occupants 0',\n",
       " 'Fatalities 0 / Occupants 1 ',\n",
       " ' Substantial',\n",
       " 'Leadville Airport, CO (LXV) ( \\xa0 United States of America) \\r',\n",
       " ' Landing (LDG)',\n",
       " 'Private',\n",
       " 'San Diego-Montgomery Field, CA (MYF/KMYF), United States of America',\n",
       " 'Leadville Airport, CO (LXV/KLXV), United States of America',\n",
       " '\\xa0NTSB ',\n",
       " ' Investigation ongoing',\n",
       " ' CEN21LA086',\n",
       " '\\xa0NTSB ',\n",
       " ' Investigation ongoing',\n",
       " ' CEN21LA086']"
      ]
     },
     "execution_count": 136,
     "metadata": {},
     "output_type": "execute_result"
    }
   ],
   "source": [
    "teste = [re.sub(':', '', item) for item in re.findall(':.*',texto2)]\n",
    "teste"
   ]
  },
  {
   "cell_type": "code",
   "execution_count": 195,
   "id": "614c3374",
   "metadata": {
    "ExecuteTime": {
     "end_time": "2021-12-13T20:31:04.373961Z",
     "start_time": "2021-12-13T20:31:04.332074Z"
    }
   },
   "outputs": [
    {
     "data": {
      "text/plain": [
       "'NTSB '"
      ]
     },
     "execution_count": 195,
     "metadata": {},
     "output_type": "execute_result"
    }
   ],
   "source": [
    "teste = [re.sub(':\\xa0', '', item) for item in re.findall(':.*',text_list[2])]\n",
    "teste[0]"
   ]
  },
  {
   "cell_type": "markdown",
   "id": "f247b2c7",
   "metadata": {},
   "source": [
    "# Getting information from the HTML column"
   ]
  },
  {
   "cell_type": "code",
   "execution_count": 282,
   "id": "3860219f",
   "metadata": {
    "ExecuteTime": {
     "end_time": "2021-12-14T21:41:06.215717Z",
     "start_time": "2021-12-14T21:41:06.201752Z"
    }
   },
   "outputs": [],
   "source": [
    "def details_phase(html):\n",
    "    try:\n",
    "        soup = BeautifulSoup(html)\n",
    "        text_list3 =[]\n",
    "        for element in soup.find_all('table'):\n",
    "            text_list3.append(element.text)\n",
    "        if len(re.findall('Phase((.|\\n)*?)(Nature)',text_list3[0]))>0:\n",
    "            return re.findall('Phase((.|\\n)*?)(Nature)',text_list3[0])[0][0]\n",
    "        else:\n",
    "            return pd.NA\n",
    "    except:\n",
    "        return pd.NA"
   ]
  },
  {
   "cell_type": "code",
   "execution_count": 283,
   "id": "0f0aea01",
   "metadata": {
    "ExecuteTime": {
     "end_time": "2021-12-14T21:41:06.676145Z",
     "start_time": "2021-12-14T21:41:06.666138Z"
    }
   },
   "outputs": [],
   "source": [
    "def details_damage(html):\n",
    "    try:\n",
    "        soup = BeautifulSoup(html)\n",
    "        text_list2 = []\n",
    "        for element in soup.find_all('table'):\n",
    "            text_list2.append(element.text)\n",
    "        if len(re.findall('damage((.|\\n)*?)(Aircraft|Location|Phase)',text_list2[0]))>0:\n",
    "            return re.findall('damage((.|\\n)*?)(Aircraft|Location|Phase)',text_list2[0])[0][0]\n",
    "        else:\n",
    "            return pd.NA\n",
    "    except:\n",
    "        return pd.NA"
   ]
  },
  {
   "cell_type": "code",
   "execution_count": 258,
   "id": "64080d49",
   "metadata": {
    "ExecuteTime": {
     "end_time": "2021-12-14T21:00:10.520401Z",
     "start_time": "2021-12-14T21:00:10.383135Z"
    }
   },
   "outputs": [],
   "source": [
    "def details_nature(html):\n",
    "    try:\n",
    "        soup = BeautifulSoup(html)\n",
    "        text_list4 =[]\n",
    "        for element in soup.find_all('table'):\n",
    "            text_list4.append(element.text)\n",
    "        cleaning = [re.sub(':', '', item) for item in re.findall(':.*',text_list4[0])]\n",
    "        if len(re.findall('Nature((.|\\n)*?)(Departure)',text_list4[0]))>0:\n",
    "            return re.findall('Nature((.|\\n)*?)(Departure)',text_list4[0])[0][0]\n",
    "        else:\n",
    "            return None\n",
    "    except:\n",
    "        return None"
   ]
  },
  {
   "cell_type": "code",
   "execution_count": 206,
   "id": "64f72bbc",
   "metadata": {
    "ExecuteTime": {
     "end_time": "2021-12-13T20:46:02.417782Z",
     "start_time": "2021-12-13T20:46:02.357934Z"
    }
   },
   "outputs": [
    {
     "data": {
      "text/plain": [
       "' Landing (LDG)'"
      ]
     },
     "execution_count": 206,
     "metadata": {},
     "output_type": "execute_result"
    }
   ],
   "source": [
    "details1(teste20, 14)"
   ]
  },
  {
   "cell_type": "code",
   "execution_count": 284,
   "id": "61d41b62",
   "metadata": {
    "ExecuteTime": {
     "end_time": "2021-12-14T21:41:26.325588Z",
     "start_time": "2021-12-14T21:41:26.316615Z"
    }
   },
   "outputs": [],
   "source": [
    "def details_inv(html):\n",
    "    try:\n",
    "        soup = BeautifulSoup(html)\n",
    "        text_list =[]\n",
    "        for element in soup.find_all('table'):\n",
    "            text_list.append(element.text)\n",
    "        cleaning = [re.sub(':\\xa0', '', item) for item in re.findall(':.*',text_list[2])]\n",
    "        return cleaning[0]\n",
    "    except:\n",
    "        return pd.NA\n"
   ]
  },
  {
   "cell_type": "code",
   "execution_count": 210,
   "id": "c78061bf",
   "metadata": {
    "ExecuteTime": {
     "end_time": "2021-12-13T20:48:40.684925Z",
     "start_time": "2021-12-13T20:48:40.644035Z"
    }
   },
   "outputs": [
    {
     "data": {
      "text/plain": [
       "'NTSB '"
      ]
     },
     "execution_count": 210,
     "metadata": {},
     "output_type": "execute_result"
    }
   ],
   "source": [
    "details2(teste20)"
   ]
  },
  {
   "cell_type": "code",
   "execution_count": 285,
   "id": "806f13cb",
   "metadata": {
    "ExecuteTime": {
     "end_time": "2021-12-14T21:41:30.848681Z",
     "start_time": "2021-12-14T21:41:30.844691Z"
    }
   },
   "outputs": [],
   "source": [
    "def details3(html):\n",
    "    try:\n",
    "        soup = BeautifulSoup(html)\n",
    "        text_list_narr =[]\n",
    "        for element in soup.find_all('span'):\n",
    "            text_list_narr.append(element.text)\n",
    "        return ('\\n'.join(text_list_narr))\n",
    "    except:\n",
    "        return pd.NA"
   ]
  },
  {
   "cell_type": "code",
   "execution_count": 212,
   "id": "cb46f2ac",
   "metadata": {
    "ExecuteTime": {
     "end_time": "2021-12-13T20:49:59.479767Z",
     "start_time": "2021-12-13T20:49:59.457836Z"
    }
   },
   "outputs": [
    {
     "data": {
      "text/plain": [
       "'Narrative:\\nThe aircraft experienced a runway excursion upon landing at Lake County Airport (LXV/KLXV), Leadville, Colorado.  The airplane sustained substantial damage and the sole pilot onboard was not injured during the incident.'"
      ]
     },
     "execution_count": 212,
     "metadata": {},
     "output_type": "execute_result"
    }
   ],
   "source": [
    "details3(teste20)"
   ]
  },
  {
   "cell_type": "code",
   "execution_count": 286,
   "id": "f4e4f5bd",
   "metadata": {
    "ExecuteTime": {
     "end_time": "2021-12-14T21:41:34.793205Z",
     "start_time": "2021-12-14T21:41:34.782230Z"
    }
   },
   "outputs": [],
   "source": [
    "def details_class(html):\n",
    "    try:\n",
    "        soup = BeautifulSoup(html)\n",
    "        text_list2 = []\n",
    "        for element in soup.find_all('div', attrs={'class':'innertube'}):\n",
    "            text_list2.append(element.text)\n",
    "        if len(re.findall('Classification((.|\\n)*?)(Source|Photos|Follow-up|Weather|METAR)',text_list2[0]))>0:\n",
    "            return re.findall('Classification((.|\\n)*?)(Source|Photos|Follow-up|Weather|METAR)',text_list2[0])[0][0]\n",
    "        else:\n",
    "            return pd.NA\n",
    "    except:\n",
    "        return pd.NA"
   ]
  },
  {
   "cell_type": "code",
   "execution_count": 273,
   "id": "a4164c18",
   "metadata": {
    "ExecuteTime": {
     "end_time": "2021-12-14T21:10:43.703388Z",
     "start_time": "2021-12-14T21:10:43.683411Z"
    }
   },
   "outputs": [
    {
     "data": {
      "text/plain": [
       "<NA>"
      ]
     },
     "execution_count": 273,
     "metadata": {},
     "output_type": "execute_result"
    }
   ],
   "source": [
    "pd.NA"
   ]
  },
  {
   "cell_type": "code",
   "execution_count": 254,
   "id": "888e5c9b",
   "metadata": {
    "ExecuteTime": {
     "end_time": "2021-12-14T20:58:26.951717Z",
     "start_time": "2021-12-14T20:58:25.931395Z"
    }
   },
   "outputs": [],
   "source": [
    "acc_complete = pd.read_csv('accidents-2011-2021-html.csv')"
   ]
  },
  {
   "cell_type": "code",
   "execution_count": 235,
   "id": "15ec5fdf",
   "metadata": {
    "ExecuteTime": {
     "end_time": "2021-12-14T20:36:10.633344Z",
     "start_time": "2021-12-14T20:14:55.629988Z"
    }
   },
   "outputs": [],
   "source": [
    "url_null = acc_complete[acc_complete['html'].isnull()]['url'].apply(get_html)\n"
   ]
  },
  {
   "cell_type": "code",
   "execution_count": 269,
   "id": "7496bddd",
   "metadata": {
    "ExecuteTime": {
     "end_time": "2021-12-14T21:08:07.670926Z",
     "start_time": "2021-12-14T21:08:07.658958Z"
    }
   },
   "outputs": [],
   "source": [
    "acc_complete.loc[acc_complete['html'].isnull(),'html']=url_null"
   ]
  },
  {
   "cell_type": "code",
   "execution_count": 274,
   "id": "e0d6c8b5",
   "metadata": {
    "ExecuteTime": {
     "end_time": "2021-12-14T21:11:21.600590Z",
     "start_time": "2021-12-14T21:11:20.361865Z"
    }
   },
   "outputs": [],
   "source": [
    "acc_complete.to_csv('accidents-html-complete')"
   ]
  },
  {
   "cell_type": "code",
   "execution_count": 287,
   "id": "621e0c8d",
   "metadata": {
    "ExecuteTime": {
     "end_time": "2021-12-14T21:42:34.824317Z",
     "start_time": "2021-12-14T21:42:14.796896Z"
    }
   },
   "outputs": [],
   "source": [
    "acc_complete['phase'] = acc_complete['html'].apply(details_phase)"
   ]
  },
  {
   "cell_type": "code",
   "execution_count": 288,
   "id": "46d4d72f",
   "metadata": {
    "ExecuteTime": {
     "end_time": "2021-12-14T21:42:54.109305Z",
     "start_time": "2021-12-14T21:42:34.874844Z"
    }
   },
   "outputs": [],
   "source": [
    "acc_complete['aircraft_damage'] = acc_complete['html'].apply(details_damage)"
   ]
  },
  {
   "cell_type": "code",
   "execution_count": 289,
   "id": "3b7e462c",
   "metadata": {
    "ExecuteTime": {
     "end_time": "2021-12-14T21:43:16.826044Z",
     "start_time": "2021-12-14T21:42:54.189516Z"
    }
   },
   "outputs": [],
   "source": [
    "acc_complete['classification'] = acc_complete['html'].apply(details_class)"
   ]
  },
  {
   "cell_type": "code",
   "execution_count": 290,
   "id": "243f8873",
   "metadata": {
    "ExecuteTime": {
     "end_time": "2021-12-14T21:43:38.248462Z",
     "start_time": "2021-12-14T21:43:16.875870Z"
    }
   },
   "outputs": [],
   "source": [
    "acc_complete['narrative'] = acc_complete['html'].apply(details3)"
   ]
  },
  {
   "cell_type": "code",
   "execution_count": 291,
   "id": "11d2e042",
   "metadata": {
    "ExecuteTime": {
     "end_time": "2021-12-14T21:43:59.333092Z",
     "start_time": "2021-12-14T21:43:38.299332Z"
    }
   },
   "outputs": [],
   "source": [
    "acc_complete['nature'] = acc_complete['html'].apply(details_nature)"
   ]
  },
  {
   "cell_type": "code",
   "execution_count": 292,
   "id": "b357881b",
   "metadata": {
    "ExecuteTime": {
     "end_time": "2021-12-14T21:44:20.974942Z",
     "start_time": "2021-12-14T21:43:59.382928Z"
    }
   },
   "outputs": [],
   "source": [
    "acc_complete['inv_agency'] = acc_complete['html'].apply(details_inv)"
   ]
  },
  {
   "cell_type": "code",
   "execution_count": 249,
   "id": "7f73d4e9",
   "metadata": {
    "ExecuteTime": {
     "end_time": "2021-12-14T20:54:07.662942Z",
     "start_time": "2021-12-14T20:54:06.813401Z"
    }
   },
   "outputs": [],
   "source": [
    "#html_acc = pd.read_csv('accidents-2011-2021-html.csv')"
   ]
  },
  {
   "cell_type": "markdown",
   "id": "2a365471",
   "metadata": {},
   "source": [
    "# Cleaning the content"
   ]
  },
  {
   "cell_type": "code",
   "execution_count": 296,
   "id": "ac8af950",
   "metadata": {
    "ExecuteTime": {
     "end_time": "2021-12-14T21:45:20.000581Z",
     "start_time": "2021-12-14T21:45:19.987579Z"
    }
   },
   "outputs": [],
   "source": [
    "def cleaning(string):\n",
    "    text = (re.sub('[:\\n]', '', (str(string)))).strip()\n",
    "    return text\n"
   ]
  },
  {
   "cell_type": "code",
   "execution_count": 307,
   "id": "8438ef9e",
   "metadata": {
    "ExecuteTime": {
     "end_time": "2021-12-14T21:48:27.468600Z",
     "start_time": "2021-12-14T21:48:27.461620Z"
    }
   },
   "outputs": [],
   "source": [
    "def cleaning_narr(string):\n",
    "    text = (re.sub('Narrative', '', (str(string)))).strip()\n",
    "    return text"
   ]
  },
  {
   "cell_type": "code",
   "execution_count": 297,
   "id": "41ec4ccf",
   "metadata": {
    "ExecuteTime": {
     "end_time": "2021-12-14T21:45:22.528375Z",
     "start_time": "2021-12-14T21:45:22.517399Z"
    }
   },
   "outputs": [],
   "source": [
    "def cleaning_class(string):\n",
    "    text = (re.sub('[:\\n]', ' ', (str(string)))).strip()\n",
    "    return text"
   ]
  },
  {
   "cell_type": "code",
   "execution_count": 298,
   "id": "7bd5c0f8",
   "metadata": {
    "ExecuteTime": {
     "end_time": "2021-12-14T21:45:27.410421Z",
     "start_time": "2021-12-14T21:45:27.396426Z"
    }
   },
   "outputs": [],
   "source": [
    "acc_complete['aircraft_damage'] = acc_complete['aircraft_damage'].apply(cleaning)"
   ]
  },
  {
   "cell_type": "code",
   "execution_count": 299,
   "id": "7d5dc4d4",
   "metadata": {
    "ExecuteTime": {
     "end_time": "2021-12-14T21:45:28.528011Z",
     "start_time": "2021-12-14T21:45:28.512053Z"
    }
   },
   "outputs": [],
   "source": [
    "acc_complete['phase'] = acc_complete['phase'].apply(cleaning)"
   ]
  },
  {
   "cell_type": "code",
   "execution_count": 300,
   "id": "1aaade3d",
   "metadata": {
    "ExecuteTime": {
     "end_time": "2021-12-14T21:45:29.222699Z",
     "start_time": "2021-12-14T21:45:29.200722Z"
    }
   },
   "outputs": [],
   "source": [
    "acc_complete['nature'] = acc_complete['nature'].apply(cleaning)"
   ]
  },
  {
   "cell_type": "code",
   "execution_count": 301,
   "id": "3ebebc65",
   "metadata": {
    "ExecuteTime": {
     "end_time": "2021-12-14T21:45:32.345645Z",
     "start_time": "2021-12-14T21:45:32.311711Z"
    }
   },
   "outputs": [],
   "source": [
    "acc_complete['narrative'] = acc_complete['narrative'].apply(cleaning)"
   ]
  },
  {
   "cell_type": "code",
   "execution_count": 308,
   "id": "a866fc0b",
   "metadata": {
    "ExecuteTime": {
     "end_time": "2021-12-14T21:48:40.256143Z",
     "start_time": "2021-12-14T21:48:40.222244Z"
    }
   },
   "outputs": [],
   "source": [
    "acc_complete['narrative'] = acc_complete['narrative'].apply(cleaning_narr)"
   ]
  },
  {
   "cell_type": "code",
   "execution_count": 302,
   "id": "f405afa1",
   "metadata": {
    "ExecuteTime": {
     "end_time": "2021-12-14T21:45:35.043973Z",
     "start_time": "2021-12-14T21:45:35.025023Z"
    }
   },
   "outputs": [],
   "source": [
    "acc_complete['classification'] = acc_complete['classification'].apply(cleaning_class)"
   ]
  },
  {
   "cell_type": "code",
   "execution_count": 306,
   "id": "6b64b0ea",
   "metadata": {
    "ExecuteTime": {
     "end_time": "2021-12-14T21:47:57.891055Z",
     "start_time": "2021-12-14T21:47:57.873140Z"
    }
   },
   "outputs": [],
   "source": [
    "acc_complete = acc_complete.drop(columns=['Unnamed: 0','Unnamed: 6', 'pic', 'cat'])"
   ]
  },
  {
   "cell_type": "code",
   "execution_count": 311,
   "id": "17486ec5",
   "metadata": {
    "ExecuteTime": {
     "end_time": "2021-12-15T00:22:58.188929Z",
     "start_time": "2021-12-15T00:22:58.111144Z"
    }
   },
   "outputs": [
    {
     "data": {
      "text/html": [
       "<div>\n",
       "<style scoped>\n",
       "    .dataframe tbody tr th:only-of-type {\n",
       "        vertical-align: middle;\n",
       "    }\n",
       "\n",
       "    .dataframe tbody tr th {\n",
       "        vertical-align: top;\n",
       "    }\n",
       "\n",
       "    .dataframe thead th {\n",
       "        text-align: right;\n",
       "    }\n",
       "</style>\n",
       "<table border=\"1\" class=\"dataframe\">\n",
       "  <thead>\n",
       "    <tr style=\"text-align: right;\">\n",
       "      <th></th>\n",
       "      <th>date</th>\n",
       "      <th>type</th>\n",
       "      <th>registration</th>\n",
       "      <th>operator</th>\n",
       "      <th>fat.</th>\n",
       "      <th>location</th>\n",
       "      <th>url</th>\n",
       "      <th>phase</th>\n",
       "      <th>aircraft_damage</th>\n",
       "      <th>classification</th>\n",
       "      <th>narrative</th>\n",
       "      <th>nature</th>\n",
       "      <th>inv_agency</th>\n",
       "    </tr>\n",
       "  </thead>\n",
       "  <tbody>\n",
       "    <tr>\n",
       "      <th>0</th>\n",
       "      <td>01-JAN-2011</td>\n",
       "      <td>Tupolev Tu-154B-2</td>\n",
       "      <td>RA-85588</td>\n",
       "      <td>Kolavia</td>\n",
       "      <td>3</td>\n",
       "      <td>Surgut Airpo...</td>\n",
       "      <td>https://aviation-safety.net/database/record.ph...</td>\n",
       "      <td>Standing (STD)</td>\n",
       "      <td>Destroyed</td>\n",
       "      <td>Damaged on the ground</td>\n",
       "      <td>A Tupolev 154B-2 passenger jet, registered RA-...</td>\n",
       "      <td>Domestic Scheduled Passenger</td>\n",
       "      <td>MAK</td>\n",
       "    </tr>\n",
       "    <tr>\n",
       "      <th>1</th>\n",
       "      <td>03-JAN-2011</td>\n",
       "      <td>Beech B200 King Air</td>\n",
       "      <td>C-GSAU</td>\n",
       "      <td>Saskatchewan Gvt.</td>\n",
       "      <td>0</td>\n",
       "      <td>Maple Creek ...</td>\n",
       "      <td>https://aviation-safety.net/database/record.ph...</td>\n",
       "      <td>Landing (LDG)</td>\n",
       "      <td>Substantial</td>\n",
       "      <td>Runway excursion</td>\n",
       "      <td>A Beechcraft B200 King Air, C-GSAU, sustained ...</td>\n",
       "      <td>Ambulance</td>\n",
       "      <td>TSB Canada</td>\n",
       "    </tr>\n",
       "    <tr>\n",
       "      <th>2</th>\n",
       "      <td>03-JAN-2011</td>\n",
       "      <td>Boeing 737-823 (WL)</td>\n",
       "      <td>N831NN</td>\n",
       "      <td>American Airlines</td>\n",
       "      <td>0</td>\n",
       "      <td>Los Angeles ...</td>\n",
       "      <td>https://aviation-safety.net/database/record.ph...</td>\n",
       "      <td>Takeoff (TOF)</td>\n",
       "      <td>Substantial</td>\n",
       "      <td>Tailstrike Runway mishap</td>\n",
       "      <td>American Airlines flight 1586, a Boeing 737-80...</td>\n",
       "      <td>International Scheduled Passenger</td>\n",
       "      <td>NTSB</td>\n",
       "    </tr>\n",
       "    <tr>\n",
       "      <th>3</th>\n",
       "      <td>05-JAN-2011</td>\n",
       "      <td>Boeing 737-8F2 (WL)</td>\n",
       "      <td>TC-JGZ</td>\n",
       "      <td>THY</td>\n",
       "      <td>0</td>\n",
       "      <td>Istanbul Ata...</td>\n",
       "      <td>https://aviation-safety.net/database/record.ph...</td>\n",
       "      <td>En route (ENR)</td>\n",
       "      <td>None</td>\n",
       "      <td>Hijack</td>\n",
       "      <td>A 40 year old man attempted hijack Flight 1754...</td>\n",
       "      <td>International Scheduled Passenger</td>\n",
       "      <td>&lt;NA&gt;</td>\n",
       "    </tr>\n",
       "    <tr>\n",
       "      <th>4</th>\n",
       "      <td>06-JAN-2011</td>\n",
       "      <td>Learjet 35A</td>\n",
       "      <td>N800GP</td>\n",
       "      <td>Priester Aviation</td>\n",
       "      <td>0</td>\n",
       "      <td>Springfield-...</td>\n",
       "      <td>https://aviation-safety.net/database/record.ph...</td>\n",
       "      <td>Landing (LDG)</td>\n",
       "      <td>Damaged beyond repair</td>\n",
       "      <td>Icing Loss of control</td>\n",
       "      <td>A Learjet 35A corporate jet, registered N800GP...</td>\n",
       "      <td>Executive</td>\n",
       "      <td>NTSB</td>\n",
       "    </tr>\n",
       "    <tr>\n",
       "      <th>...</th>\n",
       "      <td>...</td>\n",
       "      <td>...</td>\n",
       "      <td>...</td>\n",
       "      <td>...</td>\n",
       "      <td>...</td>\n",
       "      <td>...</td>\n",
       "      <td>...</td>\n",
       "      <td>...</td>\n",
       "      <td>...</td>\n",
       "      <td>...</td>\n",
       "      <td>...</td>\n",
       "      <td>...</td>\n",
       "      <td>...</td>\n",
       "    </tr>\n",
       "    <tr>\n",
       "      <th>2187</th>\n",
       "      <td>13-NOV-2021</td>\n",
       "      <td>BN-2A-6 Islander</td>\n",
       "      <td>N866JA</td>\n",
       "      <td>Island Airways</td>\n",
       "      <td>4</td>\n",
       "      <td>near Beaver Islan...</td>\n",
       "      <td>https://aviation-safety.net/database/record.ph...</td>\n",
       "      <td>Approach (APR)</td>\n",
       "      <td>Destroyed</td>\n",
       "      <td>&lt;NA&gt;</td>\n",
       "      <td>A Britten-Norman BN-2A Islander, was destroyed...</td>\n",
       "      <td>Domestic Non Scheduled Passenger</td>\n",
       "      <td>NTSB</td>\n",
       "    </tr>\n",
       "    <tr>\n",
       "      <th>2188</th>\n",
       "      <td>14-NOV-2021</td>\n",
       "      <td>IAI 1125 Astra SP</td>\n",
       "      <td>N771DX</td>\n",
       "      <td>EMD Astra Holdings LLC</td>\n",
       "      <td>0</td>\n",
       "      <td>Las Vegas-No...</td>\n",
       "      <td>https://aviation-safety.net/database/record.ph...</td>\n",
       "      <td>Landing (LDG)</td>\n",
       "      <td>Substantial</td>\n",
       "      <td>Runway excursion</td>\n",
       "      <td>An IAI 1125 Astra SP jet, N771DX, sustained su...</td>\n",
       "      <td>Private</td>\n",
       "      <td>&lt;NA&gt;</td>\n",
       "    </tr>\n",
       "    <tr>\n",
       "      <th>2189</th>\n",
       "      <td>29-NOV-2021</td>\n",
       "      <td>Boeing 747-4B5F</td>\n",
       "      <td>N705CK</td>\n",
       "      <td>Kalitta Air</td>\n",
       "      <td>0</td>\n",
       "      <td>between Sant...</td>\n",
       "      <td>https://aviation-safety.net/database/record.ph...</td>\n",
       "      <td>En route (ENR)</td>\n",
       "      <td>Substantial</td>\n",
       "      <td>&lt;NA&gt;</td>\n",
       "      <td>Kalitta Air flight K4538A, a Boeing 747-4B5F, ...</td>\n",
       "      <td>Cargo</td>\n",
       "      <td>NTSB</td>\n",
       "    </tr>\n",
       "    <tr>\n",
       "      <th>2190</th>\n",
       "      <td>01-DEC-2021</td>\n",
       "      <td>Cessna 208 Caravan I</td>\n",
       "      <td>N9602F</td>\n",
       "      <td>Lake &amp; Peninsula Airlines</td>\n",
       "      <td>0</td>\n",
       "      <td>near Port Alswort...</td>\n",
       "      <td>https://aviation-safety.net/database/record.ph...</td>\n",
       "      <td>Approach (APR)</td>\n",
       "      <td>Substantial</td>\n",
       "      <td>&lt;NA&gt;</td>\n",
       "      <td>The Cessna 208 Caravan I crashed into trees on...</td>\n",
       "      <td>Unknown</td>\n",
       "      <td>&lt;NA&gt;</td>\n",
       "    </tr>\n",
       "    <tr>\n",
       "      <th>2191</th>\n",
       "      <td>01-DEC-2021</td>\n",
       "      <td>Cessna 510 Citation Mustang</td>\n",
       "      <td>N81CB</td>\n",
       "      <td>private</td>\n",
       "      <td>0</td>\n",
       "      <td>Lake Havasu ...</td>\n",
       "      <td>https://aviation-safety.net/database/record.ph...</td>\n",
       "      <td>Landing (LDG)</td>\n",
       "      <td>Substantial</td>\n",
       "      <td>Gear-up landing Runway mishap</td>\n",
       "      <td>The aircraft landed gearup at Lake Havasu City...</td>\n",
       "      <td>Private</td>\n",
       "      <td>&lt;NA&gt;</td>\n",
       "    </tr>\n",
       "  </tbody>\n",
       "</table>\n",
       "<p>2192 rows × 13 columns</p>\n",
       "</div>"
      ],
      "text/plain": [
       "             date                         type registration  \\\n",
       "0     01-JAN-2011            Tupolev Tu-154B-2     RA-85588   \n",
       "1     03-JAN-2011          Beech B200 King Air       C-GSAU   \n",
       "2     03-JAN-2011          Boeing 737-823 (WL)       N831NN   \n",
       "3     05-JAN-2011          Boeing 737-8F2 (WL)       TC-JGZ   \n",
       "4     06-JAN-2011                  Learjet 35A       N800GP   \n",
       "...           ...                          ...          ...   \n",
       "2187  13-NOV-2021             BN-2A-6 Islander       N866JA   \n",
       "2188  14-NOV-2021            IAI 1125 Astra SP       N771DX   \n",
       "2189  29-NOV-2021              Boeing 747-4B5F       N705CK   \n",
       "2190  01-DEC-2021         Cessna 208 Caravan I       N9602F   \n",
       "2191  01-DEC-2021  Cessna 510 Citation Mustang        N81CB   \n",
       "\n",
       "                       operator fat.              location  \\\n",
       "0                       Kolavia    3       Surgut Airpo...   \n",
       "1             Saskatchewan Gvt.    0       Maple Creek ...   \n",
       "2             American Airlines    0       Los Angeles ...   \n",
       "3                           THY    0       Istanbul Ata...   \n",
       "4             Priester Aviation    0       Springfield-...   \n",
       "...                         ...  ...                   ...   \n",
       "2187             Island Airways    4  near Beaver Islan...   \n",
       "2188     EMD Astra Holdings LLC    0       Las Vegas-No...   \n",
       "2189                Kalitta Air    0       between Sant...   \n",
       "2190  Lake & Peninsula Airlines    0  near Port Alswort...   \n",
       "2191                    private    0       Lake Havasu ...   \n",
       "\n",
       "                                                    url           phase  \\\n",
       "0     https://aviation-safety.net/database/record.ph...  Standing (STD)   \n",
       "1     https://aviation-safety.net/database/record.ph...   Landing (LDG)   \n",
       "2     https://aviation-safety.net/database/record.ph...   Takeoff (TOF)   \n",
       "3     https://aviation-safety.net/database/record.ph...  En route (ENR)   \n",
       "4     https://aviation-safety.net/database/record.ph...   Landing (LDG)   \n",
       "...                                                 ...             ...   \n",
       "2187  https://aviation-safety.net/database/record.ph...  Approach (APR)   \n",
       "2188  https://aviation-safety.net/database/record.ph...   Landing (LDG)   \n",
       "2189  https://aviation-safety.net/database/record.ph...  En route (ENR)   \n",
       "2190  https://aviation-safety.net/database/record.ph...  Approach (APR)   \n",
       "2191  https://aviation-safety.net/database/record.ph...   Landing (LDG)   \n",
       "\n",
       "            aircraft_damage                 classification  \\\n",
       "0                 Destroyed          Damaged on the ground   \n",
       "1               Substantial               Runway excursion   \n",
       "2               Substantial       Tailstrike Runway mishap   \n",
       "3                      None                         Hijack   \n",
       "4     Damaged beyond repair          Icing Loss of control   \n",
       "...                     ...                            ...   \n",
       "2187              Destroyed                           <NA>   \n",
       "2188            Substantial               Runway excursion   \n",
       "2189            Substantial                           <NA>   \n",
       "2190            Substantial                           <NA>   \n",
       "2191            Substantial  Gear-up landing Runway mishap   \n",
       "\n",
       "                                              narrative  \\\n",
       "0     A Tupolev 154B-2 passenger jet, registered RA-...   \n",
       "1     A Beechcraft B200 King Air, C-GSAU, sustained ...   \n",
       "2     American Airlines flight 1586, a Boeing 737-80...   \n",
       "3     A 40 year old man attempted hijack Flight 1754...   \n",
       "4     A Learjet 35A corporate jet, registered N800GP...   \n",
       "...                                                 ...   \n",
       "2187  A Britten-Norman BN-2A Islander, was destroyed...   \n",
       "2188  An IAI 1125 Astra SP jet, N771DX, sustained su...   \n",
       "2189  Kalitta Air flight K4538A, a Boeing 747-4B5F, ...   \n",
       "2190  The Cessna 208 Caravan I crashed into trees on...   \n",
       "2191  The aircraft landed gearup at Lake Havasu City...   \n",
       "\n",
       "                                 nature   inv_agency  \n",
       "0          Domestic Scheduled Passenger         MAK   \n",
       "1                             Ambulance  TSB Canada   \n",
       "2     International Scheduled Passenger        NTSB   \n",
       "3     International Scheduled Passenger         <NA>  \n",
       "4                             Executive        NTSB   \n",
       "...                                 ...          ...  \n",
       "2187   Domestic Non Scheduled Passenger        NTSB   \n",
       "2188                            Private         <NA>  \n",
       "2189                              Cargo        NTSB   \n",
       "2190                            Unknown         <NA>  \n",
       "2191                            Private         <NA>  \n",
       "\n",
       "[2192 rows x 13 columns]"
      ]
     },
     "execution_count": 311,
     "metadata": {},
     "output_type": "execute_result"
    }
   ],
   "source": [
    "accidents_complete = acc_complete.drop(columns=['html'])\n",
    "accidents_complete"
   ]
  },
  {
   "cell_type": "code",
   "execution_count": 315,
   "id": "56387054",
   "metadata": {
    "ExecuteTime": {
     "end_time": "2021-12-15T00:46:29.623315Z",
     "start_time": "2021-12-15T00:46:29.290016Z"
    }
   },
   "outputs": [],
   "source": [
    "accidents_complete.to_csv('accidents-2011-2021-cleaned.csv',index=False)"
   ]
  },
  {
   "cell_type": "markdown",
   "id": "84d6b800",
   "metadata": {},
   "source": [
    "# Getting global info (total of flight and passengers)"
   ]
  },
  {
   "cell_type": "code",
   "execution_count": 227,
   "id": "a927f89a",
   "metadata": {
    "ExecuteTime": {
     "end_time": "2021-12-14T19:40:12.198304Z",
     "start_time": "2021-12-14T19:40:12.180351Z"
    }
   },
   "outputs": [],
   "source": [
    "passengers = {'year':[2011, 2012, 2013, 2014, 2015, 2016, 2017, 2018, 2019, 2020, 2021], \n",
    "'total_passengers':[2859000000, 2991000000, 3145000000, 3328000000, 3569000000, 3817000000, 4095000000, 4378000000, 4543000000, 4723000000, 2277000000], \n",
    "'total_flights':[38000000, ]}"
   ]
  },
  {
   "cell_type": "code",
   "execution_count": 316,
   "id": "de88f6e8",
   "metadata": {
    "ExecuteTime": {
     "end_time": "2021-12-15T00:46:33.643695Z",
     "start_time": "2021-12-15T00:46:32.867198Z"
    }
   },
   "outputs": [
    {
     "data": {
      "text/html": [
       "<div>\n",
       "<style scoped>\n",
       "    .dataframe tbody tr th:only-of-type {\n",
       "        vertical-align: middle;\n",
       "    }\n",
       "\n",
       "    .dataframe tbody tr th {\n",
       "        vertical-align: top;\n",
       "    }\n",
       "\n",
       "    .dataframe thead th {\n",
       "        text-align: right;\n",
       "    }\n",
       "</style>\n",
       "<table border=\"1\" class=\"dataframe\">\n",
       "  <thead>\n",
       "    <tr style=\"text-align: right;\">\n",
       "      <th></th>\n",
       "      <th>date</th>\n",
       "      <th>type</th>\n",
       "      <th>registration</th>\n",
       "      <th>operator</th>\n",
       "      <th>fat.</th>\n",
       "      <th>location</th>\n",
       "      <th>url</th>\n",
       "      <th>phase</th>\n",
       "      <th>aircraft_damage</th>\n",
       "      <th>classification</th>\n",
       "      <th>narrative</th>\n",
       "      <th>nature</th>\n",
       "      <th>inv_agency</th>\n",
       "    </tr>\n",
       "  </thead>\n",
       "  <tbody>\n",
       "    <tr>\n",
       "      <th>0</th>\n",
       "      <td>01-JAN-2011</td>\n",
       "      <td>Tupolev Tu-154B-2</td>\n",
       "      <td>RA-85588</td>\n",
       "      <td>Kolavia</td>\n",
       "      <td>3</td>\n",
       "      <td>Surgut Airpo...</td>\n",
       "      <td>https://aviation-safety.net/database/record.ph...</td>\n",
       "      <td>Standing (STD)</td>\n",
       "      <td>Destroyed</td>\n",
       "      <td>Damaged on the ground</td>\n",
       "      <td>A Tupolev 154B-2 passenger jet, registered RA-...</td>\n",
       "      <td>Domestic Scheduled Passenger</td>\n",
       "      <td>MAK</td>\n",
       "    </tr>\n",
       "    <tr>\n",
       "      <th>1</th>\n",
       "      <td>03-JAN-2011</td>\n",
       "      <td>Beech B200 King Air</td>\n",
       "      <td>C-GSAU</td>\n",
       "      <td>Saskatchewan Gvt.</td>\n",
       "      <td>0</td>\n",
       "      <td>Maple Creek ...</td>\n",
       "      <td>https://aviation-safety.net/database/record.ph...</td>\n",
       "      <td>Landing (LDG)</td>\n",
       "      <td>Substantial</td>\n",
       "      <td>Runway excursion</td>\n",
       "      <td>A Beechcraft B200 King Air, C-GSAU, sustained ...</td>\n",
       "      <td>Ambulance</td>\n",
       "      <td>TSB Canada</td>\n",
       "    </tr>\n",
       "    <tr>\n",
       "      <th>2</th>\n",
       "      <td>03-JAN-2011</td>\n",
       "      <td>Boeing 737-823 (WL)</td>\n",
       "      <td>N831NN</td>\n",
       "      <td>American Airlines</td>\n",
       "      <td>0</td>\n",
       "      <td>Los Angeles ...</td>\n",
       "      <td>https://aviation-safety.net/database/record.ph...</td>\n",
       "      <td>Takeoff (TOF)</td>\n",
       "      <td>Substantial</td>\n",
       "      <td>Tailstrike Runway mishap</td>\n",
       "      <td>American Airlines flight 1586, a Boeing 737-80...</td>\n",
       "      <td>International Scheduled Passenger</td>\n",
       "      <td>NTSB</td>\n",
       "    </tr>\n",
       "    <tr>\n",
       "      <th>3</th>\n",
       "      <td>05-JAN-2011</td>\n",
       "      <td>Boeing 737-8F2 (WL)</td>\n",
       "      <td>TC-JGZ</td>\n",
       "      <td>THY</td>\n",
       "      <td>0</td>\n",
       "      <td>Istanbul Ata...</td>\n",
       "      <td>https://aviation-safety.net/database/record.ph...</td>\n",
       "      <td>En route (ENR)</td>\n",
       "      <td>None</td>\n",
       "      <td>Hijack</td>\n",
       "      <td>A 40 year old man attempted hijack Flight 1754...</td>\n",
       "      <td>International Scheduled Passenger</td>\n",
       "      <td>NaN</td>\n",
       "    </tr>\n",
       "    <tr>\n",
       "      <th>4</th>\n",
       "      <td>06-JAN-2011</td>\n",
       "      <td>Learjet 35A</td>\n",
       "      <td>N800GP</td>\n",
       "      <td>Priester Aviation</td>\n",
       "      <td>0</td>\n",
       "      <td>Springfield-...</td>\n",
       "      <td>https://aviation-safety.net/database/record.ph...</td>\n",
       "      <td>Landing (LDG)</td>\n",
       "      <td>Damaged beyond repair</td>\n",
       "      <td>Icing Loss of control</td>\n",
       "      <td>A Learjet 35A corporate jet, registered N800GP...</td>\n",
       "      <td>Executive</td>\n",
       "      <td>NTSB</td>\n",
       "    </tr>\n",
       "    <tr>\n",
       "      <th>...</th>\n",
       "      <td>...</td>\n",
       "      <td>...</td>\n",
       "      <td>...</td>\n",
       "      <td>...</td>\n",
       "      <td>...</td>\n",
       "      <td>...</td>\n",
       "      <td>...</td>\n",
       "      <td>...</td>\n",
       "      <td>...</td>\n",
       "      <td>...</td>\n",
       "      <td>...</td>\n",
       "      <td>...</td>\n",
       "      <td>...</td>\n",
       "    </tr>\n",
       "    <tr>\n",
       "      <th>2187</th>\n",
       "      <td>13-NOV-2021</td>\n",
       "      <td>BN-2A-6 Islander</td>\n",
       "      <td>N866JA</td>\n",
       "      <td>Island Airways</td>\n",
       "      <td>4</td>\n",
       "      <td>near Beaver Islan...</td>\n",
       "      <td>https://aviation-safety.net/database/record.ph...</td>\n",
       "      <td>Approach (APR)</td>\n",
       "      <td>Destroyed</td>\n",
       "      <td>NaN</td>\n",
       "      <td>A Britten-Norman BN-2A Islander, was destroyed...</td>\n",
       "      <td>Domestic Non Scheduled Passenger</td>\n",
       "      <td>NTSB</td>\n",
       "    </tr>\n",
       "    <tr>\n",
       "      <th>2188</th>\n",
       "      <td>14-NOV-2021</td>\n",
       "      <td>IAI 1125 Astra SP</td>\n",
       "      <td>N771DX</td>\n",
       "      <td>EMD Astra Holdings LLC</td>\n",
       "      <td>0</td>\n",
       "      <td>Las Vegas-No...</td>\n",
       "      <td>https://aviation-safety.net/database/record.ph...</td>\n",
       "      <td>Landing (LDG)</td>\n",
       "      <td>Substantial</td>\n",
       "      <td>Runway excursion</td>\n",
       "      <td>An IAI 1125 Astra SP jet, N771DX, sustained su...</td>\n",
       "      <td>Private</td>\n",
       "      <td>NaN</td>\n",
       "    </tr>\n",
       "    <tr>\n",
       "      <th>2189</th>\n",
       "      <td>29-NOV-2021</td>\n",
       "      <td>Boeing 747-4B5F</td>\n",
       "      <td>N705CK</td>\n",
       "      <td>Kalitta Air</td>\n",
       "      <td>0</td>\n",
       "      <td>between Sant...</td>\n",
       "      <td>https://aviation-safety.net/database/record.ph...</td>\n",
       "      <td>En route (ENR)</td>\n",
       "      <td>Substantial</td>\n",
       "      <td>NaN</td>\n",
       "      <td>Kalitta Air flight K4538A, a Boeing 747-4B5F, ...</td>\n",
       "      <td>Cargo</td>\n",
       "      <td>NTSB</td>\n",
       "    </tr>\n",
       "    <tr>\n",
       "      <th>2190</th>\n",
       "      <td>01-DEC-2021</td>\n",
       "      <td>Cessna 208 Caravan I</td>\n",
       "      <td>N9602F</td>\n",
       "      <td>Lake &amp; Peninsula Airlines</td>\n",
       "      <td>0</td>\n",
       "      <td>near Port Alswort...</td>\n",
       "      <td>https://aviation-safety.net/database/record.ph...</td>\n",
       "      <td>Approach (APR)</td>\n",
       "      <td>Substantial</td>\n",
       "      <td>NaN</td>\n",
       "      <td>The Cessna 208 Caravan I crashed into trees on...</td>\n",
       "      <td>Unknown</td>\n",
       "      <td>NaN</td>\n",
       "    </tr>\n",
       "    <tr>\n",
       "      <th>2191</th>\n",
       "      <td>01-DEC-2021</td>\n",
       "      <td>Cessna 510 Citation Mustang</td>\n",
       "      <td>N81CB</td>\n",
       "      <td>private</td>\n",
       "      <td>0</td>\n",
       "      <td>Lake Havasu ...</td>\n",
       "      <td>https://aviation-safety.net/database/record.ph...</td>\n",
       "      <td>Landing (LDG)</td>\n",
       "      <td>Substantial</td>\n",
       "      <td>Gear-up landing Runway mishap</td>\n",
       "      <td>The aircraft landed gearup at Lake Havasu City...</td>\n",
       "      <td>Private</td>\n",
       "      <td>NaN</td>\n",
       "    </tr>\n",
       "  </tbody>\n",
       "</table>\n",
       "<p>2192 rows × 13 columns</p>\n",
       "</div>"
      ],
      "text/plain": [
       "             date                         type registration  \\\n",
       "0     01-JAN-2011            Tupolev Tu-154B-2     RA-85588   \n",
       "1     03-JAN-2011          Beech B200 King Air       C-GSAU   \n",
       "2     03-JAN-2011          Boeing 737-823 (WL)       N831NN   \n",
       "3     05-JAN-2011          Boeing 737-8F2 (WL)       TC-JGZ   \n",
       "4     06-JAN-2011                  Learjet 35A       N800GP   \n",
       "...           ...                          ...          ...   \n",
       "2187  13-NOV-2021             BN-2A-6 Islander       N866JA   \n",
       "2188  14-NOV-2021            IAI 1125 Astra SP       N771DX   \n",
       "2189  29-NOV-2021              Boeing 747-4B5F       N705CK   \n",
       "2190  01-DEC-2021         Cessna 208 Caravan I       N9602F   \n",
       "2191  01-DEC-2021  Cessna 510 Citation Mustang        N81CB   \n",
       "\n",
       "                       operator fat.              location  \\\n",
       "0                       Kolavia    3       Surgut Airpo...   \n",
       "1             Saskatchewan Gvt.    0       Maple Creek ...   \n",
       "2             American Airlines    0       Los Angeles ...   \n",
       "3                           THY    0       Istanbul Ata...   \n",
       "4             Priester Aviation    0       Springfield-...   \n",
       "...                         ...  ...                   ...   \n",
       "2187             Island Airways    4  near Beaver Islan...   \n",
       "2188     EMD Astra Holdings LLC    0       Las Vegas-No...   \n",
       "2189                Kalitta Air    0       between Sant...   \n",
       "2190  Lake & Peninsula Airlines    0  near Port Alswort...   \n",
       "2191                    private    0       Lake Havasu ...   \n",
       "\n",
       "                                                    url           phase  \\\n",
       "0     https://aviation-safety.net/database/record.ph...  Standing (STD)   \n",
       "1     https://aviation-safety.net/database/record.ph...   Landing (LDG)   \n",
       "2     https://aviation-safety.net/database/record.ph...   Takeoff (TOF)   \n",
       "3     https://aviation-safety.net/database/record.ph...  En route (ENR)   \n",
       "4     https://aviation-safety.net/database/record.ph...   Landing (LDG)   \n",
       "...                                                 ...             ...   \n",
       "2187  https://aviation-safety.net/database/record.ph...  Approach (APR)   \n",
       "2188  https://aviation-safety.net/database/record.ph...   Landing (LDG)   \n",
       "2189  https://aviation-safety.net/database/record.ph...  En route (ENR)   \n",
       "2190  https://aviation-safety.net/database/record.ph...  Approach (APR)   \n",
       "2191  https://aviation-safety.net/database/record.ph...   Landing (LDG)   \n",
       "\n",
       "            aircraft_damage                 classification  \\\n",
       "0                 Destroyed          Damaged on the ground   \n",
       "1               Substantial               Runway excursion   \n",
       "2               Substantial       Tailstrike Runway mishap   \n",
       "3                      None                         Hijack   \n",
       "4     Damaged beyond repair          Icing Loss of control   \n",
       "...                     ...                            ...   \n",
       "2187              Destroyed                            NaN   \n",
       "2188            Substantial               Runway excursion   \n",
       "2189            Substantial                            NaN   \n",
       "2190            Substantial                            NaN   \n",
       "2191            Substantial  Gear-up landing Runway mishap   \n",
       "\n",
       "                                              narrative  \\\n",
       "0     A Tupolev 154B-2 passenger jet, registered RA-...   \n",
       "1     A Beechcraft B200 King Air, C-GSAU, sustained ...   \n",
       "2     American Airlines flight 1586, a Boeing 737-80...   \n",
       "3     A 40 year old man attempted hijack Flight 1754...   \n",
       "4     A Learjet 35A corporate jet, registered N800GP...   \n",
       "...                                                 ...   \n",
       "2187  A Britten-Norman BN-2A Islander, was destroyed...   \n",
       "2188  An IAI 1125 Astra SP jet, N771DX, sustained su...   \n",
       "2189  Kalitta Air flight K4538A, a Boeing 747-4B5F, ...   \n",
       "2190  The Cessna 208 Caravan I crashed into trees on...   \n",
       "2191  The aircraft landed gearup at Lake Havasu City...   \n",
       "\n",
       "                                 nature   inv_agency  \n",
       "0          Domestic Scheduled Passenger         MAK   \n",
       "1                             Ambulance  TSB Canada   \n",
       "2     International Scheduled Passenger        NTSB   \n",
       "3     International Scheduled Passenger          NaN  \n",
       "4                             Executive        NTSB   \n",
       "...                                 ...          ...  \n",
       "2187   Domestic Non Scheduled Passenger        NTSB   \n",
       "2188                            Private          NaN  \n",
       "2189                              Cargo        NTSB   \n",
       "2190                            Unknown          NaN  \n",
       "2191                            Private          NaN  \n",
       "\n",
       "[2192 rows x 13 columns]"
      ]
     },
     "execution_count": 316,
     "metadata": {},
     "output_type": "execute_result"
    }
   ],
   "source": [
    "pd.read_csv('accidents-2011-2021-cleaned.csv')"
   ]
  }
 ],
 "metadata": {
  "kernelspec": {
   "display_name": "Python 3",
   "language": "python",
   "name": "python3"
  },
  "language_info": {
   "codemirror_mode": {
    "name": "ipython",
    "version": 3
   },
   "file_extension": ".py",
   "mimetype": "text/x-python",
   "name": "python",
   "nbconvert_exporter": "python",
   "pygments_lexer": "ipython3",
   "version": "3.8.8"
  },
  "toc": {
   "base_numbering": 1,
   "nav_menu": {},
   "number_sections": true,
   "sideBar": true,
   "skip_h1_title": false,
   "title_cell": "Table of Contents",
   "title_sidebar": "Contents",
   "toc_cell": false,
   "toc_position": {},
   "toc_section_display": true,
   "toc_window_display": false
  },
  "varInspector": {
   "cols": {
    "lenName": 16,
    "lenType": 16,
    "lenVar": 40
   },
   "kernels_config": {
    "python": {
     "delete_cmd_postfix": "",
     "delete_cmd_prefix": "del ",
     "library": "var_list.py",
     "varRefreshCmd": "print(var_dic_list())"
    },
    "r": {
     "delete_cmd_postfix": ") ",
     "delete_cmd_prefix": "rm(",
     "library": "var_list.r",
     "varRefreshCmd": "cat(var_dic_list()) "
    }
   },
   "types_to_exclude": [
    "module",
    "function",
    "builtin_function_or_method",
    "instance",
    "_Feature"
   ],
   "window_display": false
  }
 },
 "nbformat": 4,
 "nbformat_minor": 5
}
